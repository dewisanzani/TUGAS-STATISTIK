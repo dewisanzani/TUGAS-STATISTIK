{
  "nbformat": 4,
  "nbformat_minor": 0,
  "metadata": {
    "colab": {
      "name": "UTS- Dewi Septia",
      "provenance": [],
      "collapsed_sections": [],
      "toc_visible": true
    },
    "kernelspec": {
      "name": "python3",
      "display_name": "Python 3"
    },
    "language_info": {
      "name": "python"
    }
  },
  "cells": [
    {
      "cell_type": "markdown",
      "metadata": {
        "id": "view-in-github"
      },
      "source": [
        "<a href=\"https://colab.research.google.com/github/syamsulrizal123/SLO/blob/main/scene_dataset_using_ANN.ipynb\" target=\"_parent\"><img src=\"https://colab.research.google.com/assets/colab-badge.svg\" alt=\"Open In Colab\"/></a>"
      ]
    },
    {
      "cell_type": "code",
      "metadata": {
        "colab": {
          "base_uri": "https://localhost:8080/"
        },
        "id": "N7V7EexxuY0O",
        "outputId": "8215a279-2bda-4b6a-ff25-9ed8567fa0a9"
      },
      "source": [
        "cd /content/drive/MyDrive/Colab Notebooks "
      ],
      "execution_count": 3,
      "outputs": [
        {
          "output_type": "stream",
          "text": [
            "/content/drive/MyDrive/Colab Notebooks\n"
          ],
          "name": "stdout"
        }
      ]
    },
    {
      "cell_type": "code",
      "metadata": {
        "colab": {
          "base_uri": "https://localhost:8080/"
        },
        "id": "Ikj0FrHX_Ds0",
        "outputId": "a52c02d2-5707-45d0-ce1e-454d2be010be"
      },
      "source": [
        "from google.colab import drive\n",
        "drive.mount('/content/drive')"
      ],
      "execution_count": 1,
      "outputs": [
        {
          "output_type": "stream",
          "text": [
            "Mounted at /content/drive\n"
          ],
          "name": "stdout"
        }
      ]
    },
    {
      "cell_type": "code",
      "metadata": {
        "id": "bR2GymhI8AOA",
        "colab": {
          "base_uri": "https://localhost:8080/"
        },
        "outputId": "0cc83fae-16da-422b-a3a2-022cb8f7f597"
      },
      "source": [
        "ls"
      ],
      "execution_count": 4,
      "outputs": [
        {
          "output_type": "stream",
          "text": [
            " \u001b[0m\u001b[01;34m3scene\u001b[0m/                                       Simple_ANN_in_Python.ipynb\n",
            " classify_iris_ANN.ipynb                       Tugas2.ipynb\n",
            " data_cancer.csv                              'UTS- Dewi Septia.ipynb'\n",
            "'Salinan dari scene_dataset using ANN.ipynb'\n"
          ],
          "name": "stdout"
        }
      ]
    },
    {
      "cell_type": "code",
      "metadata": {
        "id": "oJnslb2pulgX"
      },
      "source": [
        "# import the necessary packages\n",
        "from keras.models import Sequential\n",
        "from keras.layers.core import Activation\n",
        "from keras.layers.core import Flatten\n",
        "from keras.layers.core import Dense\n",
        "from keras.optimizers import Adam\n",
        "from sklearn.preprocessing import LabelBinarizer\n",
        "from sklearn.model_selection import train_test_split\n",
        "from sklearn.metrics import classification_report\n",
        "from PIL import Image\n",
        "from imutils import paths\n",
        "import numpy as np\n",
        "import os"
      ],
      "execution_count": 154,
      "outputs": []
    },
    {
      "cell_type": "code",
      "metadata": {
        "colab": {
          "base_uri": "https://localhost:8080/"
        },
        "id": "sLzkrIF_uo82",
        "outputId": "32e529ec-f349-45ad-9fa7-137188adabc7"
      },
      "source": [
        "# grab all image paths in the input dataset directory, then initialize\n",
        "# our list of images and corresponding class labels\n",
        "print(\"[INFO] loading images...\")\n",
        "imagePaths = paths.list_images(\"3scene\")\n",
        "data = []\n",
        "labels = []"
      ],
      "execution_count": 155,
      "outputs": [
        {
          "output_type": "stream",
          "text": [
            "[INFO] loading images...\n"
          ],
          "name": "stdout"
        }
      ]
    },
    {
      "cell_type": "code",
      "metadata": {
        "id": "t-rAxV5guqVf"
      },
      "source": [
        "# loop over our input images\n",
        "for imagePath in imagePaths:\n",
        "\t# load the input image from disk, resize it to 64x64 pixels, scale\n",
        "\t# the pixel intensities to the range [0, 1], and then update our\n",
        "\t# images list\n",
        "\timage = Image.open(imagePath)\n",
        " #bisa pasang preprocessing disini jika mau, seperti filterring, dll\n",
        "\timage = np.array(image.resize((16, 16))) / 255.0 #normalisasi\n",
        "\tdata.append(image)\n",
        "\n",
        "\t# extract the class label from the file path and update the\n",
        "\t# labels list\n",
        "\tlabel = imagePath.split(os.path.sep)[-2]\n",
        "\tlabels.append(label)"
      ],
      "execution_count": 156,
      "outputs": []
    },
    {
      "cell_type": "code",
      "metadata": {
        "colab": {
          "base_uri": "https://localhost:8080/"
        },
        "id": "le4zk9atu1vn",
        "outputId": "642d5850-8671-438e-dcb7-76215f230b32"
      },
      "source": [
        "print(labels)"
      ],
      "execution_count": 157,
      "outputs": [
        {
          "output_type": "stream",
          "text": [
            "['forest', 'forest', 'forest', 'forest', 'forest', 'forest', 'forest', 'forest', 'forest', 'forest', 'forest', 'forest', 'forest', 'forest', 'forest', 'forest', 'forest', 'forest', 'forest', 'forest', 'forest', 'forest', 'forest', 'forest', 'forest', 'forest', 'forest', 'forest', 'forest', 'forest', 'forest', 'forest', 'forest', 'forest', 'forest', 'forest', 'forest', 'forest', 'forest', 'forest', 'forest', 'forest', 'forest', 'forest', 'forest', 'forest', 'forest', 'forest', 'forest', 'forest', 'forest', 'forest', 'forest', 'forest', 'forest', 'forest', 'forest', 'forest', 'forest', 'forest', 'forest', 'forest', 'forest', 'forest', 'forest', 'forest', 'forest', 'forest', 'forest', 'forest', 'forest', 'forest', 'forest', 'forest', 'forest', 'forest', 'forest', 'forest', 'forest', 'forest', 'forest', 'forest', 'forest', 'forest', 'forest', 'forest', 'forest', 'forest', 'forest', 'forest', 'forest', 'forest', 'forest', 'forest', 'forest', 'forest', 'forest', 'forest', 'forest', 'forest', 'forest', 'forest', 'forest', 'forest', 'forest', 'forest', 'forest', 'forest', 'forest', 'forest', 'forest', 'forest', 'forest', 'forest', 'forest', 'forest', 'forest', 'forest', 'forest', 'forest', 'forest', 'forest', 'forest', 'forest', 'forest', 'forest', 'forest', 'forest', 'forest', 'forest', 'forest', 'forest', 'forest', 'forest', 'forest', 'forest', 'forest', 'forest', 'forest', 'forest', 'forest', 'forest', 'forest', 'forest', 'forest', 'forest', 'forest', 'forest', 'forest', 'forest', 'forest', 'forest', 'forest', 'forest', 'forest', 'forest', 'forest', 'forest', 'forest', 'forest', 'forest', 'forest', 'forest', 'forest', 'forest', 'forest', 'forest', 'forest', 'forest', 'forest', 'forest', 'forest', 'forest', 'forest', 'forest', 'forest', 'forest', 'forest', 'forest', 'forest', 'forest', 'forest', 'forest', 'forest', 'forest', 'forest', 'forest', 'forest', 'forest', 'forest', 'forest', 'forest', 'forest', 'forest', 'forest', 'forest', 'forest', 'forest', 'forest', 'forest', 'forest', 'forest', 'forest', 'forest', 'forest', 'forest', 'forest', 'forest', 'forest', 'forest', 'forest', 'forest', 'forest', 'forest', 'forest', 'forest', 'forest', 'forest', 'forest', 'forest', 'forest', 'forest', 'forest', 'forest', 'forest', 'forest', 'forest', 'forest', 'forest', 'forest', 'forest', 'forest', 'forest', 'forest', 'forest', 'forest', 'forest', 'forest', 'forest', 'forest', 'forest', 'forest', 'forest', 'forest', 'forest', 'forest', 'forest', 'forest', 'forest', 'forest', 'forest', 'forest', 'forest', 'forest', 'forest', 'forest', 'forest', 'forest', 'forest', 'forest', 'forest', 'forest', 'forest', 'forest', 'forest', 'forest', 'forest', 'forest', 'forest', 'forest', 'forest', 'forest', 'forest', 'forest', 'forest', 'forest', 'forest', 'forest', 'forest', 'forest', 'forest', 'forest', 'forest', 'forest', 'forest', 'forest', 'forest', 'forest', 'forest', 'forest', 'forest', 'forest', 'forest', 'forest', 'forest', 'forest', 'forest', 'forest', 'forest', 'forest', 'forest', 'forest', 'forest', 'forest', 'forest', 'forest', 'forest', 'forest', 'forest', 'forest', 'forest', 'forest', 'forest', 'forest', 'forest', 'forest', 'forest', 'forest', 'forest', 'forest', 'forest', 'forest', 'forest', 'forest', 'forest', 'forest', 'forest', 'forest', 'highway', 'highway', 'highway', 'highway', 'highway', 'highway', 'highway', 'highway', 'highway', 'highway', 'highway', 'highway', 'highway', 'highway', 'highway', 'highway', 'highway', 'highway', 'highway', 'highway', 'highway', 'highway', 'highway', 'highway', 'highway', 'highway', 'highway', 'highway', 'highway', 'highway', 'highway', 'highway', 'highway', 'highway', 'highway', 'highway', 'highway', 'highway', 'highway', 'highway', 'highway', 'highway', 'highway', 'highway', 'highway', 'highway', 'highway', 'highway', 'highway', 'highway', 'highway', 'highway', 'highway', 'highway', 'highway', 'highway', 'highway', 'highway', 'highway', 'highway', 'highway', 'highway', 'highway', 'highway', 'highway', 'highway', 'highway', 'highway', 'highway', 'highway', 'highway', 'highway', 'highway', 'highway', 'highway', 'highway', 'highway', 'highway', 'highway', 'highway', 'highway', 'highway', 'highway', 'highway', 'highway', 'highway', 'highway', 'highway', 'highway', 'highway', 'highway', 'highway', 'highway', 'highway', 'highway', 'highway', 'highway', 'highway', 'highway', 'highway', 'highway', 'highway', 'highway', 'highway', 'highway', 'highway', 'highway', 'highway', 'highway', 'highway', 'highway', 'highway', 'highway', 'highway', 'highway', 'highway', 'highway', 'highway', 'highway', 'highway', 'highway', 'highway', 'highway', 'highway', 'highway', 'highway', 'highway', 'highway', 'highway', 'highway', 'highway', 'highway', 'highway', 'highway', 'highway', 'highway', 'highway', 'highway', 'highway', 'highway', 'highway', 'highway', 'highway', 'highway', 'highway', 'highway', 'highway', 'highway', 'highway', 'highway', 'highway', 'highway', 'highway', 'highway', 'highway', 'highway', 'highway', 'highway', 'highway', 'highway', 'highway', 'highway', 'highway', 'highway', 'highway', 'highway', 'highway', 'highway', 'highway', 'highway', 'highway', 'highway', 'highway', 'highway', 'highway', 'highway', 'highway', 'highway', 'highway', 'highway', 'highway', 'highway', 'highway', 'highway', 'highway', 'highway', 'highway', 'highway', 'highway', 'highway', 'highway', 'highway', 'highway', 'highway', 'highway', 'highway', 'highway', 'highway', 'highway', 'highway', 'highway', 'highway', 'highway', 'highway', 'highway', 'highway', 'highway', 'highway', 'highway', 'highway', 'highway', 'highway', 'highway', 'highway', 'highway', 'highway', 'highway', 'highway', 'highway', 'highway', 'highway', 'highway', 'highway', 'highway', 'highway', 'highway', 'highway', 'highway', 'highway', 'highway', 'highway', 'highway', 'highway', 'highway', 'highway', 'highway', 'highway', 'highway', 'highway', 'highway', 'highway', 'highway', 'highway', 'highway', 'highway', 'highway', 'highway', 'highway', 'highway', 'highway', 'highway', 'highway', 'highway', 'highway', 'highway', 'highway', 'highway', 'highway', 'highway', 'highway', 'coast', 'coast', 'coast', 'coast', 'coast', 'coast', 'coast', 'coast', 'coast', 'coast', 'coast', 'coast', 'coast', 'coast', 'coast', 'coast', 'coast', 'coast', 'coast', 'coast', 'coast', 'coast', 'coast', 'coast', 'coast', 'coast', 'coast', 'coast', 'coast', 'coast', 'coast', 'coast', 'coast', 'coast', 'coast', 'coast', 'coast', 'coast', 'coast', 'coast', 'coast', 'coast', 'coast', 'coast', 'coast', 'coast', 'coast', 'coast', 'coast', 'coast', 'coast', 'coast', 'coast', 'coast', 'coast', 'coast', 'coast', 'coast', 'coast', 'coast', 'coast', 'coast', 'coast', 'coast', 'coast', 'coast', 'coast', 'coast', 'coast', 'coast', 'coast', 'coast', 'coast', 'coast', 'coast', 'coast', 'coast', 'coast', 'coast', 'coast', 'coast', 'coast', 'coast', 'coast', 'coast', 'coast', 'coast', 'coast', 'coast', 'coast', 'coast', 'coast', 'coast', 'coast', 'coast', 'coast', 'coast', 'coast', 'coast', 'coast', 'coast', 'coast', 'coast', 'coast', 'coast', 'coast', 'coast', 'coast', 'coast', 'coast', 'coast', 'coast', 'coast', 'coast', 'coast', 'coast', 'coast', 'coast', 'coast', 'coast', 'coast', 'coast', 'coast', 'coast', 'coast', 'coast', 'coast', 'coast', 'coast', 'coast', 'coast', 'coast', 'coast', 'coast', 'coast', 'coast', 'coast', 'coast', 'coast', 'coast', 'coast', 'coast', 'coast', 'coast', 'coast', 'coast', 'coast', 'coast', 'coast', 'coast', 'coast', 'coast', 'coast', 'coast', 'coast', 'coast', 'coast', 'coast', 'coast', 'coast', 'coast', 'coast', 'coast', 'coast', 'coast', 'coast', 'coast', 'coast', 'coast', 'coast', 'coast', 'coast', 'coast', 'coast', 'coast', 'coast', 'coast', 'coast', 'coast', 'coast', 'coast', 'coast', 'coast', 'coast', 'coast', 'coast', 'coast', 'coast', 'coast', 'coast', 'coast', 'coast', 'coast', 'coast', 'coast', 'coast', 'coast', 'coast', 'coast', 'coast', 'coast', 'coast', 'coast', 'coast', 'coast', 'coast', 'coast', 'coast', 'coast', 'coast', 'coast', 'coast', 'coast', 'coast', 'coast', 'coast', 'coast', 'coast', 'coast', 'coast', 'coast', 'coast', 'coast', 'coast', 'coast', 'coast', 'coast', 'coast', 'coast', 'coast', 'coast', 'coast', 'coast', 'coast', 'coast', 'coast', 'coast', 'coast', 'coast', 'coast', 'coast', 'coast', 'coast', 'coast', 'coast', 'coast', 'coast', 'coast', 'coast', 'coast', 'coast', 'coast', 'coast', 'coast', 'coast', 'coast', 'coast', 'coast', 'coast', 'coast', 'coast', 'coast', 'coast', 'coast', 'coast', 'coast', 'coast', 'coast', 'coast', 'coast', 'coast', 'coast', 'coast', 'coast', 'coast', 'coast', 'coast', 'coast', 'coast', 'coast', 'coast', 'coast', 'coast', 'coast', 'coast', 'coast', 'coast', 'coast', 'coast', 'coast', 'coast', 'coast', 'coast', 'coast', 'coast', 'coast', 'coast', 'coast', 'coast', 'coast', 'coast', 'coast', 'coast', 'coast', 'coast', 'coast', 'coast', 'coast', 'coast', 'coast', 'coast', 'coast', 'coast', 'coast', 'coast', 'coast', 'coast', 'coast', 'coast', 'coast', 'coast', 'coast', 'coast', 'coast', 'coast', 'coast', 'coast', 'coast', 'coast', 'coast', 'coast', 'coast', 'coast', 'coast', 'coast', 'coast', 'coast', 'coast', 'coast', 'coast', 'coast', 'coast', 'coast', 'coast', 'coast', 'coast', 'coast', 'coast', 'coast', 'coast', 'coast', 'coast', 'coast', 'coast', 'coast', 'coast', 'coast', 'coast', 'coast', 'coast']\n"
          ],
          "name": "stdout"
        }
      ]
    },
    {
      "cell_type": "code",
      "metadata": {
        "id": "r8yIePMHvx0w"
      },
      "source": [
        "# encode the labels, converting them from strings to integers\n",
        "lb = LabelBinarizer()\n",
        "labels = lb.fit_transform(labels)"
      ],
      "execution_count": 158,
      "outputs": []
    },
    {
      "cell_type": "code",
      "metadata": {
        "id": "5FPCyIqcVGB7",
        "colab": {
          "base_uri": "https://localhost:8080/"
        },
        "outputId": "fbb2417d-a325-471d-a897-b53083085b94"
      },
      "source": [
        "print(labels)"
      ],
      "execution_count": 159,
      "outputs": [
        {
          "output_type": "stream",
          "text": [
            "[[0 1 0]\n",
            " [0 1 0]\n",
            " [0 1 0]\n",
            " ...\n",
            " [1 0 0]\n",
            " [1 0 0]\n",
            " [1 0 0]]\n"
          ],
          "name": "stdout"
        }
      ]
    },
    {
      "cell_type": "code",
      "metadata": {
        "id": "E-xr1UQ9-zhu",
        "colab": {
          "base_uri": "https://localhost:8080/"
        },
        "outputId": "627be151-9cbf-4ee6-ea3a-ba2804b6d943"
      },
      "source": [
        "print(np.array(data).shape)"
      ],
      "execution_count": 160,
      "outputs": [
        {
          "output_type": "stream",
          "text": [
            "(948, 16, 16, 3)\n"
          ],
          "name": "stdout"
        }
      ]
    },
    {
      "cell_type": "code",
      "metadata": {
        "id": "Xr8lG_sDv6tP",
        "colab": {
          "base_uri": "https://localhost:8080/"
        },
        "outputId": "cd585e72-3350-442a-8fcf-9b682a2cd420"
      },
      "source": [
        "# perform a training and testing split, using 75% of the data for\n",
        "# training and 25% for evaluation\n",
        "(trainX, testX, trainY, testY) = train_test_split(np.array(data),\tnp.array(labels), test_size=0.25)\n",
        "print(trainX.shape)\n",
        "print(testX.shape)"
      ],
      "execution_count": 161,
      "outputs": [
        {
          "output_type": "stream",
          "text": [
            "(711, 16, 16, 3)\n",
            "(237, 16, 16, 3)\n"
          ],
          "name": "stdout"
        }
      ]
    },
    {
      "cell_type": "code",
      "metadata": {
        "id": "-jKeOzGSv9mH"
      },
      "source": [
        "from keras.models import Sequential\n",
        "from keras.layers.core import Flatten\n",
        "from keras.layers.core import Dense, Dropout\n",
        "\n",
        "model = Sequential(\n",
        "    [\n",
        "        Flatten(input_shape=(16*16*3,)),\n",
        "     Dense(512, activation=\"relu\"),\n",
        "        Dense(256, activation=\"relu\"),\n",
        "        Dense(128, activation=\"relu\"),\n",
        "        Dropout(0.3),\n",
        "        Dense(64, activation=\"relu\"),\n",
        "        Dense(32, activation=\"relu\"),\n",
        "        Dropout(0.3),\n",
        "        Dense(16, activation=\"relu\"),\n",
        "       Dense(8, activation=\"relu\"),\n",
        "        Dense(4, activation=\"relu\"),\n",
        "        Dense(3, activation = \"softmax\"),\n",
        "    ]\n",
        ")"
      ],
      "execution_count": 172,
      "outputs": []
    },
    {
      "cell_type": "code",
      "metadata": {
        "id": "O2BScVo0wC62",
        "colab": {
          "base_uri": "https://localhost:8080/"
        },
        "outputId": "a4b83cc3-62c9-46f5-be5c-ff7e5af0f1b3"
      },
      "source": [
        "model.summary()"
      ],
      "execution_count": 173,
      "outputs": [
        {
          "output_type": "stream",
          "text": [
            "Model: \"sequential_25\"\n",
            "_________________________________________________________________\n",
            "Layer (type)                 Output Shape              Param #   \n",
            "=================================================================\n",
            "flatten_25 (Flatten)         (None, 768)               0         \n",
            "_________________________________________________________________\n",
            "dense_206 (Dense)            (None, 512)               393728    \n",
            "_________________________________________________________________\n",
            "dense_207 (Dense)            (None, 256)               131328    \n",
            "_________________________________________________________________\n",
            "dense_208 (Dense)            (None, 128)               32896     \n",
            "_________________________________________________________________\n",
            "dropout_50 (Dropout)         (None, 128)               0         \n",
            "_________________________________________________________________\n",
            "dense_209 (Dense)            (None, 64)                8256      \n",
            "_________________________________________________________________\n",
            "dense_210 (Dense)            (None, 32)                2080      \n",
            "_________________________________________________________________\n",
            "dropout_51 (Dropout)         (None, 32)                0         \n",
            "_________________________________________________________________\n",
            "dense_211 (Dense)            (None, 16)                528       \n",
            "_________________________________________________________________\n",
            "dense_212 (Dense)            (None, 8)                 136       \n",
            "_________________________________________________________________\n",
            "dense_213 (Dense)            (None, 4)                 36        \n",
            "_________________________________________________________________\n",
            "dense_214 (Dense)            (None, 3)                 15        \n",
            "=================================================================\n",
            "Total params: 569,003\n",
            "Trainable params: 569,003\n",
            "Non-trainable params: 0\n",
            "_________________________________________________________________\n"
          ],
          "name": "stdout"
        }
      ]
    },
    {
      "cell_type": "code",
      "metadata": {
        "id": "h5MTj5SUwGpG",
        "colab": {
          "base_uri": "https://localhost:8080/"
        },
        "outputId": "39f1a0e8-ca3d-49b7-9df2-9b3307d05013"
      },
      "source": [
        "# train the model using the Adam optimizer\n",
        "print(\"[INFO] training network...\")\n",
        "opt = Adam(lr=1e-3, decay=1e-3)\n",
        "model.compile(loss=\"categorical_crossentropy\", optimizer=opt,\n",
        "\tmetrics=[\"accuracy\"])\n",
        "H = model.fit(trainX, trainY, validation_data=(testX, testY), epochs=50, batch_size=32)"
      ],
      "execution_count": 174,
      "outputs": [
        {
          "output_type": "stream",
          "text": [
            "[INFO] training network...\n",
            "Epoch 1/50\n",
            "WARNING:tensorflow:Model was constructed with shape (None, 768) for input KerasTensor(type_spec=TensorSpec(shape=(None, 768), dtype=tf.float32, name='flatten_25_input'), name='flatten_25_input', description=\"created by layer 'flatten_25_input'\"), but it was called on an input with incompatible shape (None, 16, 16, 3).\n",
            "WARNING:tensorflow:Model was constructed with shape (None, 768) for input KerasTensor(type_spec=TensorSpec(shape=(None, 768), dtype=tf.float32, name='flatten_25_input'), name='flatten_25_input', description=\"created by layer 'flatten_25_input'\"), but it was called on an input with incompatible shape (None, 16, 16, 3).\n",
            "19/23 [=======================>......] - ETA: 0s - loss: 1.1042 - accuracy: 0.3498WARNING:tensorflow:Model was constructed with shape (None, 768) for input KerasTensor(type_spec=TensorSpec(shape=(None, 768), dtype=tf.float32, name='flatten_25_input'), name='flatten_25_input', description=\"created by layer 'flatten_25_input'\"), but it was called on an input with incompatible shape (None, 16, 16, 3).\n",
            "23/23 [==============================] - 1s 22ms/step - loss: 1.1041 - accuracy: 0.3524 - val_loss: 1.0920 - val_accuracy: 0.5105\n",
            "Epoch 2/50\n",
            "23/23 [==============================] - 0s 11ms/step - loss: 1.0880 - accuracy: 0.3707 - val_loss: 1.0996 - val_accuracy: 0.3080\n",
            "Epoch 3/50\n",
            "23/23 [==============================] - 0s 11ms/step - loss: 1.0705 - accuracy: 0.3659 - val_loss: 1.0297 - val_accuracy: 0.6118\n",
            "Epoch 4/50\n",
            "23/23 [==============================] - 0s 11ms/step - loss: 1.0661 - accuracy: 0.4826 - val_loss: 0.9872 - val_accuracy: 0.5907\n",
            "Epoch 5/50\n",
            "23/23 [==============================] - 0s 11ms/step - loss: 1.0162 - accuracy: 0.5081 - val_loss: 0.9355 - val_accuracy: 0.6245\n",
            "Epoch 6/50\n",
            "23/23 [==============================] - 0s 11ms/step - loss: 1.0038 - accuracy: 0.5555 - val_loss: 0.9038 - val_accuracy: 0.5907\n",
            "Epoch 7/50\n",
            "23/23 [==============================] - 0s 11ms/step - loss: 0.9332 - accuracy: 0.6001 - val_loss: 0.9767 - val_accuracy: 0.6034\n",
            "Epoch 8/50\n",
            "23/23 [==============================] - 0s 11ms/step - loss: 0.9379 - accuracy: 0.5871 - val_loss: 0.9941 - val_accuracy: 0.5274\n",
            "Epoch 9/50\n",
            "23/23 [==============================] - 0s 11ms/step - loss: 1.0084 - accuracy: 0.5133 - val_loss: 0.9576 - val_accuracy: 0.5612\n",
            "Epoch 10/50\n",
            "23/23 [==============================] - 0s 12ms/step - loss: 0.9686 - accuracy: 0.5557 - val_loss: 0.9182 - val_accuracy: 0.6498\n",
            "Epoch 11/50\n",
            "23/23 [==============================] - 0s 13ms/step - loss: 0.9196 - accuracy: 0.6336 - val_loss: 0.9731 - val_accuracy: 0.5359\n",
            "Epoch 12/50\n",
            "23/23 [==============================] - 0s 11ms/step - loss: 0.9351 - accuracy: 0.6108 - val_loss: 0.8436 - val_accuracy: 0.5949\n",
            "Epoch 13/50\n",
            "23/23 [==============================] - 0s 11ms/step - loss: 0.8708 - accuracy: 0.6453 - val_loss: 0.8574 - val_accuracy: 0.5992\n",
            "Epoch 14/50\n",
            "23/23 [==============================] - 0s 11ms/step - loss: 0.8555 - accuracy: 0.6941 - val_loss: 0.8116 - val_accuracy: 0.6920\n",
            "Epoch 15/50\n",
            "23/23 [==============================] - 0s 12ms/step - loss: 0.8231 - accuracy: 0.7205 - val_loss: 0.7920 - val_accuracy: 0.6667\n",
            "Epoch 16/50\n",
            "23/23 [==============================] - 0s 12ms/step - loss: 0.8623 - accuracy: 0.6301 - val_loss: 0.9401 - val_accuracy: 0.5485\n",
            "Epoch 17/50\n",
            "23/23 [==============================] - 0s 11ms/step - loss: 0.8403 - accuracy: 0.6847 - val_loss: 0.8165 - val_accuracy: 0.6667\n",
            "Epoch 18/50\n",
            "23/23 [==============================] - 0s 10ms/step - loss: 0.8193 - accuracy: 0.7261 - val_loss: 0.7592 - val_accuracy: 0.7257\n",
            "Epoch 19/50\n",
            "23/23 [==============================] - 0s 10ms/step - loss: 0.8058 - accuracy: 0.7082 - val_loss: 0.7725 - val_accuracy: 0.7089\n",
            "Epoch 20/50\n",
            "23/23 [==============================] - 0s 11ms/step - loss: 0.7723 - accuracy: 0.7452 - val_loss: 0.7883 - val_accuracy: 0.7004\n",
            "Epoch 21/50\n",
            "23/23 [==============================] - 0s 11ms/step - loss: 0.7594 - accuracy: 0.7328 - val_loss: 0.7300 - val_accuracy: 0.7426\n",
            "Epoch 22/50\n",
            "23/23 [==============================] - 0s 10ms/step - loss: 0.7894 - accuracy: 0.7524 - val_loss: 0.7312 - val_accuracy: 0.7342\n",
            "Epoch 23/50\n",
            "23/23 [==============================] - 0s 10ms/step - loss: 0.7040 - accuracy: 0.7696 - val_loss: 0.7823 - val_accuracy: 0.6709\n",
            "Epoch 24/50\n",
            "23/23 [==============================] - 0s 10ms/step - loss: 0.7587 - accuracy: 0.7407 - val_loss: 0.7974 - val_accuracy: 0.7089\n",
            "Epoch 25/50\n",
            "23/23 [==============================] - 0s 10ms/step - loss: 0.7235 - accuracy: 0.7736 - val_loss: 0.6871 - val_accuracy: 0.7764\n",
            "Epoch 26/50\n",
            "23/23 [==============================] - 0s 10ms/step - loss: 0.7115 - accuracy: 0.7664 - val_loss: 0.6691 - val_accuracy: 0.7932\n",
            "Epoch 27/50\n",
            "23/23 [==============================] - 0s 10ms/step - loss: 0.6789 - accuracy: 0.7762 - val_loss: 0.6706 - val_accuracy: 0.7890\n",
            "Epoch 28/50\n",
            "23/23 [==============================] - 0s 11ms/step - loss: 0.6548 - accuracy: 0.8091 - val_loss: 0.6532 - val_accuracy: 0.7890\n",
            "Epoch 29/50\n",
            "23/23 [==============================] - 0s 10ms/step - loss: 0.6197 - accuracy: 0.8338 - val_loss: 0.6683 - val_accuracy: 0.7679\n",
            "Epoch 30/50\n",
            "23/23 [==============================] - 0s 10ms/step - loss: 0.6909 - accuracy: 0.7951 - val_loss: 0.6242 - val_accuracy: 0.8017\n",
            "Epoch 31/50\n",
            "23/23 [==============================] - 0s 9ms/step - loss: 0.6162 - accuracy: 0.8307 - val_loss: 0.6792 - val_accuracy: 0.7511\n",
            "Epoch 32/50\n",
            "23/23 [==============================] - 0s 9ms/step - loss: 0.6255 - accuracy: 0.8243 - val_loss: 0.6504 - val_accuracy: 0.7764\n",
            "Epoch 33/50\n",
            "23/23 [==============================] - 0s 10ms/step - loss: 0.5950 - accuracy: 0.8328 - val_loss: 0.6411 - val_accuracy: 0.7764\n",
            "Epoch 34/50\n",
            "23/23 [==============================] - 0s 10ms/step - loss: 0.5736 - accuracy: 0.8343 - val_loss: 0.6110 - val_accuracy: 0.7764\n",
            "Epoch 35/50\n",
            "23/23 [==============================] - 0s 10ms/step - loss: 0.5881 - accuracy: 0.8343 - val_loss: 0.6647 - val_accuracy: 0.7848\n",
            "Epoch 36/50\n",
            "23/23 [==============================] - 0s 10ms/step - loss: 0.5695 - accuracy: 0.8320 - val_loss: 0.5942 - val_accuracy: 0.8059\n",
            "Epoch 37/50\n",
            "23/23 [==============================] - 0s 11ms/step - loss: 0.5882 - accuracy: 0.8289 - val_loss: 0.6042 - val_accuracy: 0.7975\n",
            "Epoch 38/50\n",
            "23/23 [==============================] - 0s 10ms/step - loss: 0.5018 - accuracy: 0.8889 - val_loss: 0.6197 - val_accuracy: 0.8143\n",
            "Epoch 39/50\n",
            "23/23 [==============================] - 0s 10ms/step - loss: 0.5484 - accuracy: 0.8461 - val_loss: 0.5994 - val_accuracy: 0.8017\n",
            "Epoch 40/50\n",
            "23/23 [==============================] - 0s 10ms/step - loss: 0.5283 - accuracy: 0.8593 - val_loss: 0.6305 - val_accuracy: 0.7848\n",
            "Epoch 41/50\n",
            "23/23 [==============================] - 0s 10ms/step - loss: 0.4874 - accuracy: 0.8913 - val_loss: 0.5644 - val_accuracy: 0.8228\n",
            "Epoch 42/50\n",
            "23/23 [==============================] - 0s 9ms/step - loss: 0.4658 - accuracy: 0.8831 - val_loss: 0.5641 - val_accuracy: 0.8186\n",
            "Epoch 43/50\n",
            "23/23 [==============================] - 0s 10ms/step - loss: 0.5154 - accuracy: 0.8467 - val_loss: 0.6158 - val_accuracy: 0.8186\n",
            "Epoch 44/50\n",
            "23/23 [==============================] - 0s 11ms/step - loss: 0.5309 - accuracy: 0.8655 - val_loss: 0.7013 - val_accuracy: 0.7679\n",
            "Epoch 45/50\n",
            "23/23 [==============================] - 0s 10ms/step - loss: 0.5232 - accuracy: 0.8558 - val_loss: 0.6262 - val_accuracy: 0.8017\n",
            "Epoch 46/50\n",
            "23/23 [==============================] - 0s 10ms/step - loss: 0.4485 - accuracy: 0.8765 - val_loss: 0.6532 - val_accuracy: 0.7975\n",
            "Epoch 47/50\n",
            "23/23 [==============================] - 0s 10ms/step - loss: 0.4968 - accuracy: 0.8740 - val_loss: 0.6446 - val_accuracy: 0.7890\n",
            "Epoch 48/50\n",
            "23/23 [==============================] - 0s 10ms/step - loss: 0.4223 - accuracy: 0.9143 - val_loss: 0.5869 - val_accuracy: 0.8312\n",
            "Epoch 49/50\n",
            "23/23 [==============================] - 0s 10ms/step - loss: 0.4629 - accuracy: 0.8843 - val_loss: 0.6432 - val_accuracy: 0.7806\n",
            "Epoch 50/50\n",
            "23/23 [==============================] - 0s 11ms/step - loss: 0.4656 - accuracy: 0.8755 - val_loss: 0.5835 - val_accuracy: 0.8270\n"
          ],
          "name": "stdout"
        }
      ]
    },
    {
      "cell_type": "code",
      "metadata": {
        "id": "LcE-OzSJwMC-",
        "colab": {
          "base_uri": "https://localhost:8080/",
          "height": 590
        },
        "outputId": "5e53225b-4139-49f4-8716-987db3e5ba38"
      },
      "source": [
        "import matplotlib.pyplot as plt\n",
        "\n",
        "print(H.history.keys())\n",
        "# summarize history for accuracy\n",
        "plt.plot(H.history['accuracy'])\n",
        "plt.plot(H.history['val_accuracy'])\n",
        "plt.title('model accuracy')\n",
        "plt.ylabel('accuracy')\n",
        "plt.xlabel('epoch')\n",
        "plt.legend(['train', 'test'], loc='upper left')\n",
        "plt.show()\n",
        "# summarize history for loss\n",
        "plt.plot(H.history['loss'])\n",
        "plt.plot(H.history['val_loss'])\n",
        "plt.title('model loss')\n",
        "plt.ylabel('loss')\n",
        "plt.xlabel('epoch')\n",
        "plt.legend(['train', 'test'], loc='upper left')\n",
        "plt.show()"
      ],
      "execution_count": 175,
      "outputs": [
        {
          "output_type": "stream",
          "text": [
            "dict_keys(['loss', 'accuracy', 'val_loss', 'val_accuracy'])\n"
          ],
          "name": "stdout"
        },
        {
          "output_type": "display_data",
          "data": {
            "image/png": "[encoded data removed]",
            "text/plain": [
              "<Figure size 432x288 with 1 Axes>"
            ]
          },
          "metadata": {
            "tags": [],
            "needs_background": "light"
          }
        },
        {
          "output_type": "display_data",
          "data": {
            "image/png": "[encoded data removed]",
            "text/plain": [
              "<Figure size 432x288 with 1 Axes>"
            ]
          },
          "metadata": {
            "tags": [],
            "needs_background": "light"
          }
        }
      ]
    },
    {
      "cell_type": "code",
      "metadata": {
        "id": "a-YnZ8-bwmcY",
        "colab": {
          "base_uri": "https://localhost:8080/"
        },
        "outputId": "02808b98-b1ad-450c-bfec-91a120337f66"
      },
      "source": [
        "# evaluate the network\n",
        "print(\"[INFO] evaluating network...\")\n",
        "predictions = model.predict(testX, batch_size=32)\n",
        "print(classification_report(testY.argmax(axis=1),\n",
        "\tpredictions.argmax(axis=1), target_names=lb.classes_))"
      ],
      "execution_count": 176,
      "outputs": [
        {
          "output_type": "stream",
          "text": [
            "[INFO] evaluating network...\n",
            "WARNING:tensorflow:Model was constructed with shape (None, 768) for input KerasTensor(type_spec=TensorSpec(shape=(None, 768), dtype=tf.float32, name='flatten_25_input'), name='flatten_25_input', description=\"created by layer 'flatten_25_input'\"), but it was called on an input with incompatible shape (None, 16, 16, 3).\n",
            "              precision    recall  f1-score   support\n",
            "\n",
            "       coast       0.85      0.80      0.82       105\n",
            "      forest       0.84      0.85      0.84        73\n",
            "     highway       0.78      0.85      0.81        59\n",
            "\n",
            "    accuracy                           0.83       237\n",
            "   macro avg       0.82      0.83      0.83       237\n",
            "weighted avg       0.83      0.83      0.83       237\n",
            "\n"
          ],
          "name": "stdout"
        }
      ]
    },
    {
      "cell_type": "code",
      "metadata": {
        "id": "H7BS5hFtwqXX"
      },
      "source": [
        "import cv2\n",
        "import matplotlib.pyplot as plt\n",
        "\n",
        "gambar = 'test_gambar_highway.jpg'\n",
        "image = cv2.imread(gambar)\n",
        "plt.imshow(image)\n",
        "plt.show()"
      ],
      "execution_count": null,
      "outputs": []
    },
    {
      "cell_type": "code",
      "metadata": {
        "id": "V0c7J64ICBG8"
      },
      "source": [
        "image_test=Image.open(gambar)\n",
        "image_test=np.array(image_test.resize((64,64))) / 255.0\n",
        "image_test.shape"
      ],
      "execution_count": null,
      "outputs": []
    },
    {
      "cell_type": "code",
      "metadata": {
        "id": "6Kn4mu32CTk6"
      },
      "source": [
        "image_test=np.expand_dims(image_test, axis=0)\n",
        "image_test.shape"
      ],
      "execution_count": null,
      "outputs": []
    },
    {
      "cell_type": "code",
      "metadata": {
        "id": "uILM9mJHChia"
      },
      "source": [
        "predict = model.predict(image_test)"
      ],
      "execution_count": null,
      "outputs": []
    },
    {
      "cell_type": "code",
      "metadata": {
        "id": "HGoKE2RSCnRC"
      },
      "source": [
        "print(predict)"
      ],
      "execution_count": null,
      "outputs": []
    },
    {
      "cell_type": "code",
      "metadata": {
        "id": "23ncmY_rCokR"
      },
      "source": [
        "print(lb.classes_[predict.argmax(axis=1)])"
      ],
      "execution_count": null,
      "outputs": []
    },
    {
      "cell_type": "code",
      "metadata": {
        "id": "DU3mEG7EC-pq"
      },
      "source": [
        ""
      ],
      "execution_count": null,
      "outputs": []
    }
  ]
}