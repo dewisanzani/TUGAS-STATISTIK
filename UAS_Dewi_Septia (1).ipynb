{
  "nbformat": 4,
  "nbformat_minor": 0,
  "metadata": {
    "colab": {
      "name": "UAS-Dewi Septia.ipynb",
      "provenance": [],
      "collapsed_sections": []
    },
    "kernelspec": {
      "name": "python3",
      "display_name": "Python 3"
    }
  },
  "cells": [
    {
      "cell_type": "markdown",
      "metadata": {
        "id": "view-in-github"
      },
      "source": [
        "<a href=\"https://colab.research.google.com/github/syamsulrizal123/SLO/blob/main/Iris_Clustering.ipynb\" target=\"_parent\"><img src=\"https://colab.research.google.com/assets/colab-badge.svg\" alt=\"Open In Colab\"/></a>"
      ]
    },
    {
      "cell_type": "code",
      "metadata": {
        "colab": {
          "base_uri": "https://localhost:8080/"
        },
        "id": "XVLhs-Zm0Tpn",
        "outputId": "e614670c-008f-4d33-f109-c5d666ad93d0"
      },
      "source": [
        "cd /content/drive/MyDrive/SLO-main"
      ],
      "execution_count": 223,
      "outputs": [
        {
          "output_type": "stream",
          "text": [
            "/content/drive/MyDrive/SLO-main\n"
          ],
          "name": "stdout"
        }
      ]
    },
    {
      "cell_type": "code",
      "metadata": {
        "colab": {
          "base_uri": "https://localhost:8080/"
        },
        "id": "FdGlIjZy830d",
        "outputId": "76eebe3d-d76c-4fc2-8c48-11050cc039d5"
      },
      "source": [
        "from google.colab import drive\n",
        "drive.mount('/content/drive')"
      ],
      "execution_count": 224,
      "outputs": [
        {
          "output_type": "stream",
          "text": [
            "Drive already mounted at /content/drive; to attempt to forcibly remount, call drive.mount(\"/content/drive\", force_remount=True).\n"
          ],
          "name": "stdout"
        }
      ]
    },
    {
      "cell_type": "code",
      "metadata": {
        "id": "qp3j0Anq04bv",
        "colab": {
          "base_uri": "https://localhost:8080/"
        },
        "outputId": "978fcda7-9dfa-47d6-f184-f19ee064f9d8"
      },
      "source": [
        "ls"
      ],
      "execution_count": 225,
      "outputs": [
        {
          "output_type": "stream",
          "text": [
            "Autocorrelation.ipynb    multiclass_classification_colab.ipynb\n",
            "\u001b[0m\u001b[01;34mbest_weight_scene\u001b[0m/       README.md\n",
            "Cancer_Clustering.ipynb  scene_dataset_using_ANN.ipynb\n",
            "classify_iris_ANN.ipynb  scenes_cnn.ipynb\n",
            "data_cancer.csv          scenes_nn_4_layers.ipynb\n",
            "Iris_Clustering.ipynb    Simple_ANN_in_Python.ipynb\n"
          ],
          "name": "stdout"
        }
      ]
    },
    {
      "cell_type": "code",
      "metadata": {
        "id": "urFtcnWiybXn"
      },
      "source": [
        "\n",
        "import numpy as np\n",
        "import pandas as pd\n",
        "import matplotlib.pyplot as plt\n",
        "from sklearn.cluster import KMeans"
      ],
      "execution_count": 226,
      "outputs": []
    },
    {
      "cell_type": "code",
      "metadata": {
        "colab": {
          "base_uri": "https://localhost:8080/",
          "height": 396
        },
        "id": "0XT-GRzoyhoP",
        "outputId": "35b56fbc-2048-4e2b-bed6-191444388bd9"
      },
      "source": [
        "df = pd.read_csv('data_cancer.csv')\n",
        "df.tail(10)"
      ],
      "execution_count": 227,
      "outputs": [
        {
          "output_type": "execute_result",
          "data": {
            "text/html": [
              "<div>\n",
              "<style scoped>\n",
              "    .dataframe tbody tr th:only-of-type {\n",
              "        vertical-align: middle;\n",
              "    }\n",
              "\n",
              "    .dataframe tbody tr th {\n",
              "        vertical-align: top;\n",
              "    }\n",
              "\n",
              "    .dataframe thead th {\n",
              "        text-align: right;\n",
              "    }\n",
              "</style>\n",
              "<table border=\"1\" class=\"dataframe\">\n",
              "  <thead>\n",
              "    <tr style=\"text-align: right;\">\n",
              "      <th></th>\n",
              "      <th>id</th>\n",
              "      <th>diagnosis</th>\n",
              "      <th>radius_mean</th>\n",
              "      <th>texture_mean</th>\n",
              "      <th>perimeter_mean</th>\n",
              "      <th>area_mean</th>\n",
              "      <th>smoothness_mean</th>\n",
              "      <th>compactness_mean</th>\n",
              "      <th>concavity_mean</th>\n",
              "      <th>concave points_mean</th>\n",
              "      <th>symmetry_mean</th>\n",
              "      <th>fractal_dimension_mean</th>\n",
              "      <th>radius_se</th>\n",
              "      <th>texture_se</th>\n",
              "      <th>perimeter_se</th>\n",
              "      <th>area_se</th>\n",
              "      <th>smoothness_se</th>\n",
              "      <th>compactness_se</th>\n",
              "      <th>concavity_se</th>\n",
              "      <th>concave points_se</th>\n",
              "      <th>symmetry_se</th>\n",
              "      <th>fractal_dimension_se</th>\n",
              "      <th>radius_worst</th>\n",
              "      <th>texture_worst</th>\n",
              "      <th>perimeter_worst</th>\n",
              "      <th>area_worst</th>\n",
              "      <th>smoothness_worst</th>\n",
              "      <th>compactness_worst</th>\n",
              "      <th>concavity_worst</th>\n",
              "      <th>concave points_worst</th>\n",
              "      <th>symmetry_worst</th>\n",
              "      <th>fractal_dimension_worst</th>\n",
              "      <th>Unnamed: 32</th>\n",
              "    </tr>\n",
              "  </thead>\n",
              "  <tbody>\n",
              "    <tr>\n",
              "      <th>559</th>\n",
              "      <td>925291</td>\n",
              "      <td>B</td>\n",
              "      <td>11.51</td>\n",
              "      <td>23.93</td>\n",
              "      <td>74.52</td>\n",
              "      <td>403.5</td>\n",
              "      <td>0.09261</td>\n",
              "      <td>0.10210</td>\n",
              "      <td>0.11120</td>\n",
              "      <td>0.04105</td>\n",
              "      <td>0.1388</td>\n",
              "      <td>0.06570</td>\n",
              "      <td>0.2388</td>\n",
              "      <td>2.904</td>\n",
              "      <td>1.936</td>\n",
              "      <td>16.97</td>\n",
              "      <td>0.008200</td>\n",
              "      <td>0.029820</td>\n",
              "      <td>0.05738</td>\n",
              "      <td>0.01267</td>\n",
              "      <td>0.01488</td>\n",
              "      <td>0.004738</td>\n",
              "      <td>12.480</td>\n",
              "      <td>37.16</td>\n",
              "      <td>82.28</td>\n",
              "      <td>474.2</td>\n",
              "      <td>0.12980</td>\n",
              "      <td>0.25170</td>\n",
              "      <td>0.3630</td>\n",
              "      <td>0.09653</td>\n",
              "      <td>0.2112</td>\n",
              "      <td>0.08732</td>\n",
              "      <td>NaN</td>\n",
              "    </tr>\n",
              "    <tr>\n",
              "      <th>560</th>\n",
              "      <td>925292</td>\n",
              "      <td>B</td>\n",
              "      <td>14.05</td>\n",
              "      <td>27.15</td>\n",
              "      <td>91.38</td>\n",
              "      <td>600.4</td>\n",
              "      <td>0.09929</td>\n",
              "      <td>0.11260</td>\n",
              "      <td>0.04462</td>\n",
              "      <td>0.04304</td>\n",
              "      <td>0.1537</td>\n",
              "      <td>0.06171</td>\n",
              "      <td>0.3645</td>\n",
              "      <td>1.492</td>\n",
              "      <td>2.888</td>\n",
              "      <td>29.84</td>\n",
              "      <td>0.007256</td>\n",
              "      <td>0.026780</td>\n",
              "      <td>0.02071</td>\n",
              "      <td>0.01626</td>\n",
              "      <td>0.02080</td>\n",
              "      <td>0.005304</td>\n",
              "      <td>15.300</td>\n",
              "      <td>33.17</td>\n",
              "      <td>100.20</td>\n",
              "      <td>706.7</td>\n",
              "      <td>0.12410</td>\n",
              "      <td>0.22640</td>\n",
              "      <td>0.1326</td>\n",
              "      <td>0.10480</td>\n",
              "      <td>0.2250</td>\n",
              "      <td>0.08321</td>\n",
              "      <td>NaN</td>\n",
              "    </tr>\n",
              "    <tr>\n",
              "      <th>561</th>\n",
              "      <td>925311</td>\n",
              "      <td>B</td>\n",
              "      <td>11.20</td>\n",
              "      <td>29.37</td>\n",
              "      <td>70.67</td>\n",
              "      <td>386.0</td>\n",
              "      <td>0.07449</td>\n",
              "      <td>0.03558</td>\n",
              "      <td>0.00000</td>\n",
              "      <td>0.00000</td>\n",
              "      <td>0.1060</td>\n",
              "      <td>0.05502</td>\n",
              "      <td>0.3141</td>\n",
              "      <td>3.896</td>\n",
              "      <td>2.041</td>\n",
              "      <td>22.81</td>\n",
              "      <td>0.007594</td>\n",
              "      <td>0.008878</td>\n",
              "      <td>0.00000</td>\n",
              "      <td>0.00000</td>\n",
              "      <td>0.01989</td>\n",
              "      <td>0.001773</td>\n",
              "      <td>11.920</td>\n",
              "      <td>38.30</td>\n",
              "      <td>75.19</td>\n",
              "      <td>439.6</td>\n",
              "      <td>0.09267</td>\n",
              "      <td>0.05494</td>\n",
              "      <td>0.0000</td>\n",
              "      <td>0.00000</td>\n",
              "      <td>0.1566</td>\n",
              "      <td>0.05905</td>\n",
              "      <td>NaN</td>\n",
              "    </tr>\n",
              "    <tr>\n",
              "      <th>562</th>\n",
              "      <td>925622</td>\n",
              "      <td>M</td>\n",
              "      <td>15.22</td>\n",
              "      <td>30.62</td>\n",
              "      <td>103.40</td>\n",
              "      <td>716.9</td>\n",
              "      <td>0.10480</td>\n",
              "      <td>0.20870</td>\n",
              "      <td>0.25500</td>\n",
              "      <td>0.09429</td>\n",
              "      <td>0.2128</td>\n",
              "      <td>0.07152</td>\n",
              "      <td>0.2602</td>\n",
              "      <td>1.205</td>\n",
              "      <td>2.362</td>\n",
              "      <td>22.65</td>\n",
              "      <td>0.004625</td>\n",
              "      <td>0.048440</td>\n",
              "      <td>0.07359</td>\n",
              "      <td>0.01608</td>\n",
              "      <td>0.02137</td>\n",
              "      <td>0.006142</td>\n",
              "      <td>17.520</td>\n",
              "      <td>42.79</td>\n",
              "      <td>128.70</td>\n",
              "      <td>915.0</td>\n",
              "      <td>0.14170</td>\n",
              "      <td>0.79170</td>\n",
              "      <td>1.1700</td>\n",
              "      <td>0.23560</td>\n",
              "      <td>0.4089</td>\n",
              "      <td>0.14090</td>\n",
              "      <td>NaN</td>\n",
              "    </tr>\n",
              "    <tr>\n",
              "      <th>563</th>\n",
              "      <td>926125</td>\n",
              "      <td>M</td>\n",
              "      <td>20.92</td>\n",
              "      <td>25.09</td>\n",
              "      <td>143.00</td>\n",
              "      <td>1347.0</td>\n",
              "      <td>0.10990</td>\n",
              "      <td>0.22360</td>\n",
              "      <td>0.31740</td>\n",
              "      <td>0.14740</td>\n",
              "      <td>0.2149</td>\n",
              "      <td>0.06879</td>\n",
              "      <td>0.9622</td>\n",
              "      <td>1.026</td>\n",
              "      <td>8.758</td>\n",
              "      <td>118.80</td>\n",
              "      <td>0.006399</td>\n",
              "      <td>0.043100</td>\n",
              "      <td>0.07845</td>\n",
              "      <td>0.02624</td>\n",
              "      <td>0.02057</td>\n",
              "      <td>0.006213</td>\n",
              "      <td>24.290</td>\n",
              "      <td>29.41</td>\n",
              "      <td>179.10</td>\n",
              "      <td>1819.0</td>\n",
              "      <td>0.14070</td>\n",
              "      <td>0.41860</td>\n",
              "      <td>0.6599</td>\n",
              "      <td>0.25420</td>\n",
              "      <td>0.2929</td>\n",
              "      <td>0.09873</td>\n",
              "      <td>NaN</td>\n",
              "    </tr>\n",
              "    <tr>\n",
              "      <th>564</th>\n",
              "      <td>926424</td>\n",
              "      <td>M</td>\n",
              "      <td>21.56</td>\n",
              "      <td>22.39</td>\n",
              "      <td>142.00</td>\n",
              "      <td>1479.0</td>\n",
              "      <td>0.11100</td>\n",
              "      <td>0.11590</td>\n",
              "      <td>0.24390</td>\n",
              "      <td>0.13890</td>\n",
              "      <td>0.1726</td>\n",
              "      <td>0.05623</td>\n",
              "      <td>1.1760</td>\n",
              "      <td>1.256</td>\n",
              "      <td>7.673</td>\n",
              "      <td>158.70</td>\n",
              "      <td>0.010300</td>\n",
              "      <td>0.028910</td>\n",
              "      <td>0.05198</td>\n",
              "      <td>0.02454</td>\n",
              "      <td>0.01114</td>\n",
              "      <td>0.004239</td>\n",
              "      <td>25.450</td>\n",
              "      <td>26.40</td>\n",
              "      <td>166.10</td>\n",
              "      <td>2027.0</td>\n",
              "      <td>0.14100</td>\n",
              "      <td>0.21130</td>\n",
              "      <td>0.4107</td>\n",
              "      <td>0.22160</td>\n",
              "      <td>0.2060</td>\n",
              "      <td>0.07115</td>\n",
              "      <td>NaN</td>\n",
              "    </tr>\n",
              "    <tr>\n",
              "      <th>565</th>\n",
              "      <td>926682</td>\n",
              "      <td>M</td>\n",
              "      <td>20.13</td>\n",
              "      <td>28.25</td>\n",
              "      <td>131.20</td>\n",
              "      <td>1261.0</td>\n",
              "      <td>0.09780</td>\n",
              "      <td>0.10340</td>\n",
              "      <td>0.14400</td>\n",
              "      <td>0.09791</td>\n",
              "      <td>0.1752</td>\n",
              "      <td>0.05533</td>\n",
              "      <td>0.7655</td>\n",
              "      <td>2.463</td>\n",
              "      <td>5.203</td>\n",
              "      <td>99.04</td>\n",
              "      <td>0.005769</td>\n",
              "      <td>0.024230</td>\n",
              "      <td>0.03950</td>\n",
              "      <td>0.01678</td>\n",
              "      <td>0.01898</td>\n",
              "      <td>0.002498</td>\n",
              "      <td>23.690</td>\n",
              "      <td>38.25</td>\n",
              "      <td>155.00</td>\n",
              "      <td>1731.0</td>\n",
              "      <td>0.11660</td>\n",
              "      <td>0.19220</td>\n",
              "      <td>0.3215</td>\n",
              "      <td>0.16280</td>\n",
              "      <td>0.2572</td>\n",
              "      <td>0.06637</td>\n",
              "      <td>NaN</td>\n",
              "    </tr>\n",
              "    <tr>\n",
              "      <th>566</th>\n",
              "      <td>926954</td>\n",
              "      <td>M</td>\n",
              "      <td>16.60</td>\n",
              "      <td>28.08</td>\n",
              "      <td>108.30</td>\n",
              "      <td>858.1</td>\n",
              "      <td>0.08455</td>\n",
              "      <td>0.10230</td>\n",
              "      <td>0.09251</td>\n",
              "      <td>0.05302</td>\n",
              "      <td>0.1590</td>\n",
              "      <td>0.05648</td>\n",
              "      <td>0.4564</td>\n",
              "      <td>1.075</td>\n",
              "      <td>3.425</td>\n",
              "      <td>48.55</td>\n",
              "      <td>0.005903</td>\n",
              "      <td>0.037310</td>\n",
              "      <td>0.04730</td>\n",
              "      <td>0.01557</td>\n",
              "      <td>0.01318</td>\n",
              "      <td>0.003892</td>\n",
              "      <td>18.980</td>\n",
              "      <td>34.12</td>\n",
              "      <td>126.70</td>\n",
              "      <td>1124.0</td>\n",
              "      <td>0.11390</td>\n",
              "      <td>0.30940</td>\n",
              "      <td>0.3403</td>\n",
              "      <td>0.14180</td>\n",
              "      <td>0.2218</td>\n",
              "      <td>0.07820</td>\n",
              "      <td>NaN</td>\n",
              "    </tr>\n",
              "    <tr>\n",
              "      <th>567</th>\n",
              "      <td>927241</td>\n",
              "      <td>M</td>\n",
              "      <td>20.60</td>\n",
              "      <td>29.33</td>\n",
              "      <td>140.10</td>\n",
              "      <td>1265.0</td>\n",
              "      <td>0.11780</td>\n",
              "      <td>0.27700</td>\n",
              "      <td>0.35140</td>\n",
              "      <td>0.15200</td>\n",
              "      <td>0.2397</td>\n",
              "      <td>0.07016</td>\n",
              "      <td>0.7260</td>\n",
              "      <td>1.595</td>\n",
              "      <td>5.772</td>\n",
              "      <td>86.22</td>\n",
              "      <td>0.006522</td>\n",
              "      <td>0.061580</td>\n",
              "      <td>0.07117</td>\n",
              "      <td>0.01664</td>\n",
              "      <td>0.02324</td>\n",
              "      <td>0.006185</td>\n",
              "      <td>25.740</td>\n",
              "      <td>39.42</td>\n",
              "      <td>184.60</td>\n",
              "      <td>1821.0</td>\n",
              "      <td>0.16500</td>\n",
              "      <td>0.86810</td>\n",
              "      <td>0.9387</td>\n",
              "      <td>0.26500</td>\n",
              "      <td>0.4087</td>\n",
              "      <td>0.12400</td>\n",
              "      <td>NaN</td>\n",
              "    </tr>\n",
              "    <tr>\n",
              "      <th>568</th>\n",
              "      <td>92751</td>\n",
              "      <td>B</td>\n",
              "      <td>7.76</td>\n",
              "      <td>24.54</td>\n",
              "      <td>47.92</td>\n",
              "      <td>181.0</td>\n",
              "      <td>0.05263</td>\n",
              "      <td>0.04362</td>\n",
              "      <td>0.00000</td>\n",
              "      <td>0.00000</td>\n",
              "      <td>0.1587</td>\n",
              "      <td>0.05884</td>\n",
              "      <td>0.3857</td>\n",
              "      <td>1.428</td>\n",
              "      <td>2.548</td>\n",
              "      <td>19.15</td>\n",
              "      <td>0.007189</td>\n",
              "      <td>0.004660</td>\n",
              "      <td>0.00000</td>\n",
              "      <td>0.00000</td>\n",
              "      <td>0.02676</td>\n",
              "      <td>0.002783</td>\n",
              "      <td>9.456</td>\n",
              "      <td>30.37</td>\n",
              "      <td>59.16</td>\n",
              "      <td>268.6</td>\n",
              "      <td>0.08996</td>\n",
              "      <td>0.06444</td>\n",
              "      <td>0.0000</td>\n",
              "      <td>0.00000</td>\n",
              "      <td>0.2871</td>\n",
              "      <td>0.07039</td>\n",
              "      <td>NaN</td>\n",
              "    </tr>\n",
              "  </tbody>\n",
              "</table>\n",
              "</div>"
            ],
            "text/plain": [
              "         id diagnosis  ...  fractal_dimension_worst  Unnamed: 32\n",
              "559  925291         B  ...                  0.08732          NaN\n",
              "560  925292         B  ...                  0.08321          NaN\n",
              "561  925311         B  ...                  0.05905          NaN\n",
              "562  925622         M  ...                  0.14090          NaN\n",
              "563  926125         M  ...                  0.09873          NaN\n",
              "564  926424         M  ...                  0.07115          NaN\n",
              "565  926682         M  ...                  0.06637          NaN\n",
              "566  926954         M  ...                  0.07820          NaN\n",
              "567  927241         M  ...                  0.12400          NaN\n",
              "568   92751         B  ...                  0.07039          NaN\n",
              "\n",
              "[10 rows x 33 columns]"
            ]
          },
          "metadata": {
            "tags": []
          },
          "execution_count": 227
        }
      ]
    },
    {
      "cell_type": "code",
      "metadata": {
        "colab": {
          "base_uri": "https://localhost:8080/"
        },
        "id": "EWhJp24LIpLT",
        "outputId": "d22b40d7-28c1-43c1-95aa-c3fc5c6518f1"
      },
      "source": [
        "df['diagnosis'].unique()"
      ],
      "execution_count": 228,
      "outputs": [
        {
          "output_type": "execute_result",
          "data": {
            "text/plain": [
              "array(['M', 'B'], dtype=object)"
            ]
          },
          "metadata": {
            "tags": []
          },
          "execution_count": 228
        }
      ]
    },
    {
      "cell_type": "code",
      "metadata": {
        "colab": {
          "base_uri": "https://localhost:8080/"
        },
        "id": "fI7sRViwzPuK",
        "outputId": "fbda7835-da6b-4d55-b89f-b523f58fdd0c"
      },
      "source": [
        "x = df.iloc[:,[2,3,4,5,6,7,8,9,10,11,12,13,14,15,16,17,18,19,20,21,22,23,24,25,26,27,28,29,30,31]].values\n",
        "x.shape"
      ],
      "execution_count": 229,
      "outputs": [
        {
          "output_type": "execute_result",
          "data": {
            "text/plain": [
              "(569, 30)"
            ]
          },
          "metadata": {
            "tags": []
          },
          "execution_count": 229
        }
      ]
    },
    {
      "cell_type": "code",
      "metadata": {
        "colab": {
          "base_uri": "https://localhost:8080/"
        },
        "id": "OJUIuC0i1G6y",
        "outputId": "e748e114-8a0a-48ad-ff87-cf935c0eac47"
      },
      "source": [
        "kmeans5 = KMeans(n_clusters=5)\n",
        "y_kmeans5 = kmeans5.fit_predict(x)\n",
        "print(y_kmeans5)\n",
        "\n",
        "# kmeans5.cluster_centers_"
      ],
      "execution_count": 230,
      "outputs": [
        {
          "output_type": "stream",
          "text": [
            "[4 4 4 1 4 2 4 2 2 2 0 0 0 2 2 2 0 0 4 2 2 1 2 3 4 0 2 0 0 0 4 2 0 4 0 0 2\n",
            " 1 2 2 2 1 4 2 2 4 1 2 1 2 1 2 1 0 0 1 4 2 2 1 1 1 2 1 2 2 1 1 1 1 4 1 4 2\n",
            " 1 0 2 4 4 2 1 2 3 0 1 4 2 4 1 2 2 2 2 2 0 4 1 1 1 2 2 1 1 1 1 2 1 1 4 1 1\n",
            " 1 2 1 1 1 1 0 0 0 1 4 4 2 2 2 2 4 2 4 1 0 0 2 4 2 1 1 2 1 1 0 1 2 1 1 1 2\n",
            " 2 2 2 1 1 1 2 1 0 0 1 1 1 4 4 1 3 2 1 0 4 2 1 2 0 1 1 1 1 0 2 1 3 4 0 1 2\n",
            " 1 0 1 1 1 2 1 1 2 2 2 2 0 4 2 2 0 4 0 2 2 1 0 2 2 4 1 3 0 2 2 1 1 4 4 2 2\n",
            " 1 0 2 2 1 2 2 2 0 1 1 4 1 2 3 4 2 0 2 1 1 2 0 1 2 2 1 1 4 1 4 0 4 2 4 2 0\n",
            " 0 4 0 0 2 0 3 1 2 2 1 2 1 4 1 0 1 1 0 2 2 4 1 4 0 2 1 1 1 1 1 2 2 1 1 1 2\n",
            " 1 1 2 1 4 1 4 1 1 1 2 1 2 2 1 2 2 1 1 1 1 0 1 1 1 4 1 4 1 1 2 1 0 0 0 2 1\n",
            " 1 1 0 1 4 1 3 2 1 1 4 1 1 1 2 1 1 1 2 3 0 1 1 1 2 1 1 1 2 1 0 2 4 4 1 3 4\n",
            " 0 2 4 4 2 2 1 2 2 1 1 1 1 1 2 2 1 2 1 0 1 1 0 4 1 2 2 1 1 1 0 1 2 1 1 1 2\n",
            " 2 0 1 1 1 1 2 2 1 1 4 1 1 1 2 1 2 1 1 1 1 1 1 2 1 4 4 2 2 2 2 2 2 1 0 2 1\n",
            " 0 1 0 2 2 4 1 0 1 2 2 2 1 2 2 1 4 3 2 1 2 2 2 1 0 1 1 1 2 1 1 2 2 2 1 2 1\n",
            " 2 2 2 2 1 2 4 1 0 1 0 0 1 2 2 2 1 4 4 2 2 1 3 1 1 1 1 2 2 1 2 2 2 2 1 0 4\n",
            " 2 2 1 3 1 2 1 1 2 1 2 1 1 1 2 4 1 4 2 1 1 1 1 2 2 2 2 2 1 1 1 1 1 1 1 1 2\n",
            " 1 1 1 2 1 2 1 2 4 4 4 0 4 1]\n"
          ],
          "name": "stdout"
        }
      ]
    },
    {
      "cell_type": "code",
      "metadata": {
        "colab": {
          "base_uri": "https://localhost:8080/",
          "height": 282
        },
        "id": "gUM3Hxmo1ORU",
        "outputId": "63014691-407c-4b14-f913-50a820505e82"
      },
      "source": [
        "plt.scatter(x[:,0], x[:,1], c=y_kmeans5, cmap='rainbow')"
      ],
      "execution_count": 231,
      "outputs": [
        {
          "output_type": "execute_result",
          "data": {
            "text/plain": [
              "<matplotlib.collections.PathCollection at 0x7fcb369e2750>"
            ]
          },
          "metadata": {
            "tags": []
          },
          "execution_count": 231
        },
        {
          "output_type": "display_data",
          "data": {
            "image/png": "[encoded data removed]",
            "text/plain": [
              "<Figure size 432x288 with 1 Axes>"
            ]
          },
          "metadata": {
            "tags": [],
            "needs_background": "light"
          }
        }
      ]
    },
    {
      "cell_type": "code",
      "metadata": {
        "colab": {
          "base_uri": "https://localhost:8080/",
          "height": 295
        },
        "id": "OL6HndYM1wYe",
        "outputId": "23eeb63b-5ab9-4a81-83fd-1fbc665b9a33"
      },
      "source": [
        "Error =[]\n",
        "for i in range(1, 11):\n",
        "    kmeans = KMeans(n_clusters = i).fit(x)\n",
        "    kmeans.fit(x)\n",
        "    Error.append(kmeans.inertia_)\n",
        "import matplotlib.pyplot as plt\n",
        "plt.plot(range(1, 11), Error)\n",
        "plt.title('Elbow method')\n",
        "plt.xlabel('No of clusters')\n",
        "plt.ylabel('Error')\n",
        "plt.show()"
      ],
      "execution_count": 232,
      "outputs": [
        {
          "output_type": "display_data",
          "data": {
            "image/png": "[encoded data removed]",
            "text/plain": [
              "<Figure size 432x288 with 1 Axes>"
            ]
          },
          "metadata": {
            "tags": [],
            "needs_background": "light"
          }
        }
      ]
    },
    {
      "cell_type": "code",
      "metadata": {
        "colab": {
          "base_uri": "https://localhost:8080/"
        },
        "id": "kmcXjHDM2EPv",
        "outputId": "6ce11df5-4273-4b35-bf11-c5ac051c0a53"
      },
      "source": [
        "kmeans3 = KMeans(n_clusters=3)\n",
        "y_kmeans3 = kmeans3.fit_predict(x)\n",
        "print(y_kmeans3)"
      ],
      "execution_count": 233,
      "outputs": [
        {
          "output_type": "stream",
          "text": [
            "[1 1 1 0 1 0 1 0 0 0 1 1 1 0 0 0 1 1 2 0 0 0 0 2 1 1 0 1 1 1 1 0 1 1 1 1 0\n",
            " 0 0 0 0 0 1 0 0 1 0 0 0 0 0 0 0 1 0 0 1 0 0 0 0 0 0 0 0 0 0 0 0 0 1 0 1 0\n",
            " 0 1 0 1 1 0 0 0 2 1 0 1 0 1 0 0 0 0 0 0 0 1 0 0 0 0 0 0 0 0 0 0 0 0 2 0 0\n",
            " 0 0 0 0 0 0 0 1 1 0 1 2 0 0 0 0 1 0 1 0 1 1 0 1 0 0 0 0 0 0 1 0 0 0 0 0 0\n",
            " 0 0 0 0 0 0 0 0 1 1 0 0 0 1 2 0 2 0 0 1 1 0 0 0 1 0 0 0 0 0 0 0 2 1 1 0 0\n",
            " 0 1 0 0 0 0 0 0 0 0 0 0 1 1 0 0 1 2 0 0 0 0 1 0 0 1 0 2 1 0 0 0 0 1 2 0 0\n",
            " 0 1 0 0 0 0 0 0 1 0 0 1 0 0 2 1 0 1 0 0 0 0 1 0 0 0 0 0 1 0 1 1 1 0 1 0 1\n",
            " 0 1 1 1 0 1 2 0 0 0 0 0 0 2 0 1 0 0 1 0 0 1 0 1 0 0 0 0 0 0 0 0 0 0 0 0 0\n",
            " 0 0 0 0 1 0 1 0 0 0 0 0 0 0 0 0 0 0 0 0 0 1 0 0 0 1 0 1 0 0 0 0 1 0 1 0 0\n",
            " 0 0 1 0 1 0 2 0 0 0 1 0 0 0 0 0 0 0 0 2 0 0 0 0 0 0 0 0 0 0 0 0 1 1 0 2 2\n",
            " 1 0 1 1 0 0 0 0 0 0 0 0 0 0 0 0 0 0 0 1 0 0 1 1 0 0 0 0 0 0 1 0 0 0 0 0 0\n",
            " 0 1 0 0 0 0 0 0 0 0 1 0 0 0 0 0 0 0 0 0 0 0 0 0 0 1 1 0 0 0 0 0 0 0 1 0 0\n",
            " 1 0 1 0 0 1 0 1 0 0 0 0 0 0 0 0 1 2 0 0 0 0 0 0 1 0 0 0 0 0 0 0 0 0 0 0 0\n",
            " 0 0 0 0 0 0 1 0 1 0 1 1 0 0 0 0 0 1 1 0 0 0 2 0 0 0 0 0 0 0 0 0 0 0 0 1 1\n",
            " 0 0 0 2 0 0 0 0 0 0 0 0 0 0 0 1 0 1 0 0 0 0 0 0 0 0 0 0 0 0 0 0 0 0 0 0 0\n",
            " 0 0 0 0 0 0 0 0 1 1 1 1 1 0]\n"
          ],
          "name": "stdout"
        }
      ]
    },
    {
      "cell_type": "code",
      "metadata": {
        "colab": {
          "base_uri": "https://localhost:8080/",
          "height": 282
        },
        "id": "jH83x_mz2Zc7",
        "outputId": "4daf33e9-a87c-4c01-af4e-ca31d664a9c6"
      },
      "source": [
        "plt.scatter(x[:,0], x[:,1], c=y_kmeans3, cmap='rainbow')\n",
        "plt.scatter(kmeans3.cluster_centers_[:,0] ,kmeans3.cluster_centers_[:,4], color='black')"
      ],
      "execution_count": 234,
      "outputs": [
        {
          "output_type": "execute_result",
          "data": {
            "text/plain": [
              "<matplotlib.collections.PathCollection at 0x7fcb36afec90>"
            ]
          },
          "metadata": {
            "tags": []
          },
          "execution_count": 234
        },
        {
          "output_type": "display_data",
          "data": {
            "image/png": "[encoded data removed]",
            "text/plain": [
              "<Figure size 432x288 with 1 Axes>"
            ]
          },
          "metadata": {
            "tags": [],
            "needs_background": "light"
          }
        }
      ]
    },
    {
      "cell_type": "code",
      "metadata": {
        "id": "4SZhrgQk-ljE"
      },
      "source": [
        ""
      ],
      "execution_count": null,
      "outputs": []
    },
    {
      "cell_type": "markdown",
      "metadata": {
        "id": "KodvDnWfNfrN"
      },
      "source": [
        "# **PCA**"
      ]
    },
    {
      "cell_type": "code",
      "metadata": {
        "id": "BrJMeSou2oEF"
      },
      "source": [
        "import matplotlib.pyplot as plt\n",
        "from sklearn.cluster import KMeans\n",
        "\n",
        "kmeans = KMeans(n_clusters=2)\n",
        "y_kmeans = kmeans.fit_predict(x)\n",
        "# print(y_kmeans)"
      ],
      "execution_count": 298,
      "outputs": []
    },
    {
      "cell_type": "code",
      "metadata": {
        "colab": {
          "base_uri": "https://localhost:8080/",
          "height": 456
        },
        "id": "GDcgpxK8bfBc",
        "outputId": "637ea8b6-ca48-4a96-b8fb-20277741af6c"
      },
      "source": [
        "df = pd.read_csv('data_cancer.csv')\n",
        "# df = pd.read_excel(\"xxx.xls\", sheet_name=\"sheet 1\")\n",
        "df"
      ],
      "execution_count": 299,
      "outputs": [
        {
          "output_type": "execute_result",
          "data": {
            "text/html": [
              "<div>\n",
              "<style scoped>\n",
              "    .dataframe tbody tr th:only-of-type {\n",
              "        vertical-align: middle;\n",
              "    }\n",
              "\n",
              "    .dataframe tbody tr th {\n",
              "        vertical-align: top;\n",
              "    }\n",
              "\n",
              "    .dataframe thead th {\n",
              "        text-align: right;\n",
              "    }\n",
              "</style>\n",
              "<table border=\"1\" class=\"dataframe\">\n",
              "  <thead>\n",
              "    <tr style=\"text-align: right;\">\n",
              "      <th></th>\n",
              "      <th>id</th>\n",
              "      <th>diagnosis</th>\n",
              "      <th>radius_mean</th>\n",
              "      <th>texture_mean</th>\n",
              "      <th>perimeter_mean</th>\n",
              "      <th>area_mean</th>\n",
              "      <th>smoothness_mean</th>\n",
              "      <th>compactness_mean</th>\n",
              "      <th>concavity_mean</th>\n",
              "      <th>concave points_mean</th>\n",
              "      <th>symmetry_mean</th>\n",
              "      <th>fractal_dimension_mean</th>\n",
              "      <th>radius_se</th>\n",
              "      <th>texture_se</th>\n",
              "      <th>perimeter_se</th>\n",
              "      <th>area_se</th>\n",
              "      <th>smoothness_se</th>\n",
              "      <th>compactness_se</th>\n",
              "      <th>concavity_se</th>\n",
              "      <th>concave points_se</th>\n",
              "      <th>symmetry_se</th>\n",
              "      <th>fractal_dimension_se</th>\n",
              "      <th>radius_worst</th>\n",
              "      <th>texture_worst</th>\n",
              "      <th>perimeter_worst</th>\n",
              "      <th>area_worst</th>\n",
              "      <th>smoothness_worst</th>\n",
              "      <th>compactness_worst</th>\n",
              "      <th>concavity_worst</th>\n",
              "      <th>concave points_worst</th>\n",
              "      <th>symmetry_worst</th>\n",
              "      <th>fractal_dimension_worst</th>\n",
              "      <th>Unnamed: 32</th>\n",
              "    </tr>\n",
              "  </thead>\n",
              "  <tbody>\n",
              "    <tr>\n",
              "      <th>0</th>\n",
              "      <td>842302</td>\n",
              "      <td>M</td>\n",
              "      <td>17.99</td>\n",
              "      <td>10.38</td>\n",
              "      <td>122.80</td>\n",
              "      <td>1001.0</td>\n",
              "      <td>0.11840</td>\n",
              "      <td>0.27760</td>\n",
              "      <td>0.30010</td>\n",
              "      <td>0.14710</td>\n",
              "      <td>0.2419</td>\n",
              "      <td>0.07871</td>\n",
              "      <td>1.0950</td>\n",
              "      <td>0.9053</td>\n",
              "      <td>8.589</td>\n",
              "      <td>153.40</td>\n",
              "      <td>0.006399</td>\n",
              "      <td>0.04904</td>\n",
              "      <td>0.05373</td>\n",
              "      <td>0.01587</td>\n",
              "      <td>0.03003</td>\n",
              "      <td>0.006193</td>\n",
              "      <td>25.380</td>\n",
              "      <td>17.33</td>\n",
              "      <td>184.60</td>\n",
              "      <td>2019.0</td>\n",
              "      <td>0.16220</td>\n",
              "      <td>0.66560</td>\n",
              "      <td>0.7119</td>\n",
              "      <td>0.2654</td>\n",
              "      <td>0.4601</td>\n",
              "      <td>0.11890</td>\n",
              "      <td>NaN</td>\n",
              "    </tr>\n",
              "    <tr>\n",
              "      <th>1</th>\n",
              "      <td>842517</td>\n",
              "      <td>M</td>\n",
              "      <td>20.57</td>\n",
              "      <td>17.77</td>\n",
              "      <td>132.90</td>\n",
              "      <td>1326.0</td>\n",
              "      <td>0.08474</td>\n",
              "      <td>0.07864</td>\n",
              "      <td>0.08690</td>\n",
              "      <td>0.07017</td>\n",
              "      <td>0.1812</td>\n",
              "      <td>0.05667</td>\n",
              "      <td>0.5435</td>\n",
              "      <td>0.7339</td>\n",
              "      <td>3.398</td>\n",
              "      <td>74.08</td>\n",
              "      <td>0.005225</td>\n",
              "      <td>0.01308</td>\n",
              "      <td>0.01860</td>\n",
              "      <td>0.01340</td>\n",
              "      <td>0.01389</td>\n",
              "      <td>0.003532</td>\n",
              "      <td>24.990</td>\n",
              "      <td>23.41</td>\n",
              "      <td>158.80</td>\n",
              "      <td>1956.0</td>\n",
              "      <td>0.12380</td>\n",
              "      <td>0.18660</td>\n",
              "      <td>0.2416</td>\n",
              "      <td>0.1860</td>\n",
              "      <td>0.2750</td>\n",
              "      <td>0.08902</td>\n",
              "      <td>NaN</td>\n",
              "    </tr>\n",
              "    <tr>\n",
              "      <th>2</th>\n",
              "      <td>84300903</td>\n",
              "      <td>M</td>\n",
              "      <td>19.69</td>\n",
              "      <td>21.25</td>\n",
              "      <td>130.00</td>\n",
              "      <td>1203.0</td>\n",
              "      <td>0.10960</td>\n",
              "      <td>0.15990</td>\n",
              "      <td>0.19740</td>\n",
              "      <td>0.12790</td>\n",
              "      <td>0.2069</td>\n",
              "      <td>0.05999</td>\n",
              "      <td>0.7456</td>\n",
              "      <td>0.7869</td>\n",
              "      <td>4.585</td>\n",
              "      <td>94.03</td>\n",
              "      <td>0.006150</td>\n",
              "      <td>0.04006</td>\n",
              "      <td>0.03832</td>\n",
              "      <td>0.02058</td>\n",
              "      <td>0.02250</td>\n",
              "      <td>0.004571</td>\n",
              "      <td>23.570</td>\n",
              "      <td>25.53</td>\n",
              "      <td>152.50</td>\n",
              "      <td>1709.0</td>\n",
              "      <td>0.14440</td>\n",
              "      <td>0.42450</td>\n",
              "      <td>0.4504</td>\n",
              "      <td>0.2430</td>\n",
              "      <td>0.3613</td>\n",
              "      <td>0.08758</td>\n",
              "      <td>NaN</td>\n",
              "    </tr>\n",
              "    <tr>\n",
              "      <th>3</th>\n",
              "      <td>84348301</td>\n",
              "      <td>M</td>\n",
              "      <td>11.42</td>\n",
              "      <td>20.38</td>\n",
              "      <td>77.58</td>\n",
              "      <td>386.1</td>\n",
              "      <td>0.14250</td>\n",
              "      <td>0.28390</td>\n",
              "      <td>0.24140</td>\n",
              "      <td>0.10520</td>\n",
              "      <td>0.2597</td>\n",
              "      <td>0.09744</td>\n",
              "      <td>0.4956</td>\n",
              "      <td>1.1560</td>\n",
              "      <td>3.445</td>\n",
              "      <td>27.23</td>\n",
              "      <td>0.009110</td>\n",
              "      <td>0.07458</td>\n",
              "      <td>0.05661</td>\n",
              "      <td>0.01867</td>\n",
              "      <td>0.05963</td>\n",
              "      <td>0.009208</td>\n",
              "      <td>14.910</td>\n",
              "      <td>26.50</td>\n",
              "      <td>98.87</td>\n",
              "      <td>567.7</td>\n",
              "      <td>0.20980</td>\n",
              "      <td>0.86630</td>\n",
              "      <td>0.6869</td>\n",
              "      <td>0.2575</td>\n",
              "      <td>0.6638</td>\n",
              "      <td>0.17300</td>\n",
              "      <td>NaN</td>\n",
              "    </tr>\n",
              "    <tr>\n",
              "      <th>4</th>\n",
              "      <td>84358402</td>\n",
              "      <td>M</td>\n",
              "      <td>20.29</td>\n",
              "      <td>14.34</td>\n",
              "      <td>135.10</td>\n",
              "      <td>1297.0</td>\n",
              "      <td>0.10030</td>\n",
              "      <td>0.13280</td>\n",
              "      <td>0.19800</td>\n",
              "      <td>0.10430</td>\n",
              "      <td>0.1809</td>\n",
              "      <td>0.05883</td>\n",
              "      <td>0.7572</td>\n",
              "      <td>0.7813</td>\n",
              "      <td>5.438</td>\n",
              "      <td>94.44</td>\n",
              "      <td>0.011490</td>\n",
              "      <td>0.02461</td>\n",
              "      <td>0.05688</td>\n",
              "      <td>0.01885</td>\n",
              "      <td>0.01756</td>\n",
              "      <td>0.005115</td>\n",
              "      <td>22.540</td>\n",
              "      <td>16.67</td>\n",
              "      <td>152.20</td>\n",
              "      <td>1575.0</td>\n",
              "      <td>0.13740</td>\n",
              "      <td>0.20500</td>\n",
              "      <td>0.4000</td>\n",
              "      <td>0.1625</td>\n",
              "      <td>0.2364</td>\n",
              "      <td>0.07678</td>\n",
              "      <td>NaN</td>\n",
              "    </tr>\n",
              "    <tr>\n",
              "      <th>...</th>\n",
              "      <td>...</td>\n",
              "      <td>...</td>\n",
              "      <td>...</td>\n",
              "      <td>...</td>\n",
              "      <td>...</td>\n",
              "      <td>...</td>\n",
              "      <td>...</td>\n",
              "      <td>...</td>\n",
              "      <td>...</td>\n",
              "      <td>...</td>\n",
              "      <td>...</td>\n",
              "      <td>...</td>\n",
              "      <td>...</td>\n",
              "      <td>...</td>\n",
              "      <td>...</td>\n",
              "      <td>...</td>\n",
              "      <td>...</td>\n",
              "      <td>...</td>\n",
              "      <td>...</td>\n",
              "      <td>...</td>\n",
              "      <td>...</td>\n",
              "      <td>...</td>\n",
              "      <td>...</td>\n",
              "      <td>...</td>\n",
              "      <td>...</td>\n",
              "      <td>...</td>\n",
              "      <td>...</td>\n",
              "      <td>...</td>\n",
              "      <td>...</td>\n",
              "      <td>...</td>\n",
              "      <td>...</td>\n",
              "      <td>...</td>\n",
              "      <td>...</td>\n",
              "    </tr>\n",
              "    <tr>\n",
              "      <th>564</th>\n",
              "      <td>926424</td>\n",
              "      <td>M</td>\n",
              "      <td>21.56</td>\n",
              "      <td>22.39</td>\n",
              "      <td>142.00</td>\n",
              "      <td>1479.0</td>\n",
              "      <td>0.11100</td>\n",
              "      <td>0.11590</td>\n",
              "      <td>0.24390</td>\n",
              "      <td>0.13890</td>\n",
              "      <td>0.1726</td>\n",
              "      <td>0.05623</td>\n",
              "      <td>1.1760</td>\n",
              "      <td>1.2560</td>\n",
              "      <td>7.673</td>\n",
              "      <td>158.70</td>\n",
              "      <td>0.010300</td>\n",
              "      <td>0.02891</td>\n",
              "      <td>0.05198</td>\n",
              "      <td>0.02454</td>\n",
              "      <td>0.01114</td>\n",
              "      <td>0.004239</td>\n",
              "      <td>25.450</td>\n",
              "      <td>26.40</td>\n",
              "      <td>166.10</td>\n",
              "      <td>2027.0</td>\n",
              "      <td>0.14100</td>\n",
              "      <td>0.21130</td>\n",
              "      <td>0.4107</td>\n",
              "      <td>0.2216</td>\n",
              "      <td>0.2060</td>\n",
              "      <td>0.07115</td>\n",
              "      <td>NaN</td>\n",
              "    </tr>\n",
              "    <tr>\n",
              "      <th>565</th>\n",
              "      <td>926682</td>\n",
              "      <td>M</td>\n",
              "      <td>20.13</td>\n",
              "      <td>28.25</td>\n",
              "      <td>131.20</td>\n",
              "      <td>1261.0</td>\n",
              "      <td>0.09780</td>\n",
              "      <td>0.10340</td>\n",
              "      <td>0.14400</td>\n",
              "      <td>0.09791</td>\n",
              "      <td>0.1752</td>\n",
              "      <td>0.05533</td>\n",
              "      <td>0.7655</td>\n",
              "      <td>2.4630</td>\n",
              "      <td>5.203</td>\n",
              "      <td>99.04</td>\n",
              "      <td>0.005769</td>\n",
              "      <td>0.02423</td>\n",
              "      <td>0.03950</td>\n",
              "      <td>0.01678</td>\n",
              "      <td>0.01898</td>\n",
              "      <td>0.002498</td>\n",
              "      <td>23.690</td>\n",
              "      <td>38.25</td>\n",
              "      <td>155.00</td>\n",
              "      <td>1731.0</td>\n",
              "      <td>0.11660</td>\n",
              "      <td>0.19220</td>\n",
              "      <td>0.3215</td>\n",
              "      <td>0.1628</td>\n",
              "      <td>0.2572</td>\n",
              "      <td>0.06637</td>\n",
              "      <td>NaN</td>\n",
              "    </tr>\n",
              "    <tr>\n",
              "      <th>566</th>\n",
              "      <td>926954</td>\n",
              "      <td>M</td>\n",
              "      <td>16.60</td>\n",
              "      <td>28.08</td>\n",
              "      <td>108.30</td>\n",
              "      <td>858.1</td>\n",
              "      <td>0.08455</td>\n",
              "      <td>0.10230</td>\n",
              "      <td>0.09251</td>\n",
              "      <td>0.05302</td>\n",
              "      <td>0.1590</td>\n",
              "      <td>0.05648</td>\n",
              "      <td>0.4564</td>\n",
              "      <td>1.0750</td>\n",
              "      <td>3.425</td>\n",
              "      <td>48.55</td>\n",
              "      <td>0.005903</td>\n",
              "      <td>0.03731</td>\n",
              "      <td>0.04730</td>\n",
              "      <td>0.01557</td>\n",
              "      <td>0.01318</td>\n",
              "      <td>0.003892</td>\n",
              "      <td>18.980</td>\n",
              "      <td>34.12</td>\n",
              "      <td>126.70</td>\n",
              "      <td>1124.0</td>\n",
              "      <td>0.11390</td>\n",
              "      <td>0.30940</td>\n",
              "      <td>0.3403</td>\n",
              "      <td>0.1418</td>\n",
              "      <td>0.2218</td>\n",
              "      <td>0.07820</td>\n",
              "      <td>NaN</td>\n",
              "    </tr>\n",
              "    <tr>\n",
              "      <th>567</th>\n",
              "      <td>927241</td>\n",
              "      <td>M</td>\n",
              "      <td>20.60</td>\n",
              "      <td>29.33</td>\n",
              "      <td>140.10</td>\n",
              "      <td>1265.0</td>\n",
              "      <td>0.11780</td>\n",
              "      <td>0.27700</td>\n",
              "      <td>0.35140</td>\n",
              "      <td>0.15200</td>\n",
              "      <td>0.2397</td>\n",
              "      <td>0.07016</td>\n",
              "      <td>0.7260</td>\n",
              "      <td>1.5950</td>\n",
              "      <td>5.772</td>\n",
              "      <td>86.22</td>\n",
              "      <td>0.006522</td>\n",
              "      <td>0.06158</td>\n",
              "      <td>0.07117</td>\n",
              "      <td>0.01664</td>\n",
              "      <td>0.02324</td>\n",
              "      <td>0.006185</td>\n",
              "      <td>25.740</td>\n",
              "      <td>39.42</td>\n",
              "      <td>184.60</td>\n",
              "      <td>1821.0</td>\n",
              "      <td>0.16500</td>\n",
              "      <td>0.86810</td>\n",
              "      <td>0.9387</td>\n",
              "      <td>0.2650</td>\n",
              "      <td>0.4087</td>\n",
              "      <td>0.12400</td>\n",
              "      <td>NaN</td>\n",
              "    </tr>\n",
              "    <tr>\n",
              "      <th>568</th>\n",
              "      <td>92751</td>\n",
              "      <td>B</td>\n",
              "      <td>7.76</td>\n",
              "      <td>24.54</td>\n",
              "      <td>47.92</td>\n",
              "      <td>181.0</td>\n",
              "      <td>0.05263</td>\n",
              "      <td>0.04362</td>\n",
              "      <td>0.00000</td>\n",
              "      <td>0.00000</td>\n",
              "      <td>0.1587</td>\n",
              "      <td>0.05884</td>\n",
              "      <td>0.3857</td>\n",
              "      <td>1.4280</td>\n",
              "      <td>2.548</td>\n",
              "      <td>19.15</td>\n",
              "      <td>0.007189</td>\n",
              "      <td>0.00466</td>\n",
              "      <td>0.00000</td>\n",
              "      <td>0.00000</td>\n",
              "      <td>0.02676</td>\n",
              "      <td>0.002783</td>\n",
              "      <td>9.456</td>\n",
              "      <td>30.37</td>\n",
              "      <td>59.16</td>\n",
              "      <td>268.6</td>\n",
              "      <td>0.08996</td>\n",
              "      <td>0.06444</td>\n",
              "      <td>0.0000</td>\n",
              "      <td>0.0000</td>\n",
              "      <td>0.2871</td>\n",
              "      <td>0.07039</td>\n",
              "      <td>NaN</td>\n",
              "    </tr>\n",
              "  </tbody>\n",
              "</table>\n",
              "<p>569 rows × 33 columns</p>\n",
              "</div>"
            ],
            "text/plain": [
              "           id diagnosis  ...  fractal_dimension_worst  Unnamed: 32\n",
              "0      842302         M  ...                  0.11890          NaN\n",
              "1      842517         M  ...                  0.08902          NaN\n",
              "2    84300903         M  ...                  0.08758          NaN\n",
              "3    84348301         M  ...                  0.17300          NaN\n",
              "4    84358402         M  ...                  0.07678          NaN\n",
              "..        ...       ...  ...                      ...          ...\n",
              "564    926424         M  ...                  0.07115          NaN\n",
              "565    926682         M  ...                  0.06637          NaN\n",
              "566    926954         M  ...                  0.07820          NaN\n",
              "567    927241         M  ...                  0.12400          NaN\n",
              "568     92751         B  ...                  0.07039          NaN\n",
              "\n",
              "[569 rows x 33 columns]"
            ]
          },
          "metadata": {
            "tags": []
          },
          "execution_count": 299
        }
      ]
    },
    {
      "cell_type": "code",
      "metadata": {
        "colab": {
          "base_uri": "https://localhost:8080/",
          "height": 241
        },
        "id": "trRtM8tvNtZS",
        "outputId": "aff904da-4d09-47cd-f97a-955416f0accc"
      },
      "source": [
        "df.head()"
      ],
      "execution_count": 300,
      "outputs": [
        {
          "output_type": "execute_result",
          "data": {
            "text/html": [
              "<div>\n",
              "<style scoped>\n",
              "    .dataframe tbody tr th:only-of-type {\n",
              "        vertical-align: middle;\n",
              "    }\n",
              "\n",
              "    .dataframe tbody tr th {\n",
              "        vertical-align: top;\n",
              "    }\n",
              "\n",
              "    .dataframe thead th {\n",
              "        text-align: right;\n",
              "    }\n",
              "</style>\n",
              "<table border=\"1\" class=\"dataframe\">\n",
              "  <thead>\n",
              "    <tr style=\"text-align: right;\">\n",
              "      <th></th>\n",
              "      <th>id</th>\n",
              "      <th>diagnosis</th>\n",
              "      <th>radius_mean</th>\n",
              "      <th>texture_mean</th>\n",
              "      <th>perimeter_mean</th>\n",
              "      <th>area_mean</th>\n",
              "      <th>smoothness_mean</th>\n",
              "      <th>compactness_mean</th>\n",
              "      <th>concavity_mean</th>\n",
              "      <th>concave points_mean</th>\n",
              "      <th>symmetry_mean</th>\n",
              "      <th>fractal_dimension_mean</th>\n",
              "      <th>radius_se</th>\n",
              "      <th>texture_se</th>\n",
              "      <th>perimeter_se</th>\n",
              "      <th>area_se</th>\n",
              "      <th>smoothness_se</th>\n",
              "      <th>compactness_se</th>\n",
              "      <th>concavity_se</th>\n",
              "      <th>concave points_se</th>\n",
              "      <th>symmetry_se</th>\n",
              "      <th>fractal_dimension_se</th>\n",
              "      <th>radius_worst</th>\n",
              "      <th>texture_worst</th>\n",
              "      <th>perimeter_worst</th>\n",
              "      <th>area_worst</th>\n",
              "      <th>smoothness_worst</th>\n",
              "      <th>compactness_worst</th>\n",
              "      <th>concavity_worst</th>\n",
              "      <th>concave points_worst</th>\n",
              "      <th>symmetry_worst</th>\n",
              "      <th>fractal_dimension_worst</th>\n",
              "      <th>Unnamed: 32</th>\n",
              "    </tr>\n",
              "  </thead>\n",
              "  <tbody>\n",
              "    <tr>\n",
              "      <th>0</th>\n",
              "      <td>842302</td>\n",
              "      <td>M</td>\n",
              "      <td>17.99</td>\n",
              "      <td>10.38</td>\n",
              "      <td>122.80</td>\n",
              "      <td>1001.0</td>\n",
              "      <td>0.11840</td>\n",
              "      <td>0.27760</td>\n",
              "      <td>0.3001</td>\n",
              "      <td>0.14710</td>\n",
              "      <td>0.2419</td>\n",
              "      <td>0.07871</td>\n",
              "      <td>1.0950</td>\n",
              "      <td>0.9053</td>\n",
              "      <td>8.589</td>\n",
              "      <td>153.40</td>\n",
              "      <td>0.006399</td>\n",
              "      <td>0.04904</td>\n",
              "      <td>0.05373</td>\n",
              "      <td>0.01587</td>\n",
              "      <td>0.03003</td>\n",
              "      <td>0.006193</td>\n",
              "      <td>25.38</td>\n",
              "      <td>17.33</td>\n",
              "      <td>184.60</td>\n",
              "      <td>2019.0</td>\n",
              "      <td>0.1622</td>\n",
              "      <td>0.6656</td>\n",
              "      <td>0.7119</td>\n",
              "      <td>0.2654</td>\n",
              "      <td>0.4601</td>\n",
              "      <td>0.11890</td>\n",
              "      <td>NaN</td>\n",
              "    </tr>\n",
              "    <tr>\n",
              "      <th>1</th>\n",
              "      <td>842517</td>\n",
              "      <td>M</td>\n",
              "      <td>20.57</td>\n",
              "      <td>17.77</td>\n",
              "      <td>132.90</td>\n",
              "      <td>1326.0</td>\n",
              "      <td>0.08474</td>\n",
              "      <td>0.07864</td>\n",
              "      <td>0.0869</td>\n",
              "      <td>0.07017</td>\n",
              "      <td>0.1812</td>\n",
              "      <td>0.05667</td>\n",
              "      <td>0.5435</td>\n",
              "      <td>0.7339</td>\n",
              "      <td>3.398</td>\n",
              "      <td>74.08</td>\n",
              "      <td>0.005225</td>\n",
              "      <td>0.01308</td>\n",
              "      <td>0.01860</td>\n",
              "      <td>0.01340</td>\n",
              "      <td>0.01389</td>\n",
              "      <td>0.003532</td>\n",
              "      <td>24.99</td>\n",
              "      <td>23.41</td>\n",
              "      <td>158.80</td>\n",
              "      <td>1956.0</td>\n",
              "      <td>0.1238</td>\n",
              "      <td>0.1866</td>\n",
              "      <td>0.2416</td>\n",
              "      <td>0.1860</td>\n",
              "      <td>0.2750</td>\n",
              "      <td>0.08902</td>\n",
              "      <td>NaN</td>\n",
              "    </tr>\n",
              "    <tr>\n",
              "      <th>2</th>\n",
              "      <td>84300903</td>\n",
              "      <td>M</td>\n",
              "      <td>19.69</td>\n",
              "      <td>21.25</td>\n",
              "      <td>130.00</td>\n",
              "      <td>1203.0</td>\n",
              "      <td>0.10960</td>\n",
              "      <td>0.15990</td>\n",
              "      <td>0.1974</td>\n",
              "      <td>0.12790</td>\n",
              "      <td>0.2069</td>\n",
              "      <td>0.05999</td>\n",
              "      <td>0.7456</td>\n",
              "      <td>0.7869</td>\n",
              "      <td>4.585</td>\n",
              "      <td>94.03</td>\n",
              "      <td>0.006150</td>\n",
              "      <td>0.04006</td>\n",
              "      <td>0.03832</td>\n",
              "      <td>0.02058</td>\n",
              "      <td>0.02250</td>\n",
              "      <td>0.004571</td>\n",
              "      <td>23.57</td>\n",
              "      <td>25.53</td>\n",
              "      <td>152.50</td>\n",
              "      <td>1709.0</td>\n",
              "      <td>0.1444</td>\n",
              "      <td>0.4245</td>\n",
              "      <td>0.4504</td>\n",
              "      <td>0.2430</td>\n",
              "      <td>0.3613</td>\n",
              "      <td>0.08758</td>\n",
              "      <td>NaN</td>\n",
              "    </tr>\n",
              "    <tr>\n",
              "      <th>3</th>\n",
              "      <td>84348301</td>\n",
              "      <td>M</td>\n",
              "      <td>11.42</td>\n",
              "      <td>20.38</td>\n",
              "      <td>77.58</td>\n",
              "      <td>386.1</td>\n",
              "      <td>0.14250</td>\n",
              "      <td>0.28390</td>\n",
              "      <td>0.2414</td>\n",
              "      <td>0.10520</td>\n",
              "      <td>0.2597</td>\n",
              "      <td>0.09744</td>\n",
              "      <td>0.4956</td>\n",
              "      <td>1.1560</td>\n",
              "      <td>3.445</td>\n",
              "      <td>27.23</td>\n",
              "      <td>0.009110</td>\n",
              "      <td>0.07458</td>\n",
              "      <td>0.05661</td>\n",
              "      <td>0.01867</td>\n",
              "      <td>0.05963</td>\n",
              "      <td>0.009208</td>\n",
              "      <td>14.91</td>\n",
              "      <td>26.50</td>\n",
              "      <td>98.87</td>\n",
              "      <td>567.7</td>\n",
              "      <td>0.2098</td>\n",
              "      <td>0.8663</td>\n",
              "      <td>0.6869</td>\n",
              "      <td>0.2575</td>\n",
              "      <td>0.6638</td>\n",
              "      <td>0.17300</td>\n",
              "      <td>NaN</td>\n",
              "    </tr>\n",
              "    <tr>\n",
              "      <th>4</th>\n",
              "      <td>84358402</td>\n",
              "      <td>M</td>\n",
              "      <td>20.29</td>\n",
              "      <td>14.34</td>\n",
              "      <td>135.10</td>\n",
              "      <td>1297.0</td>\n",
              "      <td>0.10030</td>\n",
              "      <td>0.13280</td>\n",
              "      <td>0.1980</td>\n",
              "      <td>0.10430</td>\n",
              "      <td>0.1809</td>\n",
              "      <td>0.05883</td>\n",
              "      <td>0.7572</td>\n",
              "      <td>0.7813</td>\n",
              "      <td>5.438</td>\n",
              "      <td>94.44</td>\n",
              "      <td>0.011490</td>\n",
              "      <td>0.02461</td>\n",
              "      <td>0.05688</td>\n",
              "      <td>0.01885</td>\n",
              "      <td>0.01756</td>\n",
              "      <td>0.005115</td>\n",
              "      <td>22.54</td>\n",
              "      <td>16.67</td>\n",
              "      <td>152.20</td>\n",
              "      <td>1575.0</td>\n",
              "      <td>0.1374</td>\n",
              "      <td>0.2050</td>\n",
              "      <td>0.4000</td>\n",
              "      <td>0.1625</td>\n",
              "      <td>0.2364</td>\n",
              "      <td>0.07678</td>\n",
              "      <td>NaN</td>\n",
              "    </tr>\n",
              "  </tbody>\n",
              "</table>\n",
              "</div>"
            ],
            "text/plain": [
              "         id diagnosis  ...  fractal_dimension_worst  Unnamed: 32\n",
              "0    842302         M  ...                  0.11890          NaN\n",
              "1    842517         M  ...                  0.08902          NaN\n",
              "2  84300903         M  ...                  0.08758          NaN\n",
              "3  84348301         M  ...                  0.17300          NaN\n",
              "4  84358402         M  ...                  0.07678          NaN\n",
              "\n",
              "[5 rows x 33 columns]"
            ]
          },
          "metadata": {
            "tags": []
          },
          "execution_count": 300
        }
      ]
    },
    {
      "cell_type": "code",
      "metadata": {
        "colab": {
          "base_uri": "https://localhost:8080/"
        },
        "id": "aI7FAiCMMoLr",
        "outputId": "8f40932f-2ce3-4657-8e26-c7d775683019"
      },
      "source": [
        "df['diagnosis'].unique()"
      ],
      "execution_count": 301,
      "outputs": [
        {
          "output_type": "execute_result",
          "data": {
            "text/plain": [
              "array(['M', 'B'], dtype=object)"
            ]
          },
          "metadata": {
            "tags": []
          },
          "execution_count": 301
        }
      ]
    },
    {
      "cell_type": "code",
      "metadata": {
        "id": "pHZDJvYeNvYH"
      },
      "source": [
        "#standardized the data\n",
        "from sklearn.preprocessing import StandardScaler\n",
        "features = ['radius_mean', 'radius_mean', 'texture_mean', 'texture_mean', 'perimeter_mean', 'area_mean', 'smoothness_mean', 'compactness_mean','concavity_mean', 'concave points_mean','symmetry_mean',\t'fractal_dimension_mean',\t'radius_se',\t'texture_se',\t'perimeter_se',\t'area_se',\t'smoothness_se',\t'compactness_se',\t'concavity_se',\t'concave points_se',\t'symmetry_se',\t'fractal_dimension_se',\t'radius_worst',\t'texture_worst',\t'perimeter_worst',\t'area_worst',\t'smoothness_worst',\t'compactness_worst',\t'concavity_worst',\t'concave points_worst',\t'symmetry_worst' ,'fractal_dimension_worst' ]\n",
        "# Separating out the features\n",
        "x = df.loc[:, features].values\n",
        "# Separating out the target\n",
        "y = df.loc[:,['diagnosis']].values\n",
        "# Standardizing the features\n",
        "x = StandardScaler().fit_transform(x)"
      ],
      "execution_count": 302,
      "outputs": []
    },
    {
      "cell_type": "code",
      "metadata": {
        "colab": {
          "base_uri": "https://localhost:8080/",
          "height": 241
        },
        "id": "-ZUYrAaMNw4E",
        "outputId": "a5facaee-6caa-4584-b05b-4f7a30214791"
      },
      "source": [
        "standardized_df = pd.DataFrame(x, columns = ['radius_mean', 'radius_mean', 'texture_mean', 'texture_mean', 'perimeter_mean', 'area_mean', 'smoothness_mean', 'compactness_mean','concavity_mean', 'concave points_mean','symmetry_mean',\t'fractal_dimension_mean',\t'radius_se',\t'texture_se',\t'perimeter_se',\t'area_se',\t'smoothness_se',\t'compactness_se',\t'concavity_se',\t'concave points_se',\t'symmetry_se',\t'fractal_dimension_se',\t'radius_worst',\t'texture_worst',\t'perimeter_worst',\t'area_worst',\t'smoothness_worst',\t'compactness_worst',\t'concavity_worst',\t'concave points_worst',\t'symmetry_worst' ,'fractal_dimension_worst' ])\n",
        "standardized_df.head()"
      ],
      "execution_count": 303,
      "outputs": [
        {
          "output_type": "execute_result",
          "data": {
            "text/html": [
              "<div>\n",
              "<style scoped>\n",
              "    .dataframe tbody tr th:only-of-type {\n",
              "        vertical-align: middle;\n",
              "    }\n",
              "\n",
              "    .dataframe tbody tr th {\n",
              "        vertical-align: top;\n",
              "    }\n",
              "\n",
              "    .dataframe thead th {\n",
              "        text-align: right;\n",
              "    }\n",
              "</style>\n",
              "<table border=\"1\" class=\"dataframe\">\n",
              "  <thead>\n",
              "    <tr style=\"text-align: right;\">\n",
              "      <th></th>\n",
              "      <th>radius_mean</th>\n",
              "      <th>radius_mean</th>\n",
              "      <th>texture_mean</th>\n",
              "      <th>texture_mean</th>\n",
              "      <th>perimeter_mean</th>\n",
              "      <th>area_mean</th>\n",
              "      <th>smoothness_mean</th>\n",
              "      <th>compactness_mean</th>\n",
              "      <th>concavity_mean</th>\n",
              "      <th>concave points_mean</th>\n",
              "      <th>symmetry_mean</th>\n",
              "      <th>fractal_dimension_mean</th>\n",
              "      <th>radius_se</th>\n",
              "      <th>texture_se</th>\n",
              "      <th>perimeter_se</th>\n",
              "      <th>area_se</th>\n",
              "      <th>smoothness_se</th>\n",
              "      <th>compactness_se</th>\n",
              "      <th>concavity_se</th>\n",
              "      <th>concave points_se</th>\n",
              "      <th>symmetry_se</th>\n",
              "      <th>fractal_dimension_se</th>\n",
              "      <th>radius_worst</th>\n",
              "      <th>texture_worst</th>\n",
              "      <th>perimeter_worst</th>\n",
              "      <th>area_worst</th>\n",
              "      <th>smoothness_worst</th>\n",
              "      <th>compactness_worst</th>\n",
              "      <th>concavity_worst</th>\n",
              "      <th>concave points_worst</th>\n",
              "      <th>symmetry_worst</th>\n",
              "      <th>fractal_dimension_worst</th>\n",
              "    </tr>\n",
              "  </thead>\n",
              "  <tbody>\n",
              "    <tr>\n",
              "      <th>0</th>\n",
              "      <td>1.097064</td>\n",
              "      <td>1.097064</td>\n",
              "      <td>-2.073335</td>\n",
              "      <td>-2.073335</td>\n",
              "      <td>1.269934</td>\n",
              "      <td>0.984375</td>\n",
              "      <td>1.568466</td>\n",
              "      <td>3.283515</td>\n",
              "      <td>2.652874</td>\n",
              "      <td>2.532475</td>\n",
              "      <td>2.217515</td>\n",
              "      <td>2.255747</td>\n",
              "      <td>2.489734</td>\n",
              "      <td>-0.565265</td>\n",
              "      <td>2.833031</td>\n",
              "      <td>2.487578</td>\n",
              "      <td>-0.214002</td>\n",
              "      <td>1.316862</td>\n",
              "      <td>0.724026</td>\n",
              "      <td>0.660820</td>\n",
              "      <td>1.148757</td>\n",
              "      <td>0.907083</td>\n",
              "      <td>1.886690</td>\n",
              "      <td>-1.359293</td>\n",
              "      <td>2.303601</td>\n",
              "      <td>2.001237</td>\n",
              "      <td>1.307686</td>\n",
              "      <td>2.616665</td>\n",
              "      <td>2.109526</td>\n",
              "      <td>2.296076</td>\n",
              "      <td>2.750622</td>\n",
              "      <td>1.937015</td>\n",
              "    </tr>\n",
              "    <tr>\n",
              "      <th>1</th>\n",
              "      <td>1.829821</td>\n",
              "      <td>1.829821</td>\n",
              "      <td>-0.353632</td>\n",
              "      <td>-0.353632</td>\n",
              "      <td>1.685955</td>\n",
              "      <td>1.908708</td>\n",
              "      <td>-0.826962</td>\n",
              "      <td>-0.487072</td>\n",
              "      <td>-0.023846</td>\n",
              "      <td>0.548144</td>\n",
              "      <td>0.001392</td>\n",
              "      <td>-0.868652</td>\n",
              "      <td>0.499255</td>\n",
              "      <td>-0.876244</td>\n",
              "      <td>0.263327</td>\n",
              "      <td>0.742402</td>\n",
              "      <td>-0.605351</td>\n",
              "      <td>-0.692926</td>\n",
              "      <td>-0.440780</td>\n",
              "      <td>0.260162</td>\n",
              "      <td>-0.805450</td>\n",
              "      <td>-0.099444</td>\n",
              "      <td>1.805927</td>\n",
              "      <td>-0.369203</td>\n",
              "      <td>1.535126</td>\n",
              "      <td>1.890489</td>\n",
              "      <td>-0.375612</td>\n",
              "      <td>-0.430444</td>\n",
              "      <td>-0.146749</td>\n",
              "      <td>1.087084</td>\n",
              "      <td>-0.243890</td>\n",
              "      <td>0.281190</td>\n",
              "    </tr>\n",
              "    <tr>\n",
              "      <th>2</th>\n",
              "      <td>1.579888</td>\n",
              "      <td>1.579888</td>\n",
              "      <td>0.456187</td>\n",
              "      <td>0.456187</td>\n",
              "      <td>1.566503</td>\n",
              "      <td>1.558884</td>\n",
              "      <td>0.942210</td>\n",
              "      <td>1.052926</td>\n",
              "      <td>1.363478</td>\n",
              "      <td>2.037231</td>\n",
              "      <td>0.939685</td>\n",
              "      <td>-0.398008</td>\n",
              "      <td>1.228676</td>\n",
              "      <td>-0.780083</td>\n",
              "      <td>0.850928</td>\n",
              "      <td>1.181336</td>\n",
              "      <td>-0.297005</td>\n",
              "      <td>0.814974</td>\n",
              "      <td>0.213076</td>\n",
              "      <td>1.424827</td>\n",
              "      <td>0.237036</td>\n",
              "      <td>0.293559</td>\n",
              "      <td>1.511870</td>\n",
              "      <td>-0.023974</td>\n",
              "      <td>1.347475</td>\n",
              "      <td>1.456285</td>\n",
              "      <td>0.527407</td>\n",
              "      <td>1.082932</td>\n",
              "      <td>0.854974</td>\n",
              "      <td>1.955000</td>\n",
              "      <td>1.152255</td>\n",
              "      <td>0.201391</td>\n",
              "    </tr>\n",
              "    <tr>\n",
              "      <th>3</th>\n",
              "      <td>-0.768909</td>\n",
              "      <td>-0.768909</td>\n",
              "      <td>0.253732</td>\n",
              "      <td>0.253732</td>\n",
              "      <td>-0.592687</td>\n",
              "      <td>-0.764464</td>\n",
              "      <td>3.283553</td>\n",
              "      <td>3.402909</td>\n",
              "      <td>1.915897</td>\n",
              "      <td>1.451707</td>\n",
              "      <td>2.867383</td>\n",
              "      <td>4.910919</td>\n",
              "      <td>0.326373</td>\n",
              "      <td>-0.110409</td>\n",
              "      <td>0.286593</td>\n",
              "      <td>-0.288378</td>\n",
              "      <td>0.689702</td>\n",
              "      <td>2.744280</td>\n",
              "      <td>0.819518</td>\n",
              "      <td>1.115007</td>\n",
              "      <td>4.732680</td>\n",
              "      <td>2.047511</td>\n",
              "      <td>-0.281464</td>\n",
              "      <td>0.133984</td>\n",
              "      <td>-0.249939</td>\n",
              "      <td>-0.550021</td>\n",
              "      <td>3.394275</td>\n",
              "      <td>3.893397</td>\n",
              "      <td>1.989588</td>\n",
              "      <td>2.175786</td>\n",
              "      <td>6.046041</td>\n",
              "      <td>4.935010</td>\n",
              "    </tr>\n",
              "    <tr>\n",
              "      <th>4</th>\n",
              "      <td>1.750297</td>\n",
              "      <td>1.750297</td>\n",
              "      <td>-1.151816</td>\n",
              "      <td>-1.151816</td>\n",
              "      <td>1.776573</td>\n",
              "      <td>1.826229</td>\n",
              "      <td>0.280372</td>\n",
              "      <td>0.539340</td>\n",
              "      <td>1.371011</td>\n",
              "      <td>1.428493</td>\n",
              "      <td>-0.009560</td>\n",
              "      <td>-0.562450</td>\n",
              "      <td>1.270543</td>\n",
              "      <td>-0.790244</td>\n",
              "      <td>1.273189</td>\n",
              "      <td>1.190357</td>\n",
              "      <td>1.483067</td>\n",
              "      <td>-0.048520</td>\n",
              "      <td>0.828471</td>\n",
              "      <td>1.144205</td>\n",
              "      <td>-0.361092</td>\n",
              "      <td>0.499328</td>\n",
              "      <td>1.298575</td>\n",
              "      <td>-1.466770</td>\n",
              "      <td>1.338539</td>\n",
              "      <td>1.220724</td>\n",
              "      <td>0.220556</td>\n",
              "      <td>-0.313395</td>\n",
              "      <td>0.613179</td>\n",
              "      <td>0.729259</td>\n",
              "      <td>-0.868353</td>\n",
              "      <td>-0.397100</td>\n",
              "    </tr>\n",
              "  </tbody>\n",
              "</table>\n",
              "</div>"
            ],
            "text/plain": [
              "   radius_mean  radius_mean  ...  symmetry_worst  fractal_dimension_worst\n",
              "0     1.097064     1.097064  ...        2.750622                 1.937015\n",
              "1     1.829821     1.829821  ...       -0.243890                 0.281190\n",
              "2     1.579888     1.579888  ...        1.152255                 0.201391\n",
              "3    -0.768909    -0.768909  ...        6.046041                 4.935010\n",
              "4     1.750297     1.750297  ...       -0.868353                -0.397100\n",
              "\n",
              "[5 rows x 32 columns]"
            ]
          },
          "metadata": {
            "tags": []
          },
          "execution_count": 303
        }
      ]
    },
    {
      "cell_type": "code",
      "metadata": {
        "colab": {
          "base_uri": "https://localhost:8080/",
          "height": 204
        },
        "id": "PtyuW1k3NyT8",
        "outputId": "e02edeab-b59d-48a2-a963-dd0b53ef1afa"
      },
      "source": [
        "from sklearn.decomposition import PCA\n",
        "pca = PCA(n_components=2)\n",
        "principalComponents = pca.fit_transform(x)\n",
        "principalDf = pd.DataFrame(data = principalComponents\n",
        "             , columns = ['principal component 1', 'principal component 2'])\n",
        "principalDf.head()"
      ],
      "execution_count": 304,
      "outputs": [
        {
          "output_type": "execute_result",
          "data": {
            "text/html": [
              "<div>\n",
              "<style scoped>\n",
              "    .dataframe tbody tr th:only-of-type {\n",
              "        vertical-align: middle;\n",
              "    }\n",
              "\n",
              "    .dataframe tbody tr th {\n",
              "        vertical-align: top;\n",
              "    }\n",
              "\n",
              "    .dataframe thead th {\n",
              "        text-align: right;\n",
              "    }\n",
              "</style>\n",
              "<table border=\"1\" class=\"dataframe\">\n",
              "  <thead>\n",
              "    <tr style=\"text-align: right;\">\n",
              "      <th></th>\n",
              "      <th>principal component 1</th>\n",
              "      <th>principal component 2</th>\n",
              "    </tr>\n",
              "  </thead>\n",
              "  <tbody>\n",
              "    <tr>\n",
              "      <th>0</th>\n",
              "      <td>8.799451</td>\n",
              "      <td>2.705083</td>\n",
              "    </tr>\n",
              "    <tr>\n",
              "      <th>1</th>\n",
              "      <td>2.818071</td>\n",
              "      <td>-3.788911</td>\n",
              "    </tr>\n",
              "    <tr>\n",
              "      <th>2</th>\n",
              "      <td>5.986063</td>\n",
              "      <td>-0.852540</td>\n",
              "    </tr>\n",
              "    <tr>\n",
              "      <th>3</th>\n",
              "      <td>6.341378</td>\n",
              "      <td>10.812197</td>\n",
              "    </tr>\n",
              "    <tr>\n",
              "      <th>4</th>\n",
              "      <td>4.125749</td>\n",
              "      <td>-1.793391</td>\n",
              "    </tr>\n",
              "  </tbody>\n",
              "</table>\n",
              "</div>"
            ],
            "text/plain": [
              "   principal component 1  principal component 2\n",
              "0               8.799451               2.705083\n",
              "1               2.818071              -3.788911\n",
              "2               5.986063              -0.852540\n",
              "3               6.341378              10.812197\n",
              "4               4.125749              -1.793391"
            ]
          },
          "metadata": {
            "tags": []
          },
          "execution_count": 304
        }
      ]
    },
    {
      "cell_type": "code",
      "metadata": {
        "colab": {
          "base_uri": "https://localhost:8080/",
          "height": 204
        },
        "id": "clRu-E2ANzpP",
        "outputId": "e3538dbb-4df0-4005-927c-0982f326852c"
      },
      "source": [
        "finalDf = pd.concat([principalDf, df[['diagnosis']]], axis = 1)\n",
        "finalDf.head()"
      ],
      "execution_count": 305,
      "outputs": [
        {
          "output_type": "execute_result",
          "data": {
            "text/html": [
              "<div>\n",
              "<style scoped>\n",
              "    .dataframe tbody tr th:only-of-type {\n",
              "        vertical-align: middle;\n",
              "    }\n",
              "\n",
              "    .dataframe tbody tr th {\n",
              "        vertical-align: top;\n",
              "    }\n",
              "\n",
              "    .dataframe thead th {\n",
              "        text-align: right;\n",
              "    }\n",
              "</style>\n",
              "<table border=\"1\" class=\"dataframe\">\n",
              "  <thead>\n",
              "    <tr style=\"text-align: right;\">\n",
              "      <th></th>\n",
              "      <th>principal component 1</th>\n",
              "      <th>principal component 2</th>\n",
              "      <th>diagnosis</th>\n",
              "    </tr>\n",
              "  </thead>\n",
              "  <tbody>\n",
              "    <tr>\n",
              "      <th>0</th>\n",
              "      <td>8.799451</td>\n",
              "      <td>2.705083</td>\n",
              "      <td>M</td>\n",
              "    </tr>\n",
              "    <tr>\n",
              "      <th>1</th>\n",
              "      <td>2.818071</td>\n",
              "      <td>-3.788911</td>\n",
              "      <td>M</td>\n",
              "    </tr>\n",
              "    <tr>\n",
              "      <th>2</th>\n",
              "      <td>5.986063</td>\n",
              "      <td>-0.852540</td>\n",
              "      <td>M</td>\n",
              "    </tr>\n",
              "    <tr>\n",
              "      <th>3</th>\n",
              "      <td>6.341378</td>\n",
              "      <td>10.812197</td>\n",
              "      <td>M</td>\n",
              "    </tr>\n",
              "    <tr>\n",
              "      <th>4</th>\n",
              "      <td>4.125749</td>\n",
              "      <td>-1.793391</td>\n",
              "      <td>M</td>\n",
              "    </tr>\n",
              "  </tbody>\n",
              "</table>\n",
              "</div>"
            ],
            "text/plain": [
              "   principal component 1  principal component 2 diagnosis\n",
              "0               8.799451               2.705083         M\n",
              "1               2.818071              -3.788911         M\n",
              "2               5.986063              -0.852540         M\n",
              "3               6.341378              10.812197         M\n",
              "4               4.125749              -1.793391         M"
            ]
          },
          "metadata": {
            "tags": []
          },
          "execution_count": 305
        }
      ]
    },
    {
      "cell_type": "code",
      "metadata": {
        "colab": {
          "base_uri": "https://localhost:8080/",
          "height": 523
        },
        "id": "zbRYZJiNN1Zc",
        "outputId": "beb3f3dd-13c2-462c-9683-252d4d0921a3"
      },
      "source": [
        "import matplotlib.pyplot as plt\n",
        "\n",
        "fig = plt.figure(figsize = (8,8))\n",
        "ax = fig.add_subplot(1,1,1) \n",
        "ax.set_xlabel('Principal Component 1', fontsize = 15)\n",
        "ax.set_ylabel('Principal Component 2', fontsize = 15)\n",
        "ax.set_title('2 component PCA', fontsize = 20)\n",
        "targets = ['M', 'B']\n",
        "colors = ['r', 'g', 'b']\n",
        "for target, color in zip(targets,colors):\n",
        "    indicesToKeep = finalDf['diagnosis'] == target\n",
        "    ax.scatter(finalDf.loc[indicesToKeep, 'principal component 1']\n",
        "               , finalDf.loc[indicesToKeep, 'principal component 2']\n",
        "               , c = color)\n",
        "ax.legend(targets)\n",
        "ax.grid()"
      ],
      "execution_count": 306,
      "outputs": [
        {
          "output_type": "display_data",
          "data": {
            "image/png": "[encoded data removed]",
            "text/plain": [
              "<Figure size 576x576 with 1 Axes>"
            ]
          },
          "metadata": {
            "tags": [],
            "needs_background": "light"
          }
        }
      ]
    },
    {
      "cell_type": "code",
      "metadata": {
        "id": "fCOyteMsN3Fb",
        "colab": {
          "base_uri": "https://localhost:8080/"
        },
        "outputId": "484b5437-57ad-452d-8d12-5ac662553de5"
      },
      "source": [
        "import matplotlib.pyplot as plt\n",
        "\n",
        "from sklearn.decomposition import PCA\n",
        "from sklearn import datasets\n",
        "\n",
        "cancer = datasets.load_iris()\n",
        "\n",
        "X = cancer.data\n",
        "y = cancer.target\n",
        "target = cancer.target\n",
        "\n",
        "pca = PCA(n_components= 2)\n",
        "X_r1 = pca.fit_transform(X)\n",
        "\n",
        "print('explained variance ratio(first two components): %s'\n",
        "      %str(pca.explained_variance_ratio_))"
      ],
      "execution_count": 307,
      "outputs": [
        {
          "output_type": "stream",
          "text": [
            "explained variance ratio(first two components): [0.92461872 0.05306648]\n"
          ],
          "name": "stdout"
        }
      ]
    },
    {
      "cell_type": "code",
      "metadata": {
        "colab": {
          "base_uri": "https://localhost:8080/",
          "height": 298
        },
        "id": "LIFBKb1XadR-",
        "outputId": "aafc179e-1700-4a34-aff0-6ecf0b5d1b02"
      },
      "source": [
        "plt.figure()\n",
        "target = ['M', 'B']\n",
        "colors = ['r', 'b']\n",
        "lw = 2\n",
        "\n",
        "\n",
        "for color, i, target in zip(colors,[0, 1], target):\n",
        "  plt.scatter(X_r1[y == i, 0], X_r1[y == i,1], alpha=.8, color=color, lw=lw,\n",
        "              label = target)\n",
        "plt.legend(loc = 'best', shadow = False, scatterpoints = 1)\n",
        "plt.title('PCA of Cancer clustering')"
      ],
      "execution_count": 308,
      "outputs": [
        {
          "output_type": "execute_result",
          "data": {
            "text/plain": [
              "Text(0.5, 1.0, 'PCA of Cancer clustering')"
            ]
          },
          "metadata": {
            "tags": []
          },
          "execution_count": 308
        },
        {
          "output_type": "display_data",
          "data": {
            "image/png": "[encoded data removed]",
            "text/plain": [
              "<Figure size 432x288 with 1 Axes>"
            ]
          },
          "metadata": {
            "tags": [],
            "needs_background": "light"
          }
        }
      ]
    },
    {
      "cell_type": "code",
      "metadata": {
        "colab": {
          "base_uri": "https://localhost:8080/"
        },
        "id": "8v0fIIyAamH_",
        "outputId": "ff2ffd80-a6f9-4549-b8de-563576de14a3"
      },
      "source": [
        "from sklearn.model_selection import train_test_split\n",
        "(trainX, testX, trainY, testY) = train_test_split(np.array(X),\tnp.array(y), test_size=0.2)\n",
        "\n",
        "print(trainX.shape)\n",
        "print(testX.shape)\n",
        "\n",
        "print(trainY.shape)\n",
        "print(testY.shape)"
      ],
      "execution_count": 309,
      "outputs": [
        {
          "output_type": "stream",
          "text": [
            "(120, 4)\n",
            "(30, 4)\n",
            "(120,)\n",
            "(30,)\n"
          ],
          "name": "stdout"
        }
      ]
    },
    {
      "cell_type": "code",
      "metadata": {
        "id": "UnlamymCaocP"
      },
      "source": [
        "from keras.applications.mobilenet import MobileNet\n",
        "from keras.callbacks import EarlyStopping, ModelCheckpoint\n",
        "from keras.models import Model\n",
        "from keras.layers import GlobalAveragePooling2D, BatchNormalization"
      ],
      "execution_count": 310,
      "outputs": []
    },
    {
      "cell_type": "code",
      "metadata": {
        "id": "u1wD1_15az0Q"
      },
      "source": [
        "es = EarlyStopping(monitor='val_loss', patience=10, mode='auto', restore_best_weights=True)\n",
        "checkpoint = ModelCheckpoint('best_weight_scene',\n",
        "                             monitor='val_accuracy',\n",
        "                             verbose=1,\n",
        "                             save_best_only=True,\n",
        "                             mode='auto',)"
      ],
      "execution_count": 311,
      "outputs": []
    },
    {
      "cell_type": "code",
      "metadata": {
        "id": "YAB4sX8228o4"
      },
      "source": [
        "from keras.models import Sequential\n",
        "from keras.layers.core import Flatten\n",
        "from keras.layers.core import Dense\n",
        "\n",
        "model = Sequential(\n",
        "    [   \n",
        "        Flatten(input_shape=(4,)),\n",
        "        Dense(128, activation=\"relu\", name=\"layer1\"),\n",
        "        Dense(128, activation=\"relu\", name=\"layer2\"),\n",
        "        Dense(1, activation = \"sigmoid\", name=\"layer3\"),\n",
        "    ]\n",
        ")"
      ],
      "execution_count": 312,
      "outputs": []
    },
    {
      "cell_type": "code",
      "metadata": {
        "colab": {
          "base_uri": "https://localhost:8080/"
        },
        "id": "okjKwEuja2TP",
        "outputId": "5ac3a03a-4637-41dc-a2d1-46f68dcf655e"
      },
      "source": [
        "model.summary()"
      ],
      "execution_count": 313,
      "outputs": [
        {
          "output_type": "stream",
          "text": [
            "Model: \"sequential_17\"\n",
            "_________________________________________________________________\n",
            "Layer (type)                 Output Shape              Param #   \n",
            "=================================================================\n",
            "flatten_17 (Flatten)         (None, 4)                 0         \n",
            "_________________________________________________________________\n",
            "layer1 (Dense)               (None, 128)               640       \n",
            "_________________________________________________________________\n",
            "layer2 (Dense)               (None, 128)               16512     \n",
            "_________________________________________________________________\n",
            "layer3 (Dense)               (None, 1)                 129       \n",
            "=================================================================\n",
            "Total params: 17,281\n",
            "Trainable params: 17,281\n",
            "Non-trainable params: 0\n",
            "_________________________________________________________________\n"
          ],
          "name": "stdout"
        }
      ]
    },
    {
      "cell_type": "code",
      "metadata": {
        "id": "tusDn4hGa4MO"
      },
      "source": [
        "model.compile(loss='mse', optimizer='adam', metrics=['accuracy'])"
      ],
      "execution_count": 314,
      "outputs": []
    },
    {
      "cell_type": "code",
      "metadata": {
        "colab": {
          "base_uri": "https://localhost:8080/"
        },
        "id": "-OTOLiIya6LG",
        "outputId": "4f93a59e-fcec-4386-f6c8-ec6168510d60"
      },
      "source": [
        "H = model.fit(trainX, trainY, validation_data=(testX, testY), epochs=40, batch_size=32, callbacks=[es, checkpoint])"
      ],
      "execution_count": 315,
      "outputs": [
        {
          "output_type": "stream",
          "text": [
            "Epoch 1/40\n",
            "4/4 [==============================] - 1s 122ms/step - loss: 0.7081 - accuracy: 0.2844 - val_loss: 0.3871 - val_accuracy: 0.5000\n",
            "\n",
            "Epoch 00001: val_accuracy improved from -inf to 0.50000, saving model to best_weight_scene\n",
            "INFO:tensorflow:Assets written to: best_weight_scene/assets\n",
            "Epoch 2/40\n",
            "4/4 [==============================] - 0s 9ms/step - loss: 0.5889 - accuracy: 0.3250 - val_loss: 0.3893 - val_accuracy: 0.5000\n",
            "\n",
            "Epoch 00002: val_accuracy did not improve from 0.50000\n",
            "Epoch 3/40\n",
            "4/4 [==============================] - 0s 10ms/step - loss: 0.5851 - accuracy: 0.2885 - val_loss: 0.3525 - val_accuracy: 0.5000\n",
            "\n",
            "Epoch 00003: val_accuracy did not improve from 0.50000\n",
            "Epoch 4/40\n",
            "4/4 [==============================] - 0s 12ms/step - loss: 0.5754 - accuracy: 0.2927 - val_loss: 0.2946 - val_accuracy: 0.5000\n",
            "\n",
            "Epoch 00004: val_accuracy did not improve from 0.50000\n",
            "Epoch 5/40\n",
            "4/4 [==============================] - 0s 16ms/step - loss: 0.4857 - accuracy: 0.4096 - val_loss: 0.2478 - val_accuracy: 0.8333\n",
            "\n",
            "Epoch 00005: val_accuracy improved from 0.50000 to 0.83333, saving model to best_weight_scene\n",
            "INFO:tensorflow:Assets written to: best_weight_scene/assets\n",
            "Epoch 6/40\n",
            "4/4 [==============================] - 0s 10ms/step - loss: 0.4626 - accuracy: 0.6281 - val_loss: 0.2240 - val_accuracy: 0.8333\n",
            "\n",
            "Epoch 00006: val_accuracy did not improve from 0.83333\n",
            "Epoch 7/40\n",
            "4/4 [==============================] - 0s 9ms/step - loss: 0.4524 - accuracy: 0.6146 - val_loss: 0.2073 - val_accuracy: 0.8333\n",
            "\n",
            "Epoch 00007: val_accuracy did not improve from 0.83333\n",
            "Epoch 8/40\n",
            "4/4 [==============================] - 0s 11ms/step - loss: 0.4294 - accuracy: 0.6135 - val_loss: 0.1973 - val_accuracy: 0.8333\n",
            "\n",
            "Epoch 00008: val_accuracy did not improve from 0.83333\n",
            "Epoch 9/40\n",
            "4/4 [==============================] - 0s 10ms/step - loss: 0.3762 - accuracy: 0.6521 - val_loss: 0.1887 - val_accuracy: 0.8333\n",
            "\n",
            "Epoch 00009: val_accuracy did not improve from 0.83333\n",
            "Epoch 10/40\n",
            "4/4 [==============================] - 0s 10ms/step - loss: 0.4089 - accuracy: 0.6104 - val_loss: 0.1818 - val_accuracy: 0.8333\n",
            "\n",
            "Epoch 00010: val_accuracy did not improve from 0.83333\n",
            "Epoch 11/40\n",
            "4/4 [==============================] - 0s 13ms/step - loss: 0.3737 - accuracy: 0.6406 - val_loss: 0.1768 - val_accuracy: 0.8333\n",
            "\n",
            "Epoch 00011: val_accuracy did not improve from 0.83333\n",
            "Epoch 12/40\n",
            "4/4 [==============================] - 0s 11ms/step - loss: 0.3872 - accuracy: 0.6229 - val_loss: 0.1738 - val_accuracy: 0.8333\n",
            "\n",
            "Epoch 00012: val_accuracy did not improve from 0.83333\n",
            "Epoch 13/40\n",
            "4/4 [==============================] - 0s 11ms/step - loss: 0.4241 - accuracy: 0.5833 - val_loss: 0.1722 - val_accuracy: 0.8333\n",
            "\n",
            "Epoch 00013: val_accuracy did not improve from 0.83333\n",
            "Epoch 14/40\n",
            "4/4 [==============================] - 0s 10ms/step - loss: 0.4090 - accuracy: 0.5969 - val_loss: 0.1712 - val_accuracy: 0.8333\n",
            "\n",
            "Epoch 00014: val_accuracy did not improve from 0.83333\n",
            "Epoch 15/40\n",
            "4/4 [==============================] - 0s 12ms/step - loss: 0.3747 - accuracy: 0.6302 - val_loss: 0.1705 - val_accuracy: 0.8333\n",
            "\n",
            "Epoch 00015: val_accuracy did not improve from 0.83333\n",
            "Epoch 16/40\n",
            "4/4 [==============================] - 0s 11ms/step - loss: 0.4152 - accuracy: 0.5885 - val_loss: 0.1700 - val_accuracy: 0.8333\n",
            "\n",
            "Epoch 00016: val_accuracy did not improve from 0.83333\n",
            "Epoch 17/40\n",
            "4/4 [==============================] - 0s 10ms/step - loss: 0.4003 - accuracy: 0.6031 - val_loss: 0.1696 - val_accuracy: 0.8333\n",
            "\n",
            "Epoch 00017: val_accuracy did not improve from 0.83333\n",
            "Epoch 18/40\n",
            "4/4 [==============================] - 0s 10ms/step - loss: 0.3736 - accuracy: 0.6292 - val_loss: 0.1694 - val_accuracy: 0.8333\n",
            "\n",
            "Epoch 00018: val_accuracy did not improve from 0.83333\n",
            "Epoch 19/40\n",
            "4/4 [==============================] - 0s 10ms/step - loss: 0.3764 - accuracy: 0.6260 - val_loss: 0.1691 - val_accuracy: 0.8333\n",
            "\n",
            "Epoch 00019: val_accuracy did not improve from 0.83333\n",
            "Epoch 20/40\n",
            "4/4 [==============================] - 0s 11ms/step - loss: 0.3856 - accuracy: 0.6167 - val_loss: 0.1689 - val_accuracy: 0.8333\n",
            "\n",
            "Epoch 00020: val_accuracy did not improve from 0.83333\n",
            "Epoch 21/40\n",
            "4/4 [==============================] - 0s 12ms/step - loss: 0.3763 - accuracy: 0.6260 - val_loss: 0.1686 - val_accuracy: 0.8333\n",
            "\n",
            "Epoch 00021: val_accuracy did not improve from 0.83333\n",
            "Epoch 22/40\n",
            "4/4 [==============================] - 0s 12ms/step - loss: 0.3611 - accuracy: 0.6406 - val_loss: 0.1685 - val_accuracy: 0.8333\n",
            "\n",
            "Epoch 00022: val_accuracy did not improve from 0.83333\n",
            "Epoch 23/40\n",
            "4/4 [==============================] - 0s 12ms/step - loss: 0.3740 - accuracy: 0.6281 - val_loss: 0.1684 - val_accuracy: 0.8333\n",
            "\n",
            "Epoch 00023: val_accuracy did not improve from 0.83333\n",
            "Epoch 24/40\n",
            "4/4 [==============================] - 0s 10ms/step - loss: 0.3653 - accuracy: 0.6365 - val_loss: 0.1682 - val_accuracy: 0.8333\n",
            "\n",
            "Epoch 00024: val_accuracy did not improve from 0.83333\n",
            "Epoch 25/40\n",
            "4/4 [==============================] - 0s 14ms/step - loss: 0.4515 - accuracy: 0.5500 - val_loss: 0.1681 - val_accuracy: 0.8333\n",
            "\n",
            "Epoch 00025: val_accuracy did not improve from 0.83333\n",
            "Epoch 26/40\n",
            "4/4 [==============================] - 0s 12ms/step - loss: 0.3910 - accuracy: 0.6104 - val_loss: 0.1680 - val_accuracy: 0.8333\n",
            "\n",
            "Epoch 00026: val_accuracy did not improve from 0.83333\n",
            "Epoch 27/40\n",
            "4/4 [==============================] - 0s 10ms/step - loss: 0.3764 - accuracy: 0.6250 - val_loss: 0.1680 - val_accuracy: 0.8333\n",
            "\n",
            "Epoch 00027: val_accuracy did not improve from 0.83333\n",
            "Epoch 28/40\n",
            "4/4 [==============================] - 0s 11ms/step - loss: 0.3627 - accuracy: 0.6385 - val_loss: 0.1679 - val_accuracy: 0.8333\n",
            "\n",
            "Epoch 00028: val_accuracy did not improve from 0.83333\n",
            "Epoch 29/40\n",
            "4/4 [==============================] - 0s 11ms/step - loss: 0.3472 - accuracy: 0.6542 - val_loss: 0.1678 - val_accuracy: 0.8333\n",
            "\n",
            "Epoch 00029: val_accuracy did not improve from 0.83333\n",
            "Epoch 30/40\n",
            "4/4 [==============================] - 0s 10ms/step - loss: 0.3418 - accuracy: 0.6594 - val_loss: 0.1678 - val_accuracy: 0.8333\n",
            "\n",
            "Epoch 00030: val_accuracy did not improve from 0.83333\n",
            "Epoch 31/40\n",
            "4/4 [==============================] - 0s 10ms/step - loss: 0.3720 - accuracy: 0.6292 - val_loss: 0.1677 - val_accuracy: 0.8333\n",
            "\n",
            "Epoch 00031: val_accuracy did not improve from 0.83333\n",
            "Epoch 32/40\n",
            "4/4 [==============================] - 0s 10ms/step - loss: 0.3804 - accuracy: 0.6208 - val_loss: 0.1677 - val_accuracy: 0.8333\n",
            "\n",
            "Epoch 00032: val_accuracy did not improve from 0.83333\n",
            "Epoch 33/40\n",
            "4/4 [==============================] - 0s 12ms/step - loss: 0.4176 - accuracy: 0.5833 - val_loss: 0.1676 - val_accuracy: 0.8333\n",
            "\n",
            "Epoch 00033: val_accuracy did not improve from 0.83333\n",
            "Epoch 34/40\n",
            "4/4 [==============================] - 0s 15ms/step - loss: 0.3978 - accuracy: 0.6031 - val_loss: 0.1676 - val_accuracy: 0.8333\n",
            "\n",
            "Epoch 00034: val_accuracy did not improve from 0.83333\n",
            "Epoch 35/40\n",
            "4/4 [==============================] - 0s 12ms/step - loss: 0.3708 - accuracy: 0.6302 - val_loss: 0.1675 - val_accuracy: 0.8333\n",
            "\n",
            "Epoch 00035: val_accuracy did not improve from 0.83333\n",
            "Epoch 36/40\n",
            "4/4 [==============================] - 0s 11ms/step - loss: 0.4145 - accuracy: 0.5865 - val_loss: 0.1675 - val_accuracy: 0.8333\n",
            "\n",
            "Epoch 00036: val_accuracy did not improve from 0.83333\n",
            "Epoch 37/40\n",
            "4/4 [==============================] - 0s 10ms/step - loss: 0.3530 - accuracy: 0.6479 - val_loss: 0.1675 - val_accuracy: 0.8333\n",
            "\n",
            "Epoch 00037: val_accuracy did not improve from 0.83333\n",
            "Epoch 38/40\n",
            "4/4 [==============================] - 0s 13ms/step - loss: 0.3456 - accuracy: 0.6552 - val_loss: 0.1674 - val_accuracy: 0.8333\n",
            "\n",
            "Epoch 00038: val_accuracy did not improve from 0.83333\n",
            "Epoch 39/40\n",
            "4/4 [==============================] - 0s 10ms/step - loss: 0.3924 - accuracy: 0.6083 - val_loss: 0.1674 - val_accuracy: 0.8333\n",
            "\n",
            "Epoch 00039: val_accuracy did not improve from 0.83333\n",
            "Epoch 40/40\n",
            "4/4 [==============================] - 0s 10ms/step - loss: 0.3956 - accuracy: 0.6052 - val_loss: 0.1674 - val_accuracy: 0.8333\n",
            "\n",
            "Epoch 00040: val_accuracy did not improve from 0.83333\n"
          ],
          "name": "stdout"
        }
      ]
    },
    {
      "cell_type": "code",
      "metadata": {
        "colab": {
          "base_uri": "https://localhost:8080/",
          "height": 590
        },
        "id": "E3rLhFtSa8u2",
        "outputId": "c3aa492f-ffda-4b85-e423-032644112755"
      },
      "source": [
        "import matplotlib.pyplot as plt\n",
        "\n",
        "print(H.history.keys())\n",
        "# summarize history for accuracy\n",
        "plt.plot(H.history['accuracy'])\n",
        "plt.plot(H.history['val_accuracy'])\n",
        "plt.title('model accuracy')\n",
        "plt.ylabel('accuracy')\n",
        "plt.xlabel('epoch')\n",
        "plt.legend(['train', 'test'], loc='upper left')\n",
        "plt.show()\n",
        "# summarize history for loss\n",
        "plt.plot(H.history['loss'])\n",
        "plt.plot(H.history['val_loss'])\n",
        "plt.title('model loss')\n",
        "plt.ylabel('loss')\n",
        "plt.xlabel('epoch')\n",
        "plt.legend(['train', 'test'], loc='upper left')\n",
        "plt.show()"
      ],
      "execution_count": 316,
      "outputs": [
        {
          "output_type": "stream",
          "text": [
            "dict_keys(['loss', 'accuracy', 'val_loss', 'val_accuracy'])\n"
          ],
          "name": "stdout"
        },
        {
          "output_type": "display_data",
          "data": {
            "image/png": "[encoded data removed]",
            "text/plain": [
              "<Figure size 432x288 with 1 Axes>"
            ]
          },
          "metadata": {
            "tags": [],
            "needs_background": "light"
          }
        },
        {
          "output_type": "display_data",
          "data": {
            "image/png": "[encoded data removed]",
            "text/plain": [
              "<Figure size 432x288 with 1 Axes>"
            ]
          },
          "metadata": {
            "tags": [],
            "needs_background": "light"
          }
        }
      ]
    },
    {
      "cell_type": "code",
      "metadata": {
        "colab": {
          "base_uri": "https://localhost:8080/"
        },
        "id": "AsWoMR01a-6Y",
        "outputId": "084a3c38-1868-444d-c08b-bb0330505553"
      },
      "source": [
        "x.shape"
      ],
      "execution_count": 317,
      "outputs": [
        {
          "output_type": "execute_result",
          "data": {
            "text/plain": [
              "(569, 32)"
            ]
          },
          "metadata": {
            "tags": []
          },
          "execution_count": 317
        }
      ]
    },
    {
      "cell_type": "markdown",
      "metadata": {
        "id": "u80_ki4m-047"
      },
      "source": [
        "#**LDA** "
      ]
    },
    {
      "cell_type": "code",
      "metadata": {
        "id": "DvU1jCMZ-3Ta",
        "colab": {
          "base_uri": "https://localhost:8080/"
        },
        "outputId": "2eb4baf9-442a-453c-b332-0ba52e5c452d"
      },
      "source": [
        "import matplotlib.pyplot as plt\n",
        "from sklearn import datasets\n",
        "from sklearn.discriminant_analysis import LinearDiscriminantAnalysis\n",
        "\n",
        "cancer = datasets.load_iris()\n",
        "\n",
        "X = cancer.data\n",
        "y = cancer.target\n",
        "target = cancer.target\n",
        "\n",
        "lda = LinearDiscriminantAnalysis (n_components= 2)\n",
        "X1 =  lda.fit_transform(X, y)\n",
        "\n",
        "print('explained variance ratio(first two components): %s'\n",
        "      %str(lda.explained_variance_ratio_))"
      ],
      "execution_count": 270,
      "outputs": [
        {
          "output_type": "stream",
          "text": [
            "explained variance ratio(first two components): [0.9912126 0.0087874]\n"
          ],
          "name": "stdout"
        }
      ]
    },
    {
      "cell_type": "code",
      "metadata": {
        "colab": {
          "base_uri": "https://localhost:8080/",
          "height": 298
        },
        "id": "OSHFq7cbBKMR",
        "outputId": "26a9220f-ec0c-47fa-8096-0eee3468f6ca"
      },
      "source": [
        "plt.figure()\n",
        "target = ['M', 'B']\n",
        "colors = ['r', 'b']\n",
        "lw = 2\n",
        "\n",
        "\n",
        "for color, i, target in zip(colors,[0, 1], target):\n",
        "  plt.scatter(X1[y == i, 0], X1[y == i,1], alpha=.8, color=color, lw=lw,\n",
        "              label = target)\n",
        "plt.legend(loc = 'best', shadow = False, scatterpoints = 1)\n",
        "plt.title('LDA of Cancer clustering')"
      ],
      "execution_count": 271,
      "outputs": [
        {
          "output_type": "execute_result",
          "data": {
            "text/plain": [
              "Text(0.5, 1.0, 'LDA of Cancer clustering')"
            ]
          },
          "metadata": {
            "tags": []
          },
          "execution_count": 271
        },
        {
          "output_type": "display_data",
          "data": {
            "image/png": "[encoded data removed]",
            "text/plain": [
              "<Figure size 432x288 with 1 Axes>"
            ]
          },
          "metadata": {
            "tags": [],
            "needs_background": "light"
          }
        }
      ]
    },
    {
      "cell_type": "code",
      "metadata": {
        "colab": {
          "base_uri": "https://localhost:8080/"
        },
        "id": "6BiIA3wDDjLC",
        "outputId": "0109955d-fd95-4618-ec82-77509d417a4f"
      },
      "source": [
        "print(X)"
      ],
      "execution_count": 272,
      "outputs": [
        {
          "output_type": "stream",
          "text": [
            "[[5.1 3.5 1.4 0.2]\n",
            " [4.9 3.  1.4 0.2]\n",
            " [4.7 3.2 1.3 0.2]\n",
            " [4.6 3.1 1.5 0.2]\n",
            " [5.  3.6 1.4 0.2]\n",
            " [5.4 3.9 1.7 0.4]\n",
            " [4.6 3.4 1.4 0.3]\n",
            " [5.  3.4 1.5 0.2]\n",
            " [4.4 2.9 1.4 0.2]\n",
            " [4.9 3.1 1.5 0.1]\n",
            " [5.4 3.7 1.5 0.2]\n",
            " [4.8 3.4 1.6 0.2]\n",
            " [4.8 3.  1.4 0.1]\n",
            " [4.3 3.  1.1 0.1]\n",
            " [5.8 4.  1.2 0.2]\n",
            " [5.7 4.4 1.5 0.4]\n",
            " [5.4 3.9 1.3 0.4]\n",
            " [5.1 3.5 1.4 0.3]\n",
            " [5.7 3.8 1.7 0.3]\n",
            " [5.1 3.8 1.5 0.3]\n",
            " [5.4 3.4 1.7 0.2]\n",
            " [5.1 3.7 1.5 0.4]\n",
            " [4.6 3.6 1.  0.2]\n",
            " [5.1 3.3 1.7 0.5]\n",
            " [4.8 3.4 1.9 0.2]\n",
            " [5.  3.  1.6 0.2]\n",
            " [5.  3.4 1.6 0.4]\n",
            " [5.2 3.5 1.5 0.2]\n",
            " [5.2 3.4 1.4 0.2]\n",
            " [4.7 3.2 1.6 0.2]\n",
            " [4.8 3.1 1.6 0.2]\n",
            " [5.4 3.4 1.5 0.4]\n",
            " [5.2 4.1 1.5 0.1]\n",
            " [5.5 4.2 1.4 0.2]\n",
            " [4.9 3.1 1.5 0.2]\n",
            " [5.  3.2 1.2 0.2]\n",
            " [5.5 3.5 1.3 0.2]\n",
            " [4.9 3.6 1.4 0.1]\n",
            " [4.4 3.  1.3 0.2]\n",
            " [5.1 3.4 1.5 0.2]\n",
            " [5.  3.5 1.3 0.3]\n",
            " [4.5 2.3 1.3 0.3]\n",
            " [4.4 3.2 1.3 0.2]\n",
            " [5.  3.5 1.6 0.6]\n",
            " [5.1 3.8 1.9 0.4]\n",
            " [4.8 3.  1.4 0.3]\n",
            " [5.1 3.8 1.6 0.2]\n",
            " [4.6 3.2 1.4 0.2]\n",
            " [5.3 3.7 1.5 0.2]\n",
            " [5.  3.3 1.4 0.2]\n",
            " [7.  3.2 4.7 1.4]\n",
            " [6.4 3.2 4.5 1.5]\n",
            " [6.9 3.1 4.9 1.5]\n",
            " [5.5 2.3 4.  1.3]\n",
            " [6.5 2.8 4.6 1.5]\n",
            " [5.7 2.8 4.5 1.3]\n",
            " [6.3 3.3 4.7 1.6]\n",
            " [4.9 2.4 3.3 1. ]\n",
            " [6.6 2.9 4.6 1.3]\n",
            " [5.2 2.7 3.9 1.4]\n",
            " [5.  2.  3.5 1. ]\n",
            " [5.9 3.  4.2 1.5]\n",
            " [6.  2.2 4.  1. ]\n",
            " [6.1 2.9 4.7 1.4]\n",
            " [5.6 2.9 3.6 1.3]\n",
            " [6.7 3.1 4.4 1.4]\n",
            " [5.6 3.  4.5 1.5]\n",
            " [5.8 2.7 4.1 1. ]\n",
            " [6.2 2.2 4.5 1.5]\n",
            " [5.6 2.5 3.9 1.1]\n",
            " [5.9 3.2 4.8 1.8]\n",
            " [6.1 2.8 4.  1.3]\n",
            " [6.3 2.5 4.9 1.5]\n",
            " [6.1 2.8 4.7 1.2]\n",
            " [6.4 2.9 4.3 1.3]\n",
            " [6.6 3.  4.4 1.4]\n",
            " [6.8 2.8 4.8 1.4]\n",
            " [6.7 3.  5.  1.7]\n",
            " [6.  2.9 4.5 1.5]\n",
            " [5.7 2.6 3.5 1. ]\n",
            " [5.5 2.4 3.8 1.1]\n",
            " [5.5 2.4 3.7 1. ]\n",
            " [5.8 2.7 3.9 1.2]\n",
            " [6.  2.7 5.1 1.6]\n",
            " [5.4 3.  4.5 1.5]\n",
            " [6.  3.4 4.5 1.6]\n",
            " [6.7 3.1 4.7 1.5]\n",
            " [6.3 2.3 4.4 1.3]\n",
            " [5.6 3.  4.1 1.3]\n",
            " [5.5 2.5 4.  1.3]\n",
            " [5.5 2.6 4.4 1.2]\n",
            " [6.1 3.  4.6 1.4]\n",
            " [5.8 2.6 4.  1.2]\n",
            " [5.  2.3 3.3 1. ]\n",
            " [5.6 2.7 4.2 1.3]\n",
            " [5.7 3.  4.2 1.2]\n",
            " [5.7 2.9 4.2 1.3]\n",
            " [6.2 2.9 4.3 1.3]\n",
            " [5.1 2.5 3.  1.1]\n",
            " [5.7 2.8 4.1 1.3]\n",
            " [6.3 3.3 6.  2.5]\n",
            " [5.8 2.7 5.1 1.9]\n",
            " [7.1 3.  5.9 2.1]\n",
            " [6.3 2.9 5.6 1.8]\n",
            " [6.5 3.  5.8 2.2]\n",
            " [7.6 3.  6.6 2.1]\n",
            " [4.9 2.5 4.5 1.7]\n",
            " [7.3 2.9 6.3 1.8]\n",
            " [6.7 2.5 5.8 1.8]\n",
            " [7.2 3.6 6.1 2.5]\n",
            " [6.5 3.2 5.1 2. ]\n",
            " [6.4 2.7 5.3 1.9]\n",
            " [6.8 3.  5.5 2.1]\n",
            " [5.7 2.5 5.  2. ]\n",
            " [5.8 2.8 5.1 2.4]\n",
            " [6.4 3.2 5.3 2.3]\n",
            " [6.5 3.  5.5 1.8]\n",
            " [7.7 3.8 6.7 2.2]\n",
            " [7.7 2.6 6.9 2.3]\n",
            " [6.  2.2 5.  1.5]\n",
            " [6.9 3.2 5.7 2.3]\n",
            " [5.6 2.8 4.9 2. ]\n",
            " [7.7 2.8 6.7 2. ]\n",
            " [6.3 2.7 4.9 1.8]\n",
            " [6.7 3.3 5.7 2.1]\n",
            " [7.2 3.2 6.  1.8]\n",
            " [6.2 2.8 4.8 1.8]\n",
            " [6.1 3.  4.9 1.8]\n",
            " [6.4 2.8 5.6 2.1]\n",
            " [7.2 3.  5.8 1.6]\n",
            " [7.4 2.8 6.1 1.9]\n",
            " [7.9 3.8 6.4 2. ]\n",
            " [6.4 2.8 5.6 2.2]\n",
            " [6.3 2.8 5.1 1.5]\n",
            " [6.1 2.6 5.6 1.4]\n",
            " [7.7 3.  6.1 2.3]\n",
            " [6.3 3.4 5.6 2.4]\n",
            " [6.4 3.1 5.5 1.8]\n",
            " [6.  3.  4.8 1.8]\n",
            " [6.9 3.1 5.4 2.1]\n",
            " [6.7 3.1 5.6 2.4]\n",
            " [6.9 3.1 5.1 2.3]\n",
            " [5.8 2.7 5.1 1.9]\n",
            " [6.8 3.2 5.9 2.3]\n",
            " [6.7 3.3 5.7 2.5]\n",
            " [6.7 3.  5.2 2.3]\n",
            " [6.3 2.5 5.  1.9]\n",
            " [6.5 3.  5.2 2. ]\n",
            " [6.2 3.4 5.4 2.3]\n",
            " [5.9 3.  5.1 1.8]]\n"
          ],
          "name": "stdout"
        }
      ]
    },
    {
      "cell_type": "code",
      "metadata": {
        "colab": {
          "base_uri": "https://localhost:8080/"
        },
        "id": "lns-jgvx6FA8",
        "outputId": "07102575-8b53-4725-d7fd-0df931e395b0"
      },
      "source": [
        "print(y)"
      ],
      "execution_count": 273,
      "outputs": [
        {
          "output_type": "stream",
          "text": [
            "[0 0 0 0 0 0 0 0 0 0 0 0 0 0 0 0 0 0 0 0 0 0 0 0 0 0 0 0 0 0 0 0 0 0 0 0 0\n",
            " 0 0 0 0 0 0 0 0 0 0 0 0 0 1 1 1 1 1 1 1 1 1 1 1 1 1 1 1 1 1 1 1 1 1 1 1 1\n",
            " 1 1 1 1 1 1 1 1 1 1 1 1 1 1 1 1 1 1 1 1 1 1 1 1 1 1 2 2 2 2 2 2 2 2 2 2 2\n",
            " 2 2 2 2 2 2 2 2 2 2 2 2 2 2 2 2 2 2 2 2 2 2 2 2 2 2 2 2 2 2 2 2 2 2 2 2 2\n",
            " 2 2]\n"
          ],
          "name": "stdout"
        }
      ]
    },
    {
      "cell_type": "code",
      "metadata": {
        "colab": {
          "base_uri": "https://localhost:8080/"
        },
        "id": "5-O-mx_K6Gtk",
        "outputId": "5c3b567a-4b00-47fa-f0ab-2be41b1d11dd"
      },
      "source": [
        "from sklearn.model_selection import train_test_split\n",
        "(trainX, testX, trainY, testY) = train_test_split(np.array(X),\tnp.array(y), test_size=0.2)\n",
        "\n",
        "print(trainX.shape)\n",
        "print(testX.shape)\n",
        "\n",
        "print(trainY.shape)\n",
        "print(testY.shape)"
      ],
      "execution_count": 274,
      "outputs": [
        {
          "output_type": "stream",
          "text": [
            "(120, 4)\n",
            "(30, 4)\n",
            "(120,)\n",
            "(30,)\n"
          ],
          "name": "stdout"
        }
      ]
    },
    {
      "cell_type": "code",
      "metadata": {
        "id": "mqlgntpD6K29"
      },
      "source": [
        "from keras.applications.mobilenet import MobileNet\n",
        "from keras.callbacks import EarlyStopping, ModelCheckpoint\n",
        "from keras.models import Model\n",
        "from keras.layers import GlobalAveragePooling2D, BatchNormalization"
      ],
      "execution_count": 275,
      "outputs": []
    },
    {
      "cell_type": "code",
      "metadata": {
        "id": "WIbFTL9h6M8O"
      },
      "source": [
        "es = EarlyStopping(monitor='val_loss',\n",
        "                   patience=10,\n",
        "                   mode='auto',\n",
        "                   restore_best_weights=True)\n",
        "checkpoint = ModelCheckpoint('best_weight_scene',\n",
        "                             monitor='val_accuracy',\n",
        "                             verbose=1,\n",
        "                             save_best_only=True,\n",
        "                             mode='auto',)"
      ],
      "execution_count": 276,
      "outputs": []
    },
    {
      "cell_type": "code",
      "metadata": {
        "id": "8u0KFBta6OvN"
      },
      "source": [
        "\n",
        "from keras.models import Sequential\n",
        "from keras.layers.core import Flatten\n",
        "from keras.layers.core import Dense\n",
        "\n",
        "model = Sequential(\n",
        "    [   \n",
        "        Flatten(input_shape=(4,)),\n",
        "        Dense(128, activation=\"relu\", name=\"layer1\"),\n",
        "        Dense(128, activation=\"relu\", name=\"layer2\"),\n",
        "        Dense(1, activation = \"sigmoid\", name=\"layer3\"),\n",
        "    ]\n",
        ")"
      ],
      "execution_count": 277,
      "outputs": []
    },
    {
      "cell_type": "code",
      "metadata": {
        "colab": {
          "base_uri": "https://localhost:8080/"
        },
        "id": "t7o6ArIg6RqN",
        "outputId": "6c659514-53f1-4c0b-f090-c4fb255d8b19"
      },
      "source": [
        "model.summary()"
      ],
      "execution_count": 278,
      "outputs": [
        {
          "output_type": "stream",
          "text": [
            "Model: \"sequential_15\"\n",
            "_________________________________________________________________\n",
            "Layer (type)                 Output Shape              Param #   \n",
            "=================================================================\n",
            "flatten_15 (Flatten)         (None, 4)                 0         \n",
            "_________________________________________________________________\n",
            "layer1 (Dense)               (None, 128)               640       \n",
            "_________________________________________________________________\n",
            "layer2 (Dense)               (None, 128)               16512     \n",
            "_________________________________________________________________\n",
            "layer3 (Dense)               (None, 1)                 129       \n",
            "=================================================================\n",
            "Total params: 17,281\n",
            "Trainable params: 17,281\n",
            "Non-trainable params: 0\n",
            "_________________________________________________________________\n"
          ],
          "name": "stdout"
        }
      ]
    },
    {
      "cell_type": "code",
      "metadata": {
        "id": "bs5GhrL66Tfl"
      },
      "source": [
        "model.compile(loss='mse', optimizer='adam', metrics=['accuracy'])"
      ],
      "execution_count": 279,
      "outputs": []
    },
    {
      "cell_type": "code",
      "metadata": {
        "colab": {
          "base_uri": "https://localhost:8080/"
        },
        "id": "kA8CNyee6Vci",
        "outputId": "f5eb0781-6b23-4451-ebd7-e5db5c101ac0"
      },
      "source": [
        "H = model.fit(trainX, trainY, validation_data=(testX, testY), epochs=40, batch_size=32, callbacks=[es, checkpoint])"
      ],
      "execution_count": 280,
      "outputs": [
        {
          "output_type": "stream",
          "text": [
            "Epoch 1/40\n",
            "4/4 [==============================] - 1s 119ms/step - loss: 0.6576 - accuracy: 0.2779 - val_loss: 0.5130 - val_accuracy: 0.3667\n",
            "\n",
            "Epoch 00001: val_accuracy improved from -inf to 0.36667, saving model to best_weight_scene\n",
            "INFO:tensorflow:Assets written to: best_weight_scene/assets\n",
            "Epoch 2/40\n",
            "4/4 [==============================] - 0s 10ms/step - loss: 0.5538 - accuracy: 0.3206 - val_loss: 0.4878 - val_accuracy: 0.3667\n",
            "\n",
            "Epoch 00002: val_accuracy did not improve from 0.36667\n",
            "Epoch 3/40\n",
            "4/4 [==============================] - 0s 9ms/step - loss: 0.5313 - accuracy: 0.3206 - val_loss: 0.4436 - val_accuracy: 0.3667\n",
            "\n",
            "Epoch 00003: val_accuracy did not improve from 0.36667\n",
            "Epoch 4/40\n",
            "4/4 [==============================] - 0s 9ms/step - loss: 0.4915 - accuracy: 0.3517 - val_loss: 0.3989 - val_accuracy: 0.7000\n",
            "\n",
            "Epoch 00004: val_accuracy improved from 0.36667 to 0.70000, saving model to best_weight_scene\n",
            "INFO:tensorflow:Assets written to: best_weight_scene/assets\n",
            "Epoch 5/40\n",
            "4/4 [==============================] - 0s 9ms/step - loss: 0.4513 - accuracy: 0.6508 - val_loss: 0.3696 - val_accuracy: 0.7000\n",
            "\n",
            "Epoch 00005: val_accuracy did not improve from 0.70000\n",
            "Epoch 6/40\n",
            "4/4 [==============================] - 0s 10ms/step - loss: 0.4215 - accuracy: 0.6550 - val_loss: 0.3451 - val_accuracy: 0.7000\n",
            "\n",
            "Epoch 00006: val_accuracy did not improve from 0.70000\n",
            "Epoch 7/40\n",
            "4/4 [==============================] - 0s 11ms/step - loss: 0.3891 - accuracy: 0.6602 - val_loss: 0.3282 - val_accuracy: 0.7000\n",
            "\n",
            "Epoch 00007: val_accuracy did not improve from 0.70000\n",
            "Epoch 8/40\n",
            "4/4 [==============================] - 0s 11ms/step - loss: 0.3499 - accuracy: 0.6842 - val_loss: 0.3182 - val_accuracy: 0.7000\n",
            "\n",
            "Epoch 00008: val_accuracy did not improve from 0.70000\n",
            "Epoch 9/40\n",
            "4/4 [==============================] - 0s 11ms/step - loss: 0.3935 - accuracy: 0.6269 - val_loss: 0.3121 - val_accuracy: 0.7000\n",
            "\n",
            "Epoch 00009: val_accuracy did not improve from 0.70000\n",
            "Epoch 10/40\n",
            "4/4 [==============================] - 0s 10ms/step - loss: 0.3739 - accuracy: 0.6415 - val_loss: 0.3080 - val_accuracy: 0.7000\n",
            "\n",
            "Epoch 00010: val_accuracy did not improve from 0.70000\n",
            "Epoch 11/40\n",
            "4/4 [==============================] - 0s 9ms/step - loss: 0.3413 - accuracy: 0.6685 - val_loss: 0.3054 - val_accuracy: 0.7000\n",
            "\n",
            "Epoch 00011: val_accuracy did not improve from 0.70000\n",
            "Epoch 12/40\n",
            "4/4 [==============================] - 0s 9ms/step - loss: 0.3743 - accuracy: 0.6331 - val_loss: 0.3039 - val_accuracy: 0.7000\n",
            "\n",
            "Epoch 00012: val_accuracy did not improve from 0.70000\n",
            "Epoch 13/40\n",
            "4/4 [==============================] - 0s 10ms/step - loss: 0.3325 - accuracy: 0.6727 - val_loss: 0.3029 - val_accuracy: 0.7000\n",
            "\n",
            "Epoch 00013: val_accuracy did not improve from 0.70000\n",
            "Epoch 14/40\n",
            "4/4 [==============================] - 0s 11ms/step - loss: 0.3218 - accuracy: 0.6821 - val_loss: 0.3022 - val_accuracy: 0.7000\n",
            "\n",
            "Epoch 00014: val_accuracy did not improve from 0.70000\n",
            "Epoch 15/40\n",
            "4/4 [==============================] - 0s 10ms/step - loss: 0.3273 - accuracy: 0.6758 - val_loss: 0.3017 - val_accuracy: 0.7000\n",
            "\n",
            "Epoch 00015: val_accuracy did not improve from 0.70000\n",
            "Epoch 16/40\n",
            "4/4 [==============================] - 0s 12ms/step - loss: 0.3468 - accuracy: 0.6560 - val_loss: 0.3014 - val_accuracy: 0.7000\n",
            "\n",
            "Epoch 00016: val_accuracy did not improve from 0.70000\n",
            "Epoch 17/40\n",
            "4/4 [==============================] - 0s 11ms/step - loss: 0.3868 - accuracy: 0.6154 - val_loss: 0.3012 - val_accuracy: 0.7000\n",
            "\n",
            "Epoch 00017: val_accuracy did not improve from 0.70000\n",
            "Epoch 18/40\n",
            "4/4 [==============================] - 0s 10ms/step - loss: 0.3624 - accuracy: 0.6394 - val_loss: 0.3010 - val_accuracy: 0.7000\n",
            "\n",
            "Epoch 00018: val_accuracy did not improve from 0.70000\n",
            "Epoch 19/40\n",
            "4/4 [==============================] - 0s 10ms/step - loss: 0.3330 - accuracy: 0.6685 - val_loss: 0.3008 - val_accuracy: 0.7000\n",
            "\n",
            "Epoch 00019: val_accuracy did not improve from 0.70000\n",
            "Epoch 20/40\n",
            "4/4 [==============================] - 0s 10ms/step - loss: 0.3215 - accuracy: 0.6800 - val_loss: 0.3007 - val_accuracy: 0.7000\n",
            "\n",
            "Epoch 00020: val_accuracy did not improve from 0.70000\n",
            "Epoch 21/40\n",
            "4/4 [==============================] - 0s 11ms/step - loss: 0.3494 - accuracy: 0.6519 - val_loss: 0.3006 - val_accuracy: 0.7000\n",
            "\n",
            "Epoch 00021: val_accuracy did not improve from 0.70000\n",
            "Epoch 22/40\n",
            "4/4 [==============================] - 0s 10ms/step - loss: 0.3400 - accuracy: 0.6613 - val_loss: 0.3006 - val_accuracy: 0.7000\n",
            "\n",
            "Epoch 00022: val_accuracy did not improve from 0.70000\n",
            "Epoch 23/40\n",
            "4/4 [==============================] - 0s 11ms/step - loss: 0.3450 - accuracy: 0.6560 - val_loss: 0.3005 - val_accuracy: 0.7000\n",
            "\n",
            "Epoch 00023: val_accuracy did not improve from 0.70000\n",
            "Epoch 24/40\n",
            "4/4 [==============================] - 0s 12ms/step - loss: 0.3262 - accuracy: 0.6748 - val_loss: 0.3005 - val_accuracy: 0.7000\n",
            "\n",
            "Epoch 00024: val_accuracy did not improve from 0.70000\n",
            "Epoch 25/40\n",
            "4/4 [==============================] - 0s 12ms/step - loss: 0.3678 - accuracy: 0.6331 - val_loss: 0.3004 - val_accuracy: 0.7000\n",
            "\n",
            "Epoch 00025: val_accuracy did not improve from 0.70000\n",
            "Epoch 26/40\n",
            "4/4 [==============================] - 0s 13ms/step - loss: 0.3323 - accuracy: 0.6685 - val_loss: 0.3004 - val_accuracy: 0.7000\n",
            "\n",
            "Epoch 00026: val_accuracy did not improve from 0.70000\n",
            "Epoch 27/40\n",
            "4/4 [==============================] - 0s 11ms/step - loss: 0.3249 - accuracy: 0.6758 - val_loss: 0.3004 - val_accuracy: 0.7000\n",
            "\n",
            "Epoch 00027: val_accuracy did not improve from 0.70000\n",
            "Epoch 28/40\n",
            "4/4 [==============================] - 0s 11ms/step - loss: 0.3374 - accuracy: 0.6633 - val_loss: 0.3003 - val_accuracy: 0.7000\n",
            "\n",
            "Epoch 00028: val_accuracy did not improve from 0.70000\n",
            "Epoch 29/40\n",
            "4/4 [==============================] - 0s 11ms/step - loss: 0.3603 - accuracy: 0.6404 - val_loss: 0.3003 - val_accuracy: 0.7000\n",
            "\n",
            "Epoch 00029: val_accuracy did not improve from 0.70000\n",
            "Epoch 30/40\n",
            "4/4 [==============================] - 0s 10ms/step - loss: 0.3393 - accuracy: 0.6613 - val_loss: 0.3003 - val_accuracy: 0.7000\n",
            "\n",
            "Epoch 00030: val_accuracy did not improve from 0.70000\n",
            "Epoch 31/40\n",
            "4/4 [==============================] - 0s 11ms/step - loss: 0.3424 - accuracy: 0.6581 - val_loss: 0.3003 - val_accuracy: 0.7000\n",
            "\n",
            "Epoch 00031: val_accuracy did not improve from 0.70000\n",
            "Epoch 32/40\n",
            "4/4 [==============================] - 0s 10ms/step - loss: 0.3216 - accuracy: 0.6790 - val_loss: 0.3002 - val_accuracy: 0.7000\n",
            "\n",
            "Epoch 00032: val_accuracy did not improve from 0.70000\n",
            "Epoch 33/40\n",
            "4/4 [==============================] - 0s 11ms/step - loss: 0.3205 - accuracy: 0.6800 - val_loss: 0.3002 - val_accuracy: 0.7000\n",
            "\n",
            "Epoch 00033: val_accuracy did not improve from 0.70000\n",
            "Epoch 34/40\n",
            "4/4 [==============================] - 0s 10ms/step - loss: 0.3340 - accuracy: 0.6665 - val_loss: 0.3002 - val_accuracy: 0.7000\n",
            "\n",
            "Epoch 00034: val_accuracy did not improve from 0.70000\n",
            "Epoch 35/40\n",
            "4/4 [==============================] - 0s 9ms/step - loss: 0.3381 - accuracy: 0.6623 - val_loss: 0.3002 - val_accuracy: 0.7000\n",
            "\n",
            "Epoch 00035: val_accuracy did not improve from 0.70000\n",
            "Epoch 36/40\n",
            "4/4 [==============================] - 0s 10ms/step - loss: 0.3246 - accuracy: 0.6758 - val_loss: 0.3002 - val_accuracy: 0.7000\n",
            "\n",
            "Epoch 00036: val_accuracy did not improve from 0.70000\n",
            "Epoch 37/40\n",
            "4/4 [==============================] - 0s 12ms/step - loss: 0.3329 - accuracy: 0.6675 - val_loss: 0.3002 - val_accuracy: 0.7000\n",
            "\n",
            "Epoch 00037: val_accuracy did not improve from 0.70000\n",
            "Epoch 38/40\n",
            "4/4 [==============================] - 0s 13ms/step - loss: 0.3600 - accuracy: 0.6404 - val_loss: 0.3002 - val_accuracy: 0.7000\n",
            "\n",
            "Epoch 00038: val_accuracy did not improve from 0.70000\n",
            "Epoch 39/40\n",
            "4/4 [==============================] - 0s 11ms/step - loss: 0.3350 - accuracy: 0.6654 - val_loss: 0.3002 - val_accuracy: 0.7000\n",
            "\n",
            "Epoch 00039: val_accuracy did not improve from 0.70000\n",
            "Epoch 40/40\n",
            "4/4 [==============================] - 0s 12ms/step - loss: 0.3474 - accuracy: 0.6529 - val_loss: 0.3002 - val_accuracy: 0.7000\n",
            "\n",
            "Epoch 00040: val_accuracy did not improve from 0.70000\n"
          ],
          "name": "stdout"
        }
      ]
    },
    {
      "cell_type": "code",
      "metadata": {
        "colab": {
          "base_uri": "https://localhost:8080/",
          "height": 590
        },
        "id": "WwJ8wr7x6YoH",
        "outputId": "ed80e5c0-de49-40f7-87e6-7a9c1f5551a5"
      },
      "source": [
        "import matplotlib.pyplot as plt\n",
        "\n",
        "print(H.history.keys())\n",
        "# summarize history for accuracy\n",
        "plt.plot(H.history['accuracy'])\n",
        "plt.plot(H.history['val_accuracy'])\n",
        "plt.title('model accuracy')\n",
        "plt.ylabel('accuracy')\n",
        "plt.xlabel('epoch')\n",
        "plt.legend(['train', 'test'], loc='upper left')\n",
        "plt.show()\n",
        "# summarize history for loss\n",
        "plt.plot(H.history['loss'])\n",
        "plt.plot(H.history['val_loss'])\n",
        "plt.title('model loss')\n",
        "plt.ylabel('loss')\n",
        "plt.xlabel('epoch')\n",
        "plt.legend(['train', 'test'], loc='upper left')\n",
        "plt.show()"
      ],
      "execution_count": 281,
      "outputs": [
        {
          "output_type": "stream",
          "text": [
            "dict_keys(['loss', 'accuracy', 'val_loss', 'val_accuracy'])\n"
          ],
          "name": "stdout"
        },
        {
          "output_type": "display_data",
          "data": {
            "image/png": "[encoded data removed]",
            "text/plain": [
              "<Figure size 432x288 with 1 Axes>"
            ]
          },
          "metadata": {
            "tags": [],
            "needs_background": "light"
          }
        },
        {
          "output_type": "display_data",
          "data": {
            "image/png": "[encoded data removed]",
            "text/plain": [
              "<Figure size 432x288 with 1 Axes>"
            ]
          },
          "metadata": {
            "tags": [],
            "needs_background": "light"
          }
        }
      ]
    },
    {
      "cell_type": "markdown",
      "metadata": {
        "id": "e4xzCBapFZQL"
      },
      "source": [
        "# **FA**"
      ]
    },
    {
      "cell_type": "code",
      "metadata": {
        "colab": {
          "base_uri": "https://localhost:8080/",
          "height": 282
        },
        "id": "HsyVef7JFpOw",
        "outputId": "e657ad34-4ee6-4141-8f92-2235e56df899"
      },
      "source": [
        "\n",
        "plt.scatter(x[:,0], x[:,3], c=y_kmeans, cmap='rainbow')"
      ],
      "execution_count": 319,
      "outputs": [
        {
          "output_type": "execute_result",
          "data": {
            "text/plain": [
              "<matplotlib.collections.PathCollection at 0x7fcb36b8c610>"
            ]
          },
          "metadata": {
            "tags": []
          },
          "execution_count": 319
        },
        {
          "output_type": "display_data",
          "data": {
            "image/png": "[encoded data removed]",
            "text/plain": [
              "<Figure size 432x288 with 1 Axes>"
            ]
          },
          "metadata": {
            "tags": [],
            "needs_background": "light"
          }
        }
      ]
    },
    {
      "cell_type": "code",
      "metadata": {
        "colab": {
          "base_uri": "https://localhost:8080/",
          "height": 295
        },
        "id": "-VKBADI4F4RK",
        "outputId": "125d42d9-4046-4000-c0af-69208cfee01a"
      },
      "source": [
        "Error =[]\n",
        "for i in range(1, 11):\n",
        "    kmeans = KMeans(n_clusters = i).fit(x)\n",
        "    kmeans.fit(x)\n",
        "    Error.append(kmeans.inertia_)\n",
        "import matplotlib.pyplot as plt\n",
        "plt.plot(range(1, 11), Error)\n",
        "plt.title('Elbow method')\n",
        "plt.xlabel('No of clusters')\n",
        "plt.ylabel('Error')\n",
        "plt.show()"
      ],
      "execution_count": 284,
      "outputs": [
        {
          "output_type": "display_data",
          "data": {
            "image/png": "[encoded data removed]",
            "text/plain": [
              "<Figure size 432x288 with 1 Axes>"
            ]
          },
          "metadata": {
            "tags": [],
            "needs_background": "light"
          }
        }
      ]
    },
    {
      "cell_type": "code",
      "metadata": {
        "colab": {
          "base_uri": "https://localhost:8080/"
        },
        "id": "ISLz45V46tNF",
        "outputId": "bf340f71-5a4e-4b66-d08b-7baa22bbfeaa"
      },
      "source": [
        "import matplotlib.pyplot as plt\n",
        "from sklearn.decomposition import FactorAnalysis\n",
        "from sklearn import datasets\n",
        "\n",
        "cancer = datasets.load_iris()\n",
        "\n",
        "X = cancer.data\n",
        "y = cancer.target\n",
        "target = cancer.target\n",
        "\n",
        "fa = FactorAnalysis(n_components= 2)\n",
        "X_r2 = fa.fit_transform(X)\n",
        "X_r2 [:5]"
      ],
      "execution_count": 285,
      "outputs": [
        {
          "output_type": "execute_result",
          "data": {
            "text/plain": [
              "array([[-1.32761727, -0.56131076],\n",
              "       [-1.33763854, -0.00279765],\n",
              "       [-1.40281483,  0.30634949],\n",
              "       [-1.30104274,  0.71882683],\n",
              "       [-1.33342439, -0.36458899]])"
            ]
          },
          "metadata": {
            "tags": []
          },
          "execution_count": 285
        }
      ]
    },
    {
      "cell_type": "code",
      "metadata": {
        "id": "AhQFH-4X69Cd"
      },
      "source": [
        "from sklearn.preprocessing import StandardScaler\n",
        "x = StandardScaler().fit_transform(x)"
      ],
      "execution_count": 286,
      "outputs": []
    },
    {
      "cell_type": "code",
      "metadata": {
        "colab": {
          "base_uri": "https://localhost:8080/",
          "height": 298
        },
        "id": "leygnXCb6-0d",
        "outputId": "ce9d46be-2c6a-4392-de31-410785074d13"
      },
      "source": [
        "plt.figure()\n",
        "target = ['M', 'B']\n",
        "colors = ['r', 'b']\n",
        "\n",
        "for color, i, target in zip(colors,[0, 1], target):\n",
        "  plt.scatter(X_r2[y == i, 0], X_r2[y == i,1], alpha=.8, color=color,\n",
        "              label = target)\n",
        "plt.legend(loc = 'best', shadow = False, scatterpoints = 1)\n",
        "plt.title('FA of Cancer clustering')"
      ],
      "execution_count": 287,
      "outputs": [
        {
          "output_type": "execute_result",
          "data": {
            "text/plain": [
              "Text(0.5, 1.0, 'FA of Cancer clustering')"
            ]
          },
          "metadata": {
            "tags": []
          },
          "execution_count": 287
        },
        {
          "output_type": "display_data",
          "data": {
            "image/png": "[encoded data removed]",
            "text/plain": [
              "<Figure size 432x288 with 1 Axes>"
            ]
          },
          "metadata": {
            "tags": [],
            "needs_background": "light"
          }
        }
      ]
    },
    {
      "cell_type": "code",
      "metadata": {
        "colab": {
          "base_uri": "https://localhost:8080/"
        },
        "id": "c6vCCCxz7Bxs",
        "outputId": "656c74de-39d4-4310-a914-bfe9ca6e3dd3"
      },
      "source": [
        "print(X)"
      ],
      "execution_count": 288,
      "outputs": [
        {
          "output_type": "stream",
          "text": [
            "[[5.1 3.5 1.4 0.2]\n",
            " [4.9 3.  1.4 0.2]\n",
            " [4.7 3.2 1.3 0.2]\n",
            " [4.6 3.1 1.5 0.2]\n",
            " [5.  3.6 1.4 0.2]\n",
            " [5.4 3.9 1.7 0.4]\n",
            " [4.6 3.4 1.4 0.3]\n",
            " [5.  3.4 1.5 0.2]\n",
            " [4.4 2.9 1.4 0.2]\n",
            " [4.9 3.1 1.5 0.1]\n",
            " [5.4 3.7 1.5 0.2]\n",
            " [4.8 3.4 1.6 0.2]\n",
            " [4.8 3.  1.4 0.1]\n",
            " [4.3 3.  1.1 0.1]\n",
            " [5.8 4.  1.2 0.2]\n",
            " [5.7 4.4 1.5 0.4]\n",
            " [5.4 3.9 1.3 0.4]\n",
            " [5.1 3.5 1.4 0.3]\n",
            " [5.7 3.8 1.7 0.3]\n",
            " [5.1 3.8 1.5 0.3]\n",
            " [5.4 3.4 1.7 0.2]\n",
            " [5.1 3.7 1.5 0.4]\n",
            " [4.6 3.6 1.  0.2]\n",
            " [5.1 3.3 1.7 0.5]\n",
            " [4.8 3.4 1.9 0.2]\n",
            " [5.  3.  1.6 0.2]\n",
            " [5.  3.4 1.6 0.4]\n",
            " [5.2 3.5 1.5 0.2]\n",
            " [5.2 3.4 1.4 0.2]\n",
            " [4.7 3.2 1.6 0.2]\n",
            " [4.8 3.1 1.6 0.2]\n",
            " [5.4 3.4 1.5 0.4]\n",
            " [5.2 4.1 1.5 0.1]\n",
            " [5.5 4.2 1.4 0.2]\n",
            " [4.9 3.1 1.5 0.2]\n",
            " [5.  3.2 1.2 0.2]\n",
            " [5.5 3.5 1.3 0.2]\n",
            " [4.9 3.6 1.4 0.1]\n",
            " [4.4 3.  1.3 0.2]\n",
            " [5.1 3.4 1.5 0.2]\n",
            " [5.  3.5 1.3 0.3]\n",
            " [4.5 2.3 1.3 0.3]\n",
            " [4.4 3.2 1.3 0.2]\n",
            " [5.  3.5 1.6 0.6]\n",
            " [5.1 3.8 1.9 0.4]\n",
            " [4.8 3.  1.4 0.3]\n",
            " [5.1 3.8 1.6 0.2]\n",
            " [4.6 3.2 1.4 0.2]\n",
            " [5.3 3.7 1.5 0.2]\n",
            " [5.  3.3 1.4 0.2]\n",
            " [7.  3.2 4.7 1.4]\n",
            " [6.4 3.2 4.5 1.5]\n",
            " [6.9 3.1 4.9 1.5]\n",
            " [5.5 2.3 4.  1.3]\n",
            " [6.5 2.8 4.6 1.5]\n",
            " [5.7 2.8 4.5 1.3]\n",
            " [6.3 3.3 4.7 1.6]\n",
            " [4.9 2.4 3.3 1. ]\n",
            " [6.6 2.9 4.6 1.3]\n",
            " [5.2 2.7 3.9 1.4]\n",
            " [5.  2.  3.5 1. ]\n",
            " [5.9 3.  4.2 1.5]\n",
            " [6.  2.2 4.  1. ]\n",
            " [6.1 2.9 4.7 1.4]\n",
            " [5.6 2.9 3.6 1.3]\n",
            " [6.7 3.1 4.4 1.4]\n",
            " [5.6 3.  4.5 1.5]\n",
            " [5.8 2.7 4.1 1. ]\n",
            " [6.2 2.2 4.5 1.5]\n",
            " [5.6 2.5 3.9 1.1]\n",
            " [5.9 3.2 4.8 1.8]\n",
            " [6.1 2.8 4.  1.3]\n",
            " [6.3 2.5 4.9 1.5]\n",
            " [6.1 2.8 4.7 1.2]\n",
            " [6.4 2.9 4.3 1.3]\n",
            " [6.6 3.  4.4 1.4]\n",
            " [6.8 2.8 4.8 1.4]\n",
            " [6.7 3.  5.  1.7]\n",
            " [6.  2.9 4.5 1.5]\n",
            " [5.7 2.6 3.5 1. ]\n",
            " [5.5 2.4 3.8 1.1]\n",
            " [5.5 2.4 3.7 1. ]\n",
            " [5.8 2.7 3.9 1.2]\n",
            " [6.  2.7 5.1 1.6]\n",
            " [5.4 3.  4.5 1.5]\n",
            " [6.  3.4 4.5 1.6]\n",
            " [6.7 3.1 4.7 1.5]\n",
            " [6.3 2.3 4.4 1.3]\n",
            " [5.6 3.  4.1 1.3]\n",
            " [5.5 2.5 4.  1.3]\n",
            " [5.5 2.6 4.4 1.2]\n",
            " [6.1 3.  4.6 1.4]\n",
            " [5.8 2.6 4.  1.2]\n",
            " [5.  2.3 3.3 1. ]\n",
            " [5.6 2.7 4.2 1.3]\n",
            " [5.7 3.  4.2 1.2]\n",
            " [5.7 2.9 4.2 1.3]\n",
            " [6.2 2.9 4.3 1.3]\n",
            " [5.1 2.5 3.  1.1]\n",
            " [5.7 2.8 4.1 1.3]\n",
            " [6.3 3.3 6.  2.5]\n",
            " [5.8 2.7 5.1 1.9]\n",
            " [7.1 3.  5.9 2.1]\n",
            " [6.3 2.9 5.6 1.8]\n",
            " [6.5 3.  5.8 2.2]\n",
            " [7.6 3.  6.6 2.1]\n",
            " [4.9 2.5 4.5 1.7]\n",
            " [7.3 2.9 6.3 1.8]\n",
            " [6.7 2.5 5.8 1.8]\n",
            " [7.2 3.6 6.1 2.5]\n",
            " [6.5 3.2 5.1 2. ]\n",
            " [6.4 2.7 5.3 1.9]\n",
            " [6.8 3.  5.5 2.1]\n",
            " [5.7 2.5 5.  2. ]\n",
            " [5.8 2.8 5.1 2.4]\n",
            " [6.4 3.2 5.3 2.3]\n",
            " [6.5 3.  5.5 1.8]\n",
            " [7.7 3.8 6.7 2.2]\n",
            " [7.7 2.6 6.9 2.3]\n",
            " [6.  2.2 5.  1.5]\n",
            " [6.9 3.2 5.7 2.3]\n",
            " [5.6 2.8 4.9 2. ]\n",
            " [7.7 2.8 6.7 2. ]\n",
            " [6.3 2.7 4.9 1.8]\n",
            " [6.7 3.3 5.7 2.1]\n",
            " [7.2 3.2 6.  1.8]\n",
            " [6.2 2.8 4.8 1.8]\n",
            " [6.1 3.  4.9 1.8]\n",
            " [6.4 2.8 5.6 2.1]\n",
            " [7.2 3.  5.8 1.6]\n",
            " [7.4 2.8 6.1 1.9]\n",
            " [7.9 3.8 6.4 2. ]\n",
            " [6.4 2.8 5.6 2.2]\n",
            " [6.3 2.8 5.1 1.5]\n",
            " [6.1 2.6 5.6 1.4]\n",
            " [7.7 3.  6.1 2.3]\n",
            " [6.3 3.4 5.6 2.4]\n",
            " [6.4 3.1 5.5 1.8]\n",
            " [6.  3.  4.8 1.8]\n",
            " [6.9 3.1 5.4 2.1]\n",
            " [6.7 3.1 5.6 2.4]\n",
            " [6.9 3.1 5.1 2.3]\n",
            " [5.8 2.7 5.1 1.9]\n",
            " [6.8 3.2 5.9 2.3]\n",
            " [6.7 3.3 5.7 2.5]\n",
            " [6.7 3.  5.2 2.3]\n",
            " [6.3 2.5 5.  1.9]\n",
            " [6.5 3.  5.2 2. ]\n",
            " [6.2 3.4 5.4 2.3]\n",
            " [5.9 3.  5.1 1.8]]\n"
          ],
          "name": "stdout"
        }
      ]
    },
    {
      "cell_type": "code",
      "metadata": {
        "colab": {
          "base_uri": "https://localhost:8080/"
        },
        "id": "vYGVGJ2k7D2u",
        "outputId": "c0cea51a-f345-4e7c-b7ac-5797c0f27a88"
      },
      "source": [
        "print(y)"
      ],
      "execution_count": 289,
      "outputs": [
        {
          "output_type": "stream",
          "text": [
            "[0 0 0 0 0 0 0 0 0 0 0 0 0 0 0 0 0 0 0 0 0 0 0 0 0 0 0 0 0 0 0 0 0 0 0 0 0\n",
            " 0 0 0 0 0 0 0 0 0 0 0 0 0 1 1 1 1 1 1 1 1 1 1 1 1 1 1 1 1 1 1 1 1 1 1 1 1\n",
            " 1 1 1 1 1 1 1 1 1 1 1 1 1 1 1 1 1 1 1 1 1 1 1 1 1 1 2 2 2 2 2 2 2 2 2 2 2\n",
            " 2 2 2 2 2 2 2 2 2 2 2 2 2 2 2 2 2 2 2 2 2 2 2 2 2 2 2 2 2 2 2 2 2 2 2 2 2\n",
            " 2 2]\n"
          ],
          "name": "stdout"
        }
      ]
    },
    {
      "cell_type": "code",
      "metadata": {
        "colab": {
          "base_uri": "https://localhost:8080/"
        },
        "id": "1krV5dr_7F4R",
        "outputId": "0387ce95-f524-40e3-ad06-f18bf98f37ab"
      },
      "source": [
        "from sklearn.model_selection import train_test_split\n",
        "(trainX, testX, trainY, testY) = train_test_split(np.array(X),\tnp.array(y), test_size=0.2)\n",
        "\n",
        "print(trainX.shape)\n",
        "print(testX.shape)\n",
        "\n",
        "print(trainY.shape)\n",
        "print(testY.shape)"
      ],
      "execution_count": 290,
      "outputs": [
        {
          "output_type": "stream",
          "text": [
            "(120, 4)\n",
            "(30, 4)\n",
            "(120,)\n",
            "(30,)\n"
          ],
          "name": "stdout"
        }
      ]
    },
    {
      "cell_type": "code",
      "metadata": {
        "id": "OkpU5e9n7HuI"
      },
      "source": [
        "from keras.applications.mobilenet import MobileNet\n",
        "from keras.callbacks import EarlyStopping, ModelCheckpoint\n",
        "from keras.models import Model\n",
        "from keras.layers import GlobalAveragePooling2D, BatchNormalization"
      ],
      "execution_count": 291,
      "outputs": []
    },
    {
      "cell_type": "code",
      "metadata": {
        "id": "mEVZyGO87Jnt"
      },
      "source": [
        "es = EarlyStopping(monitor='val_loss',\n",
        "                   patience=10,\n",
        "                   mode='auto',\n",
        "                   restore_best_weights=True)\n",
        "checkpoint = ModelCheckpoint('best_weight_scene',\n",
        "                             monitor='val_accuracy',\n",
        "                             verbose=1,\n",
        "                             save_best_only=True,\n",
        "                             mode='auto',)"
      ],
      "execution_count": 292,
      "outputs": []
    },
    {
      "cell_type": "code",
      "metadata": {
        "id": "0jJ44nk87Lel"
      },
      "source": [
        "from keras.models import Sequential\n",
        "from keras.layers.core import Flatten\n",
        "from keras.layers.core import Dense\n",
        "\n",
        "model = Sequential(\n",
        "    [   \n",
        "        Flatten(input_shape=(4,)),\n",
        "        Dense(128, activation=\"relu\", name=\"layer1\"),\n",
        "        Dense(128, activation=\"relu\", name=\"layer2\"),\n",
        "        Dense(1, activation = \"sigmoid\", name=\"layer3\"),\n",
        "    ]\n",
        ")"
      ],
      "execution_count": 293,
      "outputs": []
    },
    {
      "cell_type": "code",
      "metadata": {
        "colab": {
          "base_uri": "https://localhost:8080/"
        },
        "id": "_vqmiT1y7NP1",
        "outputId": "56f4a0f3-6663-4d19-c3bb-696530143c40"
      },
      "source": [
        "model.summary()"
      ],
      "execution_count": 294,
      "outputs": [
        {
          "output_type": "stream",
          "text": [
            "Model: \"sequential_16\"\n",
            "_________________________________________________________________\n",
            "Layer (type)                 Output Shape              Param #   \n",
            "=================================================================\n",
            "flatten_16 (Flatten)         (None, 4)                 0         \n",
            "_________________________________________________________________\n",
            "layer1 (Dense)               (None, 128)               640       \n",
            "_________________________________________________________________\n",
            "layer2 (Dense)               (None, 128)               16512     \n",
            "_________________________________________________________________\n",
            "layer3 (Dense)               (None, 1)                 129       \n",
            "=================================================================\n",
            "Total params: 17,281\n",
            "Trainable params: 17,281\n",
            "Non-trainable params: 0\n",
            "_________________________________________________________________\n"
          ],
          "name": "stdout"
        }
      ]
    },
    {
      "cell_type": "code",
      "metadata": {
        "id": "DihQ6vyV7RME"
      },
      "source": [
        "model.compile(loss='mse', optimizer='adam', metrics=['accuracy'])"
      ],
      "execution_count": 295,
      "outputs": []
    },
    {
      "cell_type": "code",
      "metadata": {
        "colab": {
          "base_uri": "https://localhost:8080/"
        },
        "id": "z4aCCvoc7Tu0",
        "outputId": "4d39246c-a5df-477a-b9d8-85b5dbed8cc0"
      },
      "source": [
        "H = model.fit(trainX, trainY, validation_data=(testX, testY), epochs=40, batch_size=32, callbacks=[es, checkpoint])"
      ],
      "execution_count": 296,
      "outputs": [
        {
          "output_type": "stream",
          "text": [
            "Epoch 1/40\n",
            "4/4 [==============================] - 1s 105ms/step - loss: 0.8270 - accuracy: 0.4019 - val_loss: 0.4794 - val_accuracy: 0.3333\n",
            "\n",
            "Epoch 00001: val_accuracy improved from -inf to 0.33333, saving model to best_weight_scene\n",
            "INFO:tensorflow:Assets written to: best_weight_scene/assets\n",
            "Epoch 2/40\n",
            "4/4 [==============================] - 0s 9ms/step - loss: 0.5652 - accuracy: 0.3427 - val_loss: 0.4772 - val_accuracy: 0.3333\n",
            "\n",
            "Epoch 00002: val_accuracy did not improve from 0.33333\n",
            "Epoch 3/40\n",
            "4/4 [==============================] - 0s 10ms/step - loss: 0.5682 - accuracy: 0.3083 - val_loss: 0.4508 - val_accuracy: 0.3333\n",
            "\n",
            "Epoch 00003: val_accuracy did not improve from 0.33333\n",
            "Epoch 4/40\n",
            "4/4 [==============================] - 0s 10ms/step - loss: 0.5080 - accuracy: 0.3448 - val_loss: 0.3863 - val_accuracy: 0.3667\n",
            "\n",
            "Epoch 00004: val_accuracy improved from 0.33333 to 0.36667, saving model to best_weight_scene\n",
            "INFO:tensorflow:Assets written to: best_weight_scene/assets\n",
            "Epoch 5/40\n",
            "4/4 [==============================] - 0s 11ms/step - loss: 0.4839 - accuracy: 0.4727 - val_loss: 0.3254 - val_accuracy: 0.7667\n",
            "\n",
            "Epoch 00005: val_accuracy improved from 0.36667 to 0.76667, saving model to best_weight_scene\n",
            "INFO:tensorflow:Assets written to: best_weight_scene/assets\n",
            "Epoch 6/40\n",
            "4/4 [==============================] - 0s 10ms/step - loss: 0.4194 - accuracy: 0.6608 - val_loss: 0.2999 - val_accuracy: 0.7667\n",
            "\n",
            "Epoch 00006: val_accuracy did not improve from 0.76667\n",
            "Epoch 7/40\n",
            "4/4 [==============================] - 0s 11ms/step - loss: 0.3910 - accuracy: 0.6723 - val_loss: 0.2825 - val_accuracy: 0.7667\n",
            "\n",
            "Epoch 00007: val_accuracy did not improve from 0.76667\n",
            "Epoch 8/40\n",
            "4/4 [==============================] - 0s 12ms/step - loss: 0.4125 - accuracy: 0.6348 - val_loss: 0.2744 - val_accuracy: 0.7667\n",
            "\n",
            "Epoch 00008: val_accuracy did not improve from 0.76667\n",
            "Epoch 9/40\n",
            "4/4 [==============================] - 0s 15ms/step - loss: 0.3869 - accuracy: 0.6431 - val_loss: 0.2698 - val_accuracy: 0.7667\n",
            "\n",
            "Epoch 00009: val_accuracy did not improve from 0.76667\n",
            "Epoch 10/40\n",
            "4/4 [==============================] - 0s 12ms/step - loss: 0.3916 - accuracy: 0.6327 - val_loss: 0.2611 - val_accuracy: 0.7667\n",
            "\n",
            "Epoch 00010: val_accuracy did not improve from 0.76667\n",
            "Epoch 11/40\n",
            "4/4 [==============================] - 0s 11ms/step - loss: 0.3723 - accuracy: 0.6483 - val_loss: 0.2523 - val_accuracy: 0.7667\n",
            "\n",
            "Epoch 00011: val_accuracy did not improve from 0.76667\n",
            "Epoch 12/40\n",
            "4/4 [==============================] - 0s 11ms/step - loss: 0.3606 - accuracy: 0.6546 - val_loss: 0.2473 - val_accuracy: 0.7667\n",
            "\n",
            "Epoch 00012: val_accuracy did not improve from 0.76667\n",
            "Epoch 13/40\n",
            "4/4 [==============================] - 0s 11ms/step - loss: 0.3477 - accuracy: 0.6629 - val_loss: 0.2446 - val_accuracy: 0.7667\n",
            "\n",
            "Epoch 00013: val_accuracy did not improve from 0.76667\n",
            "Epoch 14/40\n",
            "4/4 [==============================] - 0s 11ms/step - loss: 0.3151 - accuracy: 0.6942 - val_loss: 0.2428 - val_accuracy: 0.7667\n",
            "\n",
            "Epoch 00014: val_accuracy did not improve from 0.76667\n",
            "Epoch 15/40\n",
            "4/4 [==============================] - 0s 10ms/step - loss: 0.3149 - accuracy: 0.6931 - val_loss: 0.2416 - val_accuracy: 0.7667\n",
            "\n",
            "Epoch 00015: val_accuracy did not improve from 0.76667\n",
            "Epoch 16/40\n",
            "4/4 [==============================] - 0s 13ms/step - loss: 0.3606 - accuracy: 0.6462 - val_loss: 0.2408 - val_accuracy: 0.7667\n",
            "\n",
            "Epoch 00016: val_accuracy did not improve from 0.76667\n",
            "Epoch 17/40\n",
            "4/4 [==============================] - 0s 10ms/step - loss: 0.3832 - accuracy: 0.6223 - val_loss: 0.2402 - val_accuracy: 0.7667\n",
            "\n",
            "Epoch 00017: val_accuracy did not improve from 0.76667\n",
            "Epoch 18/40\n",
            "4/4 [==============================] - 0s 12ms/step - loss: 0.3827 - accuracy: 0.6223 - val_loss: 0.2396 - val_accuracy: 0.7667\n",
            "\n",
            "Epoch 00018: val_accuracy did not improve from 0.76667\n",
            "Epoch 19/40\n",
            "4/4 [==============================] - 0s 11ms/step - loss: 0.3774 - accuracy: 0.6275 - val_loss: 0.2390 - val_accuracy: 0.7667\n",
            "\n",
            "Epoch 00019: val_accuracy did not improve from 0.76667\n",
            "Epoch 20/40\n",
            "4/4 [==============================] - 0s 11ms/step - loss: 0.3380 - accuracy: 0.6660 - val_loss: 0.2384 - val_accuracy: 0.7667\n",
            "\n",
            "Epoch 00020: val_accuracy did not improve from 0.76667\n",
            "Epoch 21/40\n",
            "4/4 [==============================] - 0s 10ms/step - loss: 0.3728 - accuracy: 0.6306 - val_loss: 0.2379 - val_accuracy: 0.7667\n",
            "\n",
            "Epoch 00021: val_accuracy did not improve from 0.76667\n",
            "Epoch 22/40\n",
            "4/4 [==============================] - 0s 10ms/step - loss: 0.3313 - accuracy: 0.6723 - val_loss: 0.2375 - val_accuracy: 0.7667\n",
            "\n",
            "Epoch 00022: val_accuracy did not improve from 0.76667\n",
            "Epoch 23/40\n",
            "4/4 [==============================] - 0s 12ms/step - loss: 0.3349 - accuracy: 0.6681 - val_loss: 0.2372 - val_accuracy: 0.7667\n",
            "\n",
            "Epoch 00023: val_accuracy did not improve from 0.76667\n",
            "Epoch 24/40\n",
            "4/4 [==============================] - 0s 10ms/step - loss: 0.3484 - accuracy: 0.6546 - val_loss: 0.2369 - val_accuracy: 0.7667\n",
            "\n",
            "Epoch 00024: val_accuracy did not improve from 0.76667\n",
            "Epoch 25/40\n",
            "4/4 [==============================] - 0s 11ms/step - loss: 0.3462 - accuracy: 0.6567 - val_loss: 0.2367 - val_accuracy: 0.7667\n",
            "\n",
            "Epoch 00025: val_accuracy did not improve from 0.76667\n",
            "Epoch 26/40\n",
            "4/4 [==============================] - 0s 11ms/step - loss: 0.3385 - accuracy: 0.6640 - val_loss: 0.2365 - val_accuracy: 0.7667\n",
            "\n",
            "Epoch 00026: val_accuracy did not improve from 0.76667\n",
            "Epoch 27/40\n",
            "4/4 [==============================] - 0s 11ms/step - loss: 0.3488 - accuracy: 0.6535 - val_loss: 0.2362 - val_accuracy: 0.7667\n",
            "\n",
            "Epoch 00027: val_accuracy did not improve from 0.76667\n",
            "Epoch 28/40\n",
            "4/4 [==============================] - 0s 11ms/step - loss: 0.3421 - accuracy: 0.6598 - val_loss: 0.2361 - val_accuracy: 0.7667\n",
            "\n",
            "Epoch 00028: val_accuracy did not improve from 0.76667\n",
            "Epoch 29/40\n",
            "4/4 [==============================] - 0s 12ms/step - loss: 0.3703 - accuracy: 0.6317 - val_loss: 0.2359 - val_accuracy: 0.7667\n",
            "\n",
            "Epoch 00029: val_accuracy did not improve from 0.76667\n",
            "Epoch 30/40\n",
            "4/4 [==============================] - 0s 11ms/step - loss: 0.3662 - accuracy: 0.6358 - val_loss: 0.2357 - val_accuracy: 0.7667\n",
            "\n",
            "Epoch 00030: val_accuracy did not improve from 0.76667\n",
            "Epoch 31/40\n",
            "4/4 [==============================] - 0s 11ms/step - loss: 0.3480 - accuracy: 0.6535 - val_loss: 0.2356 - val_accuracy: 0.7667\n",
            "\n",
            "Epoch 00031: val_accuracy did not improve from 0.76667\n",
            "Epoch 32/40\n",
            "4/4 [==============================] - 0s 11ms/step - loss: 0.3647 - accuracy: 0.6369 - val_loss: 0.2354 - val_accuracy: 0.7667\n",
            "\n",
            "Epoch 00032: val_accuracy did not improve from 0.76667\n",
            "Epoch 33/40\n",
            "4/4 [==============================] - 0s 11ms/step - loss: 0.3729 - accuracy: 0.6285 - val_loss: 0.2352 - val_accuracy: 0.7667\n",
            "\n",
            "Epoch 00033: val_accuracy did not improve from 0.76667\n",
            "Epoch 34/40\n",
            "4/4 [==============================] - 0s 11ms/step - loss: 0.3405 - accuracy: 0.6608 - val_loss: 0.2351 - val_accuracy: 0.7667\n",
            "\n",
            "Epoch 00034: val_accuracy did not improve from 0.76667\n",
            "Epoch 35/40\n",
            "4/4 [==============================] - 0s 11ms/step - loss: 0.3676 - accuracy: 0.6337 - val_loss: 0.2350 - val_accuracy: 0.7667\n",
            "\n",
            "Epoch 00035: val_accuracy did not improve from 0.76667\n",
            "Epoch 36/40\n",
            "4/4 [==============================] - 0s 14ms/step - loss: 0.3444 - accuracy: 0.6567 - val_loss: 0.2349 - val_accuracy: 0.7667\n",
            "\n",
            "Epoch 00036: val_accuracy did not improve from 0.76667\n",
            "Epoch 37/40\n",
            "4/4 [==============================] - 0s 12ms/step - loss: 0.3518 - accuracy: 0.6494 - val_loss: 0.2348 - val_accuracy: 0.7667\n",
            "\n",
            "Epoch 00037: val_accuracy did not improve from 0.76667\n",
            "Epoch 38/40\n",
            "4/4 [==============================] - 0s 18ms/step - loss: 0.3402 - accuracy: 0.6608 - val_loss: 0.2347 - val_accuracy: 0.7667\n",
            "\n",
            "Epoch 00038: val_accuracy did not improve from 0.76667\n",
            "Epoch 39/40\n",
            "4/4 [==============================] - 0s 11ms/step - loss: 0.3504 - accuracy: 0.6504 - val_loss: 0.2346 - val_accuracy: 0.7667\n",
            "\n",
            "Epoch 00039: val_accuracy did not improve from 0.76667\n",
            "Epoch 40/40\n",
            "4/4 [==============================] - 0s 11ms/step - loss: 0.3401 - accuracy: 0.6608 - val_loss: 0.2346 - val_accuracy: 0.7667\n",
            "\n",
            "Epoch 00040: val_accuracy did not improve from 0.76667\n"
          ],
          "name": "stdout"
        }
      ]
    },
    {
      "cell_type": "code",
      "metadata": {
        "colab": {
          "base_uri": "https://localhost:8080/",
          "height": 590
        },
        "id": "l4aBL4HSAGVG",
        "outputId": "c1a8401d-1adb-4d33-e5a3-e0d4be40033a"
      },
      "source": [
        "import matplotlib.pyplot as plt\n",
        "\n",
        "print(H.history.keys())\n",
        "# summarize history for accuracy\n",
        "plt.plot(H.history['accuracy'])\n",
        "plt.plot(H.history['val_accuracy'])\n",
        "plt.title('model accuracy')\n",
        "plt.ylabel('accuracy')\n",
        "plt.xlabel('epoch')\n",
        "plt.legend(['train', 'test'], loc='upper left')\n",
        "plt.show()\n",
        "# summarize history for loss\n",
        "plt.plot(H.history['loss'])\n",
        "plt.plot(H.history['val_loss'])\n",
        "plt.title('model loss')\n",
        "plt.ylabel('loss')\n",
        "plt.xlabel('epoch')\n",
        "plt.legend(['train', 'test'], loc='upper left')\n",
        "plt.show()"
      ],
      "execution_count": 297,
      "outputs": [
        {
          "output_type": "stream",
          "text": [
            "dict_keys(['loss', 'accuracy', 'val_loss', 'val_accuracy'])\n"
          ],
          "name": "stdout"
        },
        {
          "output_type": "display_data",
          "data": {
            "image/png": "[encoded data removed]",
            "text/plain": [
              "<Figure size 432x288 with 1 Axes>"
            ]
          },
          "metadata": {
            "tags": [],
            "needs_background": "light"
          }
        },
        {
          "output_type": "display_data",
          "data": {
            "image/png": "[encoded data removed]",
            "text/plain": [
              "<Figure size 432x288 with 1 Axes>"
            ]
          },
          "metadata": {
            "tags": [],
            "needs_background": "light"
          }
        }
      ]
    }
  ]
}